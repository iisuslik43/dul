{
 "cells": [
  {
   "cell_type": "code",
   "execution_count": 1,
   "metadata": {},
   "outputs": [],
   "source": [
    "import numpy as np\n",
    "import torch\n",
    "import torch.utils.data\n",
    "import matplotlib.pyplot as plt\n",
    "import torch.nn as nn\n",
    "import torch.nn.functional as F\n",
    "from tqdm import tqdm_notebook as tqdm\n",
    "import pickle\n",
    "import torch.nn.functional as F\n",
    "from sklearn.model_selection import train_test_split\n",
    "import pickle\n",
    "device = torch.device('cuda:0' if torch.cuda.is_available() else 'cpu')"
   ]
  },
  {
   "cell_type": "code",
   "execution_count": 14,
   "metadata": {},
   "outputs": [
    {
     "name": "stdout",
     "output_type": "stream",
     "text": [
      "20000 6838\n"
     ]
    }
   ],
   "source": [
    "with open('../data/hw2_q2.pkl', 'rb') as f:\n",
    "    dataset = pickle.load(f)\n",
    "data_train, data_test = dataset['train'], dataset['test']\n",
    "print(len(data_train), len(data_test))"
   ]
  },
  {
   "cell_type": "code",
   "execution_count": 19,
   "metadata": {},
   "outputs": [
    {
     "data": {
      "text/plain": [
       "<matplotlib.image.AxesImage at 0x7f6ed1778550>"
      ]
     },
     "execution_count": 19,
     "metadata": {},
     "output_type": "execute_result"
    },
    {
     "data": {
      "image/png": "[encoded data removed]",
      "text/plain": [
       "<Figure size 432x288 with 1 Axes>"
      ]
     },
     "metadata": {
      "needs_background": "light"
     },
     "output_type": "display_data"
    }
   ],
   "source": [
    "plt.imshow(data_train[91] * 85)"
   ]
  },
  {
   "cell_type": "code",
   "execution_count": null,
   "metadata": {},
   "outputs": [],
   "source": [
    "class ResNetBlock(nn.Module):\n",
    "    def __init__(self, c):\n",
    "        super(ResNetBlock, self).__init__()\n",
    "        self.layers = nn.Sequential(nn.ReLU(),\n",
    "            nn.Conv2d(2 * c, c, 1, stride=1, padding=0),\n",
    "            nn.ReLU(),\n",
    "            nn.Conv2d(c, c, 3, stride=1, padding=1),\n",
    "            nn.ReLU(),\n",
    "            nn.Conv2d(c, 2 * c, 1, stride=1, padding=0)\n",
    "        )\n",
    "\n",
    "    def forward(self, x):\n",
    "        x1 = self.layers(x)\n",
    "        return x + x1\n",
    "    \n",
    "\n",
    "class ResNet(nn.Module):\n",
    "    def __init__(self, n_blocks, c):\n",
    "        super(ResNet, self).__init__()\n",
    "        layers = [nn.Conv2d(3, 2 * c, 7, stride=1, padding=3)]\n",
    "        for _ in range(n_blocks):\n",
    "            layers.append(ResNetBLock(c))\n",
    "        \n",
    "        layers.append(nn.ReLU())\n",
    "        layers.append(nn.Conv2d(2 * c, 6, 1, stride=1, padding=0))\n",
    "        self.layers = nn.Sequentional(*layers)\n",
    "        \n",
    "    def forward(self, x):\n",
    "        return self.layers(x)"
   ]
  },
  {
   "cell_type": "code",
   "execution_count": null,
   "metadata": {},
   "outputs": [],
   "source": [
    "class AffineCoupling(nn.Module):\n",
    "    def __init__(self, n_blocks=8, c=32):\n",
    "        super(AffineCoupling, self).__init__()\n",
    "        self.res_net = ResNet(n_blocks, c)\n",
    "        \n",
    "    \n",
    "    def forward(self, x1, x2):\n",
    "        y1 = x1\n",
    "        log_s, t = torch.split(self.res_net(x1), 2, axis=-1)\n",
    "        y2 = torch.exp(log_s) * (y1 + t)\n",
    "        return y1, y2"
   ]
  },
  {
   "cell_type": "code",
   "execution_count": null,
   "metadata": {},
   "outputs": [],
   "source": [
    "class FlowModel(nn.Module):\n",
    "    def __init__(self):\n",
    "        super(FlowModel, self).__init__()\n",
    "        self.affine_coupling = AffineCoupling()\n",
    "    \n",
    "    def check_board_split(self, x):\n",
    "        \n",
    "        \n",
    "    \n",
    "    def channel_split(self, x):\n",
    "        return torch.split(self.res_net(x), 2, axis=-1)\n",
    "        \n",
    "    def squeeze(self, x):\n",
    "        b, w, h, c = x.shape\n",
    "        return x.reshape(b, w / 2 , h / 2, c * 4)\n",
    "        \n",
    "    def inverse(self, x1, x2):\n",
    "        return torch.cat((x1, x2), dim=-1)\n",
    "    \n",
    "    def forward(self, x):\n",
    "        "
   ]
  },
  {
   "cell_type": "code",
   "execution_count": null,
   "metadata": {},
   "outputs": [],
   "source": [
    "BATCH_SIZE = 32\n",
    "dataset_train = torch.utils.data.DataLoader(\n",
    "    dataset=data_train,\n",
    "    batch_size=BATCH_SIZE,\n",
    "    shuffle=True\n",
    ")\n",
    "dataset_test = torch.utils.data.DataLoader(\n",
    "    dataset=data_test,\n",
    "    batch_size=BATCH_SIZE,\n",
    "    shuffle=False\n",
    ")"
   ]
  },
  {
   "cell_type": "code",
   "execution_count": null,
   "metadata": {},
   "outputs": [],
   "source": [
    "criterion = nn.CrossEntropyLoss()\n",
    "model = FlowModel().to(device)\n",
    "optimizer = torch.optim.Adam(params=model.parameters())\n",
    "\n",
    "# import wandb\n",
    "# wandb.init(project=\"hw2-2\")\n",
    "# wandb.watch(model)"
   ]
  },
  {
   "cell_type": "code",
   "execution_count": 20,
   "metadata": {},
   "outputs": [
    {
     "data": {
      "text/plain": [
       "(20000, 32, 32, 3)"
      ]
     },
     "execution_count": 20,
     "metadata": {},
     "output_type": "execute_result"
    }
   ],
   "source": [
    "data_train.shape"
   ]
  },
  {
   "cell_type": "code",
   "execution_count": null,
   "metadata": {},
   "outputs": [],
   "source": []
  }
 ],
 "metadata": {
  "kernelspec": {
   "display_name": "Python 3",
   "language": "python",
   "name": "python3"
  },
  "language_info": {
   "codemirror_mode": {
    "name": "ipython",
    "version": 3
   },
   "file_extension": ".py",
   "mimetype": "text/x-python",
   "name": "python",
   "nbconvert_exporter": "python",
   "pygments_lexer": "ipython3",
   "version": "3.6.9"
  }
 },
 "nbformat": 4,
 "nbformat_minor": 2
}
