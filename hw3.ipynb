{
  "nbformat": 4,
  "nbformat_minor": 0,
  "metadata": {
    "colab": {
      "name": "hw3.ipynb",
      "provenance": [],
      "collapsed_sections": [
        "KBTq6m76xn96",
        "3qj3cJX_xXGt"
      ],
      "toc_visible": true,
      "include_colab_link": true
    },
    "kernelspec": {
      "name": "python3",
      "display_name": "Python 3"
    },
    "accelerator": "GPU",
    "widgets": {
      "application/vnd.jupyter.widget-state+json": {
        "3709427a278b457ba3229d2f5295c94a": {
          "model_module": "@jupyter-widgets/controls",
          "model_name": "HBoxModel",
          "state": {
            "_view_name": "HBoxView",
            "_dom_classes": [],
            "_model_name": "HBoxModel",
            "_view_module": "@jupyter-widgets/controls",
            "_model_module_version": "1.5.0",
            "_view_count": null,
            "_view_module_version": "1.5.0",
            "box_style": "",
            "layout": "IPY_MODEL_11f89408cc1a4428a90a0869c2d91013",
            "_model_module": "@jupyter-widgets/controls",
            "children": [
              "IPY_MODEL_a8a9825e5dcb43da8f4f19d37775da56",
              "IPY_MODEL_ac87e27b54bf45f1aa7695d9762a2e96"
            ]
          }
        },
        "11f89408cc1a4428a90a0869c2d91013": {
          "model_module": "@jupyter-widgets/base",
          "model_name": "LayoutModel",
          "state": {
            "_view_name": "LayoutView",
            "grid_template_rows": null,
            "right": null,
            "justify_content": null,
            "_view_module": "@jupyter-widgets/base",
            "overflow": null,
            "_model_module_version": "1.2.0",
            "_view_count": null,
            "flex_flow": null,
            "width": null,
            "min_width": null,
            "border": null,
            "align_items": null,
            "bottom": null,
            "_model_module": "@jupyter-widgets/base",
            "top": null,
            "grid_column": null,
            "overflow_y": null,
            "overflow_x": null,
            "grid_auto_flow": null,
            "grid_area": null,
            "grid_template_columns": null,
            "flex": null,
            "_model_name": "LayoutModel",
            "justify_items": null,
            "grid_row": null,
            "max_height": null,
            "align_content": null,
            "visibility": null,
            "align_self": null,
            "height": null,
            "min_height": null,
            "padding": null,
            "grid_auto_rows": null,
            "grid_gap": null,
            "max_width": null,
            "order": null,
            "_view_module_version": "1.2.0",
            "grid_template_areas": null,
            "object_position": null,
            "object_fit": null,
            "grid_auto_columns": null,
            "margin": null,
            "display": null,
            "left": null
          }
        },
        "a8a9825e5dcb43da8f4f19d37775da56": {
          "model_module": "@jupyter-widgets/controls",
          "model_name": "IntProgressModel",
          "state": {
            "_view_name": "ProgressView",
            "style": "IPY_MODEL_7f29b0d533814a34b25a444b4224173c",
            "_dom_classes": [],
            "description": "",
            "_model_name": "IntProgressModel",
            "bar_style": "success",
            "max": 40,
            "_view_module": "@jupyter-widgets/controls",
            "_model_module_version": "1.5.0",
            "value": 40,
            "_view_count": null,
            "_view_module_version": "1.5.0",
            "orientation": "horizontal",
            "min": 0,
            "description_tooltip": null,
            "_model_module": "@jupyter-widgets/controls",
            "layout": "IPY_MODEL_3ea2618130324e1dab459859d1d39718"
          }
        },
        "ac87e27b54bf45f1aa7695d9762a2e96": {
          "model_module": "@jupyter-widgets/controls",
          "model_name": "HTMLModel",
          "state": {
            "_view_name": "HTMLView",
            "style": "IPY_MODEL_3b2de3d645b34a33b0824cf067e185fa",
            "_dom_classes": [],
            "description": "",
            "_model_name": "HTMLModel",
            "placeholder": "​",
            "_view_module": "@jupyter-widgets/controls",
            "_model_module_version": "1.5.0",
            "value": "100% 40/40 [03:13&lt;00:00,  4.79s/it]",
            "_view_count": null,
            "_view_module_version": "1.5.0",
            "description_tooltip": null,
            "_model_module": "@jupyter-widgets/controls",
            "layout": "IPY_MODEL_9151b9aeac7a40fcbf559992d8428052"
          }
        },
        "7f29b0d533814a34b25a444b4224173c": {
          "model_module": "@jupyter-widgets/controls",
          "model_name": "ProgressStyleModel",
          "state": {
            "_view_name": "StyleView",
            "_model_name": "ProgressStyleModel",
            "description_width": "",
            "_view_module": "@jupyter-widgets/base",
            "_model_module_version": "1.5.0",
            "_view_count": null,
            "_view_module_version": "1.2.0",
            "bar_color": null,
            "_model_module": "@jupyter-widgets/controls"
          }
        },
        "3ea2618130324e1dab459859d1d39718": {
          "model_module": "@jupyter-widgets/base",
          "model_name": "LayoutModel",
          "state": {
            "_view_name": "LayoutView",
            "grid_template_rows": null,
            "right": null,
            "justify_content": null,
            "_view_module": "@jupyter-widgets/base",
            "overflow": null,
            "_model_module_version": "1.2.0",
            "_view_count": null,
            "flex_flow": null,
            "width": null,
            "min_width": null,
            "border": null,
            "align_items": null,
            "bottom": null,
            "_model_module": "@jupyter-widgets/base",
            "top": null,
            "grid_column": null,
            "overflow_y": null,
            "overflow_x": null,
            "grid_auto_flow": null,
            "grid_area": null,
            "grid_template_columns": null,
            "flex": null,
            "_model_name": "LayoutModel",
            "justify_items": null,
            "grid_row": null,
            "max_height": null,
            "align_content": null,
            "visibility": null,
            "align_self": null,
            "height": null,
            "min_height": null,
            "padding": null,
            "grid_auto_rows": null,
            "grid_gap": null,
            "max_width": null,
            "order": null,
            "_view_module_version": "1.2.0",
            "grid_template_areas": null,
            "object_position": null,
            "object_fit": null,
            "grid_auto_columns": null,
            "margin": null,
            "display": null,
            "left": null
          }
        },
        "3b2de3d645b34a33b0824cf067e185fa": {
          "model_module": "@jupyter-widgets/controls",
          "model_name": "DescriptionStyleModel",
          "state": {
            "_view_name": "StyleView",
            "_model_name": "DescriptionStyleModel",
            "description_width": "",
            "_view_module": "@jupyter-widgets/base",
            "_model_module_version": "1.5.0",
            "_view_count": null,
            "_view_module_version": "1.2.0",
            "_model_module": "@jupyter-widgets/controls"
          }
        },
        "9151b9aeac7a40fcbf559992d8428052": {
          "model_module": "@jupyter-widgets/base",
          "model_name": "LayoutModel",
          "state": {
            "_view_name": "LayoutView",
            "grid_template_rows": null,
            "right": null,
            "justify_content": null,
            "_view_module": "@jupyter-widgets/base",
            "overflow": null,
            "_model_module_version": "1.2.0",
            "_view_count": null,
            "flex_flow": null,
            "width": null,
            "min_width": null,
            "border": null,
            "align_items": null,
            "bottom": null,
            "_model_module": "@jupyter-widgets/base",
            "top": null,
            "grid_column": null,
            "overflow_y": null,
            "overflow_x": null,
            "grid_auto_flow": null,
            "grid_area": null,
            "grid_template_columns": null,
            "flex": null,
            "_model_name": "LayoutModel",
            "justify_items": null,
            "grid_row": null,
            "max_height": null,
            "align_content": null,
            "visibility": null,
            "align_self": null,
            "height": null,
            "min_height": null,
            "padding": null,
            "grid_auto_rows": null,
            "grid_gap": null,
            "max_width": null,
            "order": null,
            "_view_module_version": "1.2.0",
            "grid_template_areas": null,
            "object_position": null,
            "object_fit": null,
            "grid_auto_columns": null,
            "margin": null,
            "display": null,
            "left": null
          }
        },
        "d15fb4f5e3cc4c9cab68e95116b93ee0": {
          "model_module": "@jupyter-widgets/controls",
          "model_name": "HBoxModel",
          "state": {
            "_view_name": "HBoxView",
            "_dom_classes": [],
            "_model_name": "HBoxModel",
            "_view_module": "@jupyter-widgets/controls",
            "_model_module_version": "1.5.0",
            "_view_count": null,
            "_view_module_version": "1.5.0",
            "box_style": "",
            "layout": "IPY_MODEL_eecf18da1e7c47c8ac74e546827605eb",
            "_model_module": "@jupyter-widgets/controls",
            "children": [
              "IPY_MODEL_9a24bdeca865481a8d7ab03f366777a0",
              "IPY_MODEL_466e26356fd544b1800b62e4583b30d7"
            ]
          }
        },
        "eecf18da1e7c47c8ac74e546827605eb": {
          "model_module": "@jupyter-widgets/base",
          "model_name": "LayoutModel",
          "state": {
            "_view_name": "LayoutView",
            "grid_template_rows": null,
            "right": null,
            "justify_content": null,
            "_view_module": "@jupyter-widgets/base",
            "overflow": null,
            "_model_module_version": "1.2.0",
            "_view_count": null,
            "flex_flow": null,
            "width": null,
            "min_width": null,
            "border": null,
            "align_items": null,
            "bottom": null,
            "_model_module": "@jupyter-widgets/base",
            "top": null,
            "grid_column": null,
            "overflow_y": null,
            "overflow_x": null,
            "grid_auto_flow": null,
            "grid_area": null,
            "grid_template_columns": null,
            "flex": null,
            "_model_name": "LayoutModel",
            "justify_items": null,
            "grid_row": null,
            "max_height": null,
            "align_content": null,
            "visibility": null,
            "align_self": null,
            "height": null,
            "min_height": null,
            "padding": null,
            "grid_auto_rows": null,
            "grid_gap": null,
            "max_width": null,
            "order": null,
            "_view_module_version": "1.2.0",
            "grid_template_areas": null,
            "object_position": null,
            "object_fit": null,
            "grid_auto_columns": null,
            "margin": null,
            "display": null,
            "left": null
          }
        },
        "9a24bdeca865481a8d7ab03f366777a0": {
          "model_module": "@jupyter-widgets/controls",
          "model_name": "IntProgressModel",
          "state": {
            "_view_name": "ProgressView",
            "style": "IPY_MODEL_fe76740fbf834735bc4d19da0c594a32",
            "_dom_classes": [],
            "description": "",
            "_model_name": "IntProgressModel",
            "bar_style": "success",
            "max": 40,
            "_view_module": "@jupyter-widgets/controls",
            "_model_module_version": "1.5.0",
            "value": 40,
            "_view_count": null,
            "_view_module_version": "1.5.0",
            "orientation": "horizontal",
            "min": 0,
            "description_tooltip": null,
            "_model_module": "@jupyter-widgets/controls",
            "layout": "IPY_MODEL_761b4dcca0b64d4bb4c8a58448838de8"
          }
        },
        "466e26356fd544b1800b62e4583b30d7": {
          "model_module": "@jupyter-widgets/controls",
          "model_name": "HTMLModel",
          "state": {
            "_view_name": "HTMLView",
            "style": "IPY_MODEL_ee3b8cea66944275a2bdfb0ad665212a",
            "_dom_classes": [],
            "description": "",
            "_model_name": "HTMLModel",
            "placeholder": "​",
            "_view_module": "@jupyter-widgets/controls",
            "_model_module_version": "1.5.0",
            "value": "100% 40/40 [03:11&lt;00:00,  4.74s/it]",
            "_view_count": null,
            "_view_module_version": "1.5.0",
            "description_tooltip": null,
            "_model_module": "@jupyter-widgets/controls",
            "layout": "IPY_MODEL_cf80c699867a42f6b47020a39ba2f658"
          }
        },
        "fe76740fbf834735bc4d19da0c594a32": {
          "model_module": "@jupyter-widgets/controls",
          "model_name": "ProgressStyleModel",
          "state": {
            "_view_name": "StyleView",
            "_model_name": "ProgressStyleModel",
            "description_width": "",
            "_view_module": "@jupyter-widgets/base",
            "_model_module_version": "1.5.0",
            "_view_count": null,
            "_view_module_version": "1.2.0",
            "bar_color": null,
            "_model_module": "@jupyter-widgets/controls"
          }
        },
        "761b4dcca0b64d4bb4c8a58448838de8": {
          "model_module": "@jupyter-widgets/base",
          "model_name": "LayoutModel",
          "state": {
            "_view_name": "LayoutView",
            "grid_template_rows": null,
            "right": null,
            "justify_content": null,
            "_view_module": "@jupyter-widgets/base",
            "overflow": null,
            "_model_module_version": "1.2.0",
            "_view_count": null,
            "flex_flow": null,
            "width": null,
            "min_width": null,
            "border": null,
            "align_items": null,
            "bottom": null,
            "_model_module": "@jupyter-widgets/base",
            "top": null,
            "grid_column": null,
            "overflow_y": null,
            "overflow_x": null,
            "grid_auto_flow": null,
            "grid_area": null,
            "grid_template_columns": null,
            "flex": null,
            "_model_name": "LayoutModel",
            "justify_items": null,
            "grid_row": null,
            "max_height": null,
            "align_content": null,
            "visibility": null,
            "align_self": null,
            "height": null,
            "min_height": null,
            "padding": null,
            "grid_auto_rows": null,
            "grid_gap": null,
            "max_width": null,
            "order": null,
            "_view_module_version": "1.2.0",
            "grid_template_areas": null,
            "object_position": null,
            "object_fit": null,
            "grid_auto_columns": null,
            "margin": null,
            "display": null,
            "left": null
          }
        },
        "ee3b8cea66944275a2bdfb0ad665212a": {
          "model_module": "@jupyter-widgets/controls",
          "model_name": "DescriptionStyleModel",
          "state": {
            "_view_name": "StyleView",
            "_model_name": "DescriptionStyleModel",
            "description_width": "",
            "_view_module": "@jupyter-widgets/base",
            "_model_module_version": "1.5.0",
            "_view_count": null,
            "_view_module_version": "1.2.0",
            "_model_module": "@jupyter-widgets/controls"
          }
        },
        "cf80c699867a42f6b47020a39ba2f658": {
          "model_module": "@jupyter-widgets/base",
          "model_name": "LayoutModel",
          "state": {
            "_view_name": "LayoutView",
            "grid_template_rows": null,
            "right": null,
            "justify_content": null,
            "_view_module": "@jupyter-widgets/base",
            "overflow": null,
            "_model_module_version": "1.2.0",
            "_view_count": null,
            "flex_flow": null,
            "width": null,
            "min_width": null,
            "border": null,
            "align_items": null,
            "bottom": null,
            "_model_module": "@jupyter-widgets/base",
            "top": null,
            "grid_column": null,
            "overflow_y": null,
            "overflow_x": null,
            "grid_auto_flow": null,
            "grid_area": null,
            "grid_template_columns": null,
            "flex": null,
            "_model_name": "LayoutModel",
            "justify_items": null,
            "grid_row": null,
            "max_height": null,
            "align_content": null,
            "visibility": null,
            "align_self": null,
            "height": null,
            "min_height": null,
            "padding": null,
            "grid_auto_rows": null,
            "grid_gap": null,
            "max_width": null,
            "order": null,
            "_view_module_version": "1.2.0",
            "grid_template_areas": null,
            "object_position": null,
            "object_fit": null,
            "grid_auto_columns": null,
            "margin": null,
            "display": null,
            "left": null
          }
        },
        "a9dceab8f1da4c5189fdb6c1f7ef6b26": {
          "model_module": "@jupyter-widgets/controls",
          "model_name": "HBoxModel",
          "state": {
            "_view_name": "HBoxView",
            "_dom_classes": [],
            "_model_name": "HBoxModel",
            "_view_module": "@jupyter-widgets/controls",
            "_model_module_version": "1.5.0",
            "_view_count": null,
            "_view_module_version": "1.5.0",
            "box_style": "",
            "layout": "IPY_MODEL_d41dc9428d554c26a30142041018af7e",
            "_model_module": "@jupyter-widgets/controls",
            "children": [
              "IPY_MODEL_34ab13507f164e66b41c9082ca5aec6b",
              "IPY_MODEL_be6b12bf267f441eb9abaf0b07f9d6c3"
            ]
          }
        },
        "d41dc9428d554c26a30142041018af7e": {
          "model_module": "@jupyter-widgets/base",
          "model_name": "LayoutModel",
          "state": {
            "_view_name": "LayoutView",
            "grid_template_rows": null,
            "right": null,
            "justify_content": null,
            "_view_module": "@jupyter-widgets/base",
            "overflow": null,
            "_model_module_version": "1.2.0",
            "_view_count": null,
            "flex_flow": null,
            "width": null,
            "min_width": null,
            "border": null,
            "align_items": null,
            "bottom": null,
            "_model_module": "@jupyter-widgets/base",
            "top": null,
            "grid_column": null,
            "overflow_y": null,
            "overflow_x": null,
            "grid_auto_flow": null,
            "grid_area": null,
            "grid_template_columns": null,
            "flex": null,
            "_model_name": "LayoutModel",
            "justify_items": null,
            "grid_row": null,
            "max_height": null,
            "align_content": null,
            "visibility": null,
            "align_self": null,
            "height": null,
            "min_height": null,
            "padding": null,
            "grid_auto_rows": null,
            "grid_gap": null,
            "max_width": null,
            "order": null,
            "_view_module_version": "1.2.0",
            "grid_template_areas": null,
            "object_position": null,
            "object_fit": null,
            "grid_auto_columns": null,
            "margin": null,
            "display": null,
            "left": null
          }
        },
        "34ab13507f164e66b41c9082ca5aec6b": {
          "model_module": "@jupyter-widgets/controls",
          "model_name": "IntProgressModel",
          "state": {
            "_view_name": "ProgressView",
            "style": "IPY_MODEL_b3cda5b3e7ab4f409b8e940ed04a1793",
            "_dom_classes": [],
            "description": "",
            "_model_name": "IntProgressModel",
            "bar_style": "success",
            "max": 40,
            "_view_module": "@jupyter-widgets/controls",
            "_model_module_version": "1.5.0",
            "value": 40,
            "_view_count": null,
            "_view_module_version": "1.5.0",
            "orientation": "horizontal",
            "min": 0,
            "description_tooltip": null,
            "_model_module": "@jupyter-widgets/controls",
            "layout": "IPY_MODEL_0222cefa231d43a7a3681c555850c8b9"
          }
        },
        "be6b12bf267f441eb9abaf0b07f9d6c3": {
          "model_module": "@jupyter-widgets/controls",
          "model_name": "HTMLModel",
          "state": {
            "_view_name": "HTMLView",
            "style": "IPY_MODEL_8dd1b11c89544005b446b81b7ced5f2d",
            "_dom_classes": [],
            "description": "",
            "_model_name": "HTMLModel",
            "placeholder": "​",
            "_view_module": "@jupyter-widgets/controls",
            "_model_module_version": "1.5.0",
            "value": "100% 40/40 [03:14&lt;00:00,  4.89s/it]",
            "_view_count": null,
            "_view_module_version": "1.5.0",
            "description_tooltip": null,
            "_model_module": "@jupyter-widgets/controls",
            "layout": "IPY_MODEL_2a154d75051747508a6797fddfaebe47"
          }
        },
        "b3cda5b3e7ab4f409b8e940ed04a1793": {
          "model_module": "@jupyter-widgets/controls",
          "model_name": "ProgressStyleModel",
          "state": {
            "_view_name": "StyleView",
            "_model_name": "ProgressStyleModel",
            "description_width": "",
            "_view_module": "@jupyter-widgets/base",
            "_model_module_version": "1.5.0",
            "_view_count": null,
            "_view_module_version": "1.2.0",
            "bar_color": null,
            "_model_module": "@jupyter-widgets/controls"
          }
        },
        "0222cefa231d43a7a3681c555850c8b9": {
          "model_module": "@jupyter-widgets/base",
          "model_name": "LayoutModel",
          "state": {
            "_view_name": "LayoutView",
            "grid_template_rows": null,
            "right": null,
            "justify_content": null,
            "_view_module": "@jupyter-widgets/base",
            "overflow": null,
            "_model_module_version": "1.2.0",
            "_view_count": null,
            "flex_flow": null,
            "width": null,
            "min_width": null,
            "border": null,
            "align_items": null,
            "bottom": null,
            "_model_module": "@jupyter-widgets/base",
            "top": null,
            "grid_column": null,
            "overflow_y": null,
            "overflow_x": null,
            "grid_auto_flow": null,
            "grid_area": null,
            "grid_template_columns": null,
            "flex": null,
            "_model_name": "LayoutModel",
            "justify_items": null,
            "grid_row": null,
            "max_height": null,
            "align_content": null,
            "visibility": null,
            "align_self": null,
            "height": null,
            "min_height": null,
            "padding": null,
            "grid_auto_rows": null,
            "grid_gap": null,
            "max_width": null,
            "order": null,
            "_view_module_version": "1.2.0",
            "grid_template_areas": null,
            "object_position": null,
            "object_fit": null,
            "grid_auto_columns": null,
            "margin": null,
            "display": null,
            "left": null
          }
        },
        "8dd1b11c89544005b446b81b7ced5f2d": {
          "model_module": "@jupyter-widgets/controls",
          "model_name": "DescriptionStyleModel",
          "state": {
            "_view_name": "StyleView",
            "_model_name": "DescriptionStyleModel",
            "description_width": "",
            "_view_module": "@jupyter-widgets/base",
            "_model_module_version": "1.5.0",
            "_view_count": null,
            "_view_module_version": "1.2.0",
            "_model_module": "@jupyter-widgets/controls"
          }
        },
        "2a154d75051747508a6797fddfaebe47": {
          "model_module": "@jupyter-widgets/base",
          "model_name": "LayoutModel",
          "state": {
            "_view_name": "LayoutView",
            "grid_template_rows": null,
            "right": null,
            "justify_content": null,
            "_view_module": "@jupyter-widgets/base",
            "overflow": null,
            "_model_module_version": "1.2.0",
            "_view_count": null,
            "flex_flow": null,
            "width": null,
            "min_width": null,
            "border": null,
            "align_items": null,
            "bottom": null,
            "_model_module": "@jupyter-widgets/base",
            "top": null,
            "grid_column": null,
            "overflow_y": null,
            "overflow_x": null,
            "grid_auto_flow": null,
            "grid_area": null,
            "grid_template_columns": null,
            "flex": null,
            "_model_name": "LayoutModel",
            "justify_items": null,
            "grid_row": null,
            "max_height": null,
            "align_content": null,
            "visibility": null,
            "align_self": null,
            "height": null,
            "min_height": null,
            "padding": null,
            "grid_auto_rows": null,
            "grid_gap": null,
            "max_width": null,
            "order": null,
            "_view_module_version": "1.2.0",
            "grid_template_areas": null,
            "object_position": null,
            "object_fit": null,
            "grid_auto_columns": null,
            "margin": null,
            "display": null,
            "left": null
          }
        }
      }
    }
  },
  "cells": [
    {
      "cell_type": "markdown",
      "metadata": {
        "id": "view-in-github",
        "colab_type": "text"
      },
      "source": [
        "<a href=\"https://colab.research.google.com/github/iisuslik43/dul/blob/hw3/hw3.ipynb\" target=\"_parent\"><img src=\"https://colab.research.google.com/assets/colab-badge.svg\" alt=\"Open In Colab\"/></a>"
      ]
    },
    {
      "cell_type": "code",
      "metadata": {
        "id": "KcQ3Jsyv9o0h",
        "colab_type": "code",
        "outputId": "1a9b238e-f16c-41fa-90aa-e35c4e2caf2a",
        "colab": {
          "base_uri": "https://localhost:8080/",
          "height": 122
        }
      },
      "source": [
        "from google.colab import drive\n",
        "drive.mount('/content/drive')\n",
        "\n",
        "! cp -r \"drive/My Drive/dul/\" ."
      ],
      "execution_count": 0,
      "outputs": [
        {
          "output_type": "stream",
          "text": [
            "Go to this URL in a browser: https://accounts.google.com/o/oauth2/auth?client_id=947318989803-6bn6qk8qdgf4n4g3pfee6491hc0brc4i.apps.googleusercontent.com&redirect_uri=urn%3aietf%3awg%3aoauth%3a2.0%3aoob&response_type=code&scope=email%20https%3a%2f%2fwww.googleapis.com%2fauth%2fdocs.test%20https%3a%2f%2fwww.googleapis.com%2fauth%2fdrive%20https%3a%2f%2fwww.googleapis.com%2fauth%2fdrive.photos.readonly%20https%3a%2f%2fwww.googleapis.com%2fauth%2fpeopleapi.readonly\n",
            "\n",
            "Enter your authorization code:\n",
            "··········\n",
            "Mounted at /content/drive\n"
          ],
          "name": "stdout"
        }
      ]
    },
    {
      "cell_type": "code",
      "metadata": {
        "id": "yIT3e6xykR9h",
        "colab_type": "code",
        "outputId": "2c0a5711-3a3e-43bc-febf-cca2dd83b02f",
        "colab": {
          "base_uri": "https://localhost:8080/",
          "height": 51
        }
      },
      "source": [
        "! pip install pymorphy2 >> /dev/null\n",
        "! pip install transformers >> /dev/null\n",
        "! pip install wandb >> /dev/null\n",
        "! wandb login b569130067842c47dc059479b75930c8f598012a"
      ],
      "execution_count": 0,
      "outputs": [
        {
          "output_type": "stream",
          "text": [
            "\u001b[34m\u001b[1mwandb\u001b[0m: Appending key for api.wandb.ai to your netrc file: /root/.netrc\n",
            "\u001b[32mSuccessfully logged in to Weights & Biases!\u001b[0m\n"
          ],
          "name": "stdout"
        }
      ]
    },
    {
      "cell_type": "code",
      "metadata": {
        "id": "R-m-IjXpkjbD",
        "colab_type": "code",
        "colab": {}
      },
      "source": [
        "import numpy as np\n",
        "import torch\n",
        "import torch.utils.data\n",
        "import matplotlib.pyplot as plt\n",
        "import torch.nn as nn\n",
        "import torch.nn.functional as F\n",
        "from tqdm import tqdm_notebook as tqdm\n",
        "import pickle\n",
        "import torch.nn.functional as F\n",
        "import os\n",
        "import csv\n",
        "\n",
        "import wandb\n",
        "device = torch.device('cuda:0' if torch.cuda.is_available() else 'cpu')"
      ],
      "execution_count": 0,
      "outputs": []
    },
    {
      "cell_type": "markdown",
      "metadata": {
        "id": "KBTq6m76xn96",
        "colab_type": "text"
      },
      "source": [
        "# Sampling"
      ]
    },
    {
      "cell_type": "code",
      "metadata": {
        "id": "V3cJ5MRukpbI",
        "colab_type": "code",
        "colab": {}
      },
      "source": [
        "def sample_data_1():\n",
        "  count = 100000\n",
        "  rand = np.random.RandomState(0)\n",
        "  return [[1.0, 2.0]] + rand.randn(count, 2) * [[5.0, 1.0]]\n",
        "def sample_data_2():\n",
        "  count = 100000\n",
        "  rand = np.random.RandomState(0)\n",
        "  return [[1.0, 2.0]] + (rand.randn(count, 2) * [[5.0, 1.0]]).dot(\n",
        "  [[np.sqrt(2) / 2, np.sqrt(2) / 2], [-np.sqrt(2) / 2, np.sqrt(2) / 2]])\n",
        "\n",
        "def sample_data_3():\n",
        "  count = 100000\n",
        "  rand = np.random.RandomState(0)\n",
        "  a = [[-1.5, 2.5]] + rand.randn(count // 3, 2) * 0.2\n",
        "  b = [[1.5, 2.5]] + rand.randn(count // 3, 2) * 0.2\n",
        "  c = np.c_[2 * np.cos(np.linspace(0, np.pi, count // 3)),\n",
        "  -np.sin(np.linspace(0, np.pi, count // 3))]\n",
        "\n",
        "  c += rand.randn(*c.shape) * 0.2\n",
        "  data_x = np.concatenate([a, b, c], axis=0)\n",
        "  data_y = np.array([0] * len(a) + [1] * len(b) + [2] * len(c))\n",
        "  perm = rand.permutation(len(data_x))\n",
        "  return data_x[perm], data_y[perm]"
      ],
      "execution_count": 0,
      "outputs": []
    },
    {
      "cell_type": "code",
      "metadata": {
        "id": "nw-tAJgjkpdg",
        "colab_type": "code",
        "colab": {}
      },
      "source": [
        "data1 = sample_data_1()\n",
        "data2 = sample_data_2()\n",
        "data3, y3 = sample_data_3()"
      ],
      "execution_count": 0,
      "outputs": []
    },
    {
      "cell_type": "markdown",
      "metadata": {
        "id": "NuEmhBs5xfiQ",
        "colab_type": "text"
      },
      "source": [
        "#Models code\n"
      ]
    },
    {
      "cell_type": "code",
      "metadata": {
        "id": "id8mHhZzzz85",
        "colab_type": "code",
        "colab": {}
      },
      "source": [
        "class VAE1(nn.Module):\n",
        "  def __init__(self, dim=2, latent_dim=2):\n",
        "    super().__init__()\n",
        "    self.dim = dim\n",
        "    self.latent_dim = latent_dim\n",
        "\n",
        "    self.normal = torch.distributions.Normal(torch.tensor([0.0]), torch.tensor([1.0]))\n",
        "\n",
        "    self.encoder = nn.Sequential(\n",
        "      nn.Linear(self.dim, 32),\n",
        "      nn.ReLU(True)\n",
        "    )\n",
        "\n",
        "    self.mu_z = nn.Linear(32, self.latent_dim)\n",
        "    self.gamma_z = nn.Linear(32, self.latent_dim)\n",
        "\n",
        "        \n",
        "\n",
        "    self.decoder = nn.Sequential(\n",
        "      nn.Linear(self.latent_dim, 32),\n",
        "      nn.ReLU(True)\n",
        "    )\n",
        "\n",
        "    self.mu_x = nn.Linear(32, self.dim)\n",
        "    self.gamma_x = nn.Linear(32, self.dim)\n",
        "\n",
        "    self.gamma_x.weight.data.fill_(0.01)\n",
        "    self.gamma_z.weight.data.fill_(0.01)\n",
        "\n",
        "  def sample(self, mu, gamma):\n",
        "    if self.training:\n",
        "        #std_z = Variable(torch.from_numpy(np.random.normal(0, 1, size=sigma.size())).float())\n",
        "        std_z = self.normal.sample(mu.shape).to(device).reshape(mu.shape)\n",
        "        encoding = std_z * gamma + mu\n",
        "        return encoding\n",
        "    else:\n",
        "        return mu\n",
        "\n",
        "  def encode(self, x):\n",
        "    x = self.encoder(x)\n",
        "    mu = self.mu_z(x)\n",
        "    gamma = self.gamma_z(x)\n",
        "    gamma = torch.exp(0.5 * gamma)\n",
        "    return mu, gamma\n",
        "\n",
        "  def decode(self, z):\n",
        "    z = self.decoder(z)\n",
        "    mu = self.mu_x(z)\n",
        "    gamma = self.gamma_x(z)\n",
        "    gamma = torch.exp(0.5 * gamma)\n",
        "    return mu, gamma\n",
        "\n",
        "  def kl(self, mu, gamma):\n",
        "    dim = mu.shape[1]\n",
        "    return 0.5 * (gamma.sum(dim=-1) + (mu ** 2).sum(dim=-1) - dim - torch.log(gamma.prod(dim-1)+ 1e-9)).mean()\n",
        "\n",
        "  def forward(self, x):\n",
        "    mu_z, gamma_z = self.encode(x)\n",
        "    z = self.sample(mu_z, gamma_z)\n",
        "    mu_x, gamma_x = self.decode(z)\n",
        "    x1 = self.sample(mu_x, gamma_x)\n",
        "    return x1, self.kl(mu_z, gamma_z)\n",
        "    "
      ],
      "execution_count": 0,
      "outputs": []
    },
    {
      "cell_type": "code",
      "metadata": {
        "id": "Tqr0KRvZwbm-",
        "colab_type": "code",
        "colab": {}
      },
      "source": [
        "class VAE2(VAE1):\n",
        "  def __init__(self, **kwargs):\n",
        "    super().__init__(**kwargs)\n",
        "    self.gamma_x = nn.Linear(32, 1)\n",
        "    self.gamma_x.weight.data.fill_(0.01)\n",
        "\n",
        "  def forward(self, x):\n",
        "    mu_z, gamma_z = self.encode(x)\n",
        "    z = self.sample(mu_z, gamma_z)\n",
        "    mu_x, gamma_x = self.decode(z)\n",
        "    gamma_x = gamma_x.repeat((1, self.dim))\n",
        "    x1 = self.sample(mu_x, gamma_x)\n",
        "    return x1, self.kl(mu_z, gamma_z)"
      ],
      "execution_count": 0,
      "outputs": []
    },
    {
      "cell_type": "code",
      "metadata": {
        "id": "H6oDgVwaz0Bi",
        "colab_type": "code",
        "colab": {}
      },
      "source": [
        "class VAELoss(nn.Module):\n",
        "  def __init__(self):\n",
        "    super().__init__()\n",
        "    self.mse = nn.MSELoss()\n",
        "  \n",
        "  def forward(self, target, output, kl):\n",
        "    l2 = self.mse(output, target)\n",
        "    return l2 + kl, l2"
      ],
      "execution_count": 0,
      "outputs": []
    },
    {
      "cell_type": "code",
      "metadata": {
        "id": "YqYL3P8bkpie",
        "colab_type": "code",
        "colab": {}
      },
      "source": [
        "def train(model, criterion, data, n_epochs=10, wandb_name=None, batch_size=128):\n",
        "  split = int(len(data) * 0.8)\n",
        "  dataset_train = torch.utils.data.DataLoader(data[:split],\n",
        "                                              batch_size=batch_size,\n",
        "                                              shuffle=True)\n",
        "  dataset_test = torch.utils.data.DataLoader(data[split:],\n",
        "                                             batch_size=batch_size,\n",
        "                                             shuffle=True)\n",
        "  optimizer = torch.optim.Adam(params=model.parameters())\n",
        "  if wandb_name is not None:\n",
        "    wandb.init(name=wandb_name, project=\"dul-hw3-vae\")\n",
        "    wandb.watch(model)\n",
        "  for epoch in tqdm(range(1, n_epochs + 1)):\n",
        "      train_losses = {'ELBO': [], 'KL': [], 'L2': []}\n",
        "      test_losses = {'ELBO': [], 'KL': [], 'L2': []}\n",
        "      for x_batch in dataset_train:\n",
        "          optimizer.zero_grad()\n",
        "          x_batch = x_batch.float().to(device)\n",
        "          output, kl = model(x_batch)\n",
        "          loss, l2 = criterion(x_batch, output, kl)\n",
        "          loss.backward()\n",
        "          optimizer.step()\n",
        "\n",
        "          train_losses['ELBO'].append(loss.item())\n",
        "          train_losses['KL'].append(kl.item())\n",
        "          train_losses['L2'].append(l2.item())\n",
        "\n",
        "      with torch.no_grad():\n",
        "          model.eval()\n",
        "          for x_test in dataset_test:\n",
        "              x_test = x_test.float().to(device)\n",
        "              output_test, kl_test = model(x_test)\n",
        "              loss, l2 = criterion(x_test, output_test, kl_test)\n",
        "\n",
        "              test_losses['ELBO'].append(loss.item())\n",
        "              test_losses['KL'].append(kl_test.item())\n",
        "              test_losses['L2'].append(l2.item())\n",
        "          model.train()\n",
        "      if wandb_name is not None:\n",
        "          loss_log = {}\n",
        "          for name, values in train_losses.items():\n",
        "            values = [v for v in values if v == v and v != float('inf')]\n",
        "            loss_log[name + ' train'] = np.mean(values)\n",
        "          for name, values in test_losses.items():\n",
        "            values = [v for v in values if v == v and v != float('inf')]\n",
        "            loss_log[name + ' test'] = np.mean(values)\n",
        "          wandb.log(loss_log)"
      ],
      "execution_count": 0,
      "outputs": []
    },
    {
      "cell_type": "markdown",
      "metadata": {
        "id": "HlrMPUf1xQVb",
        "colab_type": "text"
      },
      "source": [
        "# 1 a\n"
      ]
    },
    {
      "cell_type": "code",
      "metadata": {
        "id": "vWtufQHdVgeJ",
        "colab_type": "code",
        "outputId": "16341a42-0892-4a01-a2ad-463abfa5aa64",
        "colab": {
          "base_uri": "https://localhost:8080/",
          "height": 100,
          "referenced_widgets": [
            "3709427a278b457ba3229d2f5295c94a",
            "11f89408cc1a4428a90a0869c2d91013",
            "a8a9825e5dcb43da8f4f19d37775da56",
            "ac87e27b54bf45f1aa7695d9762a2e96",
            "7f29b0d533814a34b25a444b4224173c",
            "3ea2618130324e1dab459859d1d39718",
            "3b2de3d645b34a33b0824cf067e185fa",
            "9151b9aeac7a40fcbf559992d8428052"
          ]
        }
      },
      "source": [
        "model_11 = VAE1().to(device)\n",
        "train(model_11, VAELoss(), data1, n_epochs=40, wandb_name='Method # 1 Data # 1')"
      ],
      "execution_count": 0,
      "outputs": [
        {
          "output_type": "display_data",
          "data": {
            "text/html": [
              "\n",
              "                Logging results to <a href=\"https://wandb.com\" target=\"_blank\">Weights & Biases</a> <a href=\"https://docs.wandb.com/integrations/jupyter.html\" target=\"_blank\">(Documentation)</a>.<br/>\n",
              "                Project page: <a href=\"https://app.wandb.ai/iisuslik43/dul-hw3-vae\" target=\"_blank\">https://app.wandb.ai/iisuslik43/dul-hw3-vae</a><br/>\n",
              "                Run page: <a href=\"https://app.wandb.ai/iisuslik43/dul-hw3-vae/runs/10ur64dg\" target=\"_blank\">https://app.wandb.ai/iisuslik43/dul-hw3-vae/runs/10ur64dg</a><br/>\n",
              "            "
            ],
            "text/plain": [
              "<IPython.core.display.HTML object>"
            ]
          },
          "metadata": {
            "tags": []
          }
        },
        {
          "output_type": "display_data",
          "data": {
            "application/vnd.jupyter.widget-view+json": {
              "model_id": "3709427a278b457ba3229d2f5295c94a",
              "version_minor": 0,
              "version_major": 2
            },
            "text/plain": [
              "HBox(children=(IntProgress(value=0, max=40), HTML(value='')))"
            ]
          },
          "metadata": {
            "tags": []
          }
        }
      ]
    },
    {
      "cell_type": "code",
      "metadata": {
        "id": "7zIL5EvaT4is",
        "colab_type": "code",
        "outputId": "32d5af37-2d0d-41cb-deeb-29161e01e87f",
        "colab": {
          "base_uri": "https://localhost:8080/",
          "height": 100,
          "referenced_widgets": [
            "d15fb4f5e3cc4c9cab68e95116b93ee0",
            "eecf18da1e7c47c8ac74e546827605eb",
            "9a24bdeca865481a8d7ab03f366777a0",
            "466e26356fd544b1800b62e4583b30d7",
            "fe76740fbf834735bc4d19da0c594a32",
            "761b4dcca0b64d4bb4c8a58448838de8",
            "ee3b8cea66944275a2bdfb0ad665212a",
            "cf80c699867a42f6b47020a39ba2f658"
          ]
        }
      },
      "source": [
        "model_12 = VAE2().to(device)\n",
        "train(model_12, VAELoss(), data1, n_epochs=40, wandb_name='Method # 2 Data # 1')"
      ],
      "execution_count": 0,
      "outputs": [
        {
          "output_type": "display_data",
          "data": {
            "text/html": [
              "\n",
              "                Logging results to <a href=\"https://wandb.com\" target=\"_blank\">Weights & Biases</a> <a href=\"https://docs.wandb.com/integrations/jupyter.html\" target=\"_blank\">(Documentation)</a>.<br/>\n",
              "                Project page: <a href=\"https://app.wandb.ai/iisuslik43/dul-hw3-vae\" target=\"_blank\">https://app.wandb.ai/iisuslik43/dul-hw3-vae</a><br/>\n",
              "                Run page: <a href=\"https://app.wandb.ai/iisuslik43/dul-hw3-vae/runs/rrna7gc0\" target=\"_blank\">https://app.wandb.ai/iisuslik43/dul-hw3-vae/runs/rrna7gc0</a><br/>\n",
              "            "
            ],
            "text/plain": [
              "<IPython.core.display.HTML object>"
            ]
          },
          "metadata": {
            "tags": []
          }
        },
        {
          "output_type": "display_data",
          "data": {
            "application/vnd.jupyter.widget-view+json": {
              "model_id": "d15fb4f5e3cc4c9cab68e95116b93ee0",
              "version_minor": 0,
              "version_major": 2
            },
            "text/plain": [
              "HBox(children=(IntProgress(value=0, max=40), HTML(value='')))"
            ]
          },
          "metadata": {
            "tags": []
          }
        }
      ]
    },
    {
      "cell_type": "code",
      "metadata": {
        "id": "XrhxQF1tST20",
        "colab_type": "code",
        "colab": {}
      },
      "source": [
        "def sample(model):\n",
        "    with torch.no_grad():\n",
        "        for i in range(20):\n",
        "          z = model.normal.sample((100, 2)).reshape(100, 2).to(device)\n",
        "          mu_x, gamma_x = model.decode(z)\n",
        "          x1 = model.sample(mu_x, gamma_x).cpu().numpy()\n",
        "          plt.plot(x1[:,0], x1[:, 1], 'bo')\n",
        "        plt.show()"
      ],
      "execution_count": 0,
      "outputs": []
    },
    {
      "cell_type": "code",
      "metadata": {
        "id": "S7E7zTd7VAIG",
        "colab_type": "code",
        "outputId": "d6e2ecd4-bf25-4dde-dd30-4b2c3af57748",
        "colab": {
          "base_uri": "https://localhost:8080/",
          "height": 265
        }
      },
      "source": [
        "plt.plot(data1[:,0], data1[:,1], 'bo')\n",
        "plt.show()"
      ],
      "execution_count": 0,
      "outputs": [
        {
          "output_type": "display_data",
          "data": {
            "image/png": "[encoded data removed]",
            "text/plain": [
              "<Figure size 432x288 with 1 Axes>"
            ]
          },
          "metadata": {
            "tags": []
          }
        }
      ]
    },
    {
      "cell_type": "code",
      "metadata": {
        "id": "fCEo8OhQuOKR",
        "colab_type": "code",
        "outputId": "6e56186f-1fd9-406a-a68a-72083caa7314",
        "colab": {
          "base_uri": "https://localhost:8080/",
          "height": 265
        }
      },
      "source": [
        "model_11.eval()\n",
        "sample(model_11)"
      ],
      "execution_count": 0,
      "outputs": [
        {
          "output_type": "display_data",
          "data": {
            "image/png": "[encoded data removed]",
            "text/plain": [
              "<Figure size 432x288 with 1 Axes>"
            ]
          },
          "metadata": {
            "tags": []
          }
        }
      ]
    },
    {
      "cell_type": "code",
      "metadata": {
        "id": "5TgrErglux0i",
        "colab_type": "code",
        "outputId": "e95c667e-5691-43c8-9a14-8fd88b7df881",
        "colab": {
          "base_uri": "https://localhost:8080/",
          "height": 265
        }
      },
      "source": [
        "model_11.train()\n",
        "sample(model_11)"
      ],
      "execution_count": 0,
      "outputs": [
        {
          "output_type": "display_data",
          "data": {
            "image/png": "[encoded data removed]",
            "text/plain": [
              "<Figure size 432x288 with 1 Axes>"
            ]
          },
          "metadata": {
            "tags": []
          }
        }
      ]
    },
    {
      "cell_type": "code",
      "metadata": {
        "id": "EbFIFQUFvKFf",
        "colab_type": "code",
        "outputId": "6eba7a73-204f-4392-d80b-e268c0a4570d",
        "colab": {
          "base_uri": "https://localhost:8080/",
          "height": 268
        }
      },
      "source": [
        "model_12.eval()\n",
        "sample(model_12)"
      ],
      "execution_count": 0,
      "outputs": [
        {
          "output_type": "display_data",
          "data": {
            "image/png": "[encoded data removed]",
            "text/plain": [
              "<Figure size 432x288 with 1 Axes>"
            ]
          },
          "metadata": {
            "tags": []
          }
        }
      ]
    },
    {
      "cell_type": "code",
      "metadata": {
        "id": "h3BQDf17vKjf",
        "colab_type": "code",
        "outputId": "b8eb8f29-eb7e-455f-a2ec-d8e8b1f04e92",
        "colab": {
          "base_uri": "https://localhost:8080/",
          "height": 324
        }
      },
      "source": [
        "model_12.train()\n",
        "sample(model_12)"
      ],
      "execution_count": 0,
      "outputs": [
        {
          "output_type": "error",
          "ename": "RuntimeError",
          "evalue": "ignored",
          "traceback": [
            "\u001b[0;31m---------------------------------------------------------------------------\u001b[0m",
            "\u001b[0;31mRuntimeError\u001b[0m                              Traceback (most recent call last)",
            "\u001b[0;32m<ipython-input-58-e768e611a2ac>\u001b[0m in \u001b[0;36m<module>\u001b[0;34m()\u001b[0m\n\u001b[1;32m      1\u001b[0m \u001b[0mmodel_12\u001b[0m\u001b[0;34m.\u001b[0m\u001b[0mtrain\u001b[0m\u001b[0;34m(\u001b[0m\u001b[0;34m)\u001b[0m\u001b[0;34m\u001b[0m\u001b[0;34m\u001b[0m\u001b[0m\n\u001b[0;32m----> 2\u001b[0;31m \u001b[0msample\u001b[0m\u001b[0;34m(\u001b[0m\u001b[0mmodel_12\u001b[0m\u001b[0;34m)\u001b[0m\u001b[0;34m\u001b[0m\u001b[0;34m\u001b[0m\u001b[0m\n\u001b[0m",
            "\u001b[0;32m<ipython-input-51-005d9e6c4c80>\u001b[0m in \u001b[0;36msample\u001b[0;34m(model)\u001b[0m\n\u001b[1;32m      4\u001b[0m           \u001b[0mz\u001b[0m \u001b[0;34m=\u001b[0m \u001b[0mmodel\u001b[0m\u001b[0;34m.\u001b[0m\u001b[0mnormal\u001b[0m\u001b[0;34m.\u001b[0m\u001b[0msample\u001b[0m\u001b[0;34m(\u001b[0m\u001b[0;34m(\u001b[0m\u001b[0;36m100\u001b[0m\u001b[0;34m,\u001b[0m \u001b[0;36m2\u001b[0m\u001b[0;34m)\u001b[0m\u001b[0;34m)\u001b[0m\u001b[0;34m.\u001b[0m\u001b[0mreshape\u001b[0m\u001b[0;34m(\u001b[0m\u001b[0;36m100\u001b[0m\u001b[0;34m,\u001b[0m \u001b[0;36m2\u001b[0m\u001b[0;34m)\u001b[0m\u001b[0;34m.\u001b[0m\u001b[0mto\u001b[0m\u001b[0;34m(\u001b[0m\u001b[0mdevice\u001b[0m\u001b[0;34m)\u001b[0m\u001b[0;34m\u001b[0m\u001b[0;34m\u001b[0m\u001b[0m\n\u001b[1;32m      5\u001b[0m           \u001b[0mmu_x\u001b[0m\u001b[0;34m,\u001b[0m \u001b[0mgamma_x\u001b[0m \u001b[0;34m=\u001b[0m \u001b[0mmodel\u001b[0m\u001b[0;34m.\u001b[0m\u001b[0mdecode\u001b[0m\u001b[0;34m(\u001b[0m\u001b[0mz\u001b[0m\u001b[0;34m)\u001b[0m\u001b[0;34m\u001b[0m\u001b[0;34m\u001b[0m\u001b[0m\n\u001b[0;32m----> 6\u001b[0;31m           \u001b[0mx1\u001b[0m \u001b[0;34m=\u001b[0m \u001b[0mmodel\u001b[0m\u001b[0;34m.\u001b[0m\u001b[0msample\u001b[0m\u001b[0;34m(\u001b[0m\u001b[0mmu_x\u001b[0m\u001b[0;34m,\u001b[0m \u001b[0mgamma_x\u001b[0m\u001b[0;34m)\u001b[0m\u001b[0;34m.\u001b[0m\u001b[0mcpu\u001b[0m\u001b[0;34m(\u001b[0m\u001b[0;34m)\u001b[0m\u001b[0;34m.\u001b[0m\u001b[0mnumpy\u001b[0m\u001b[0;34m(\u001b[0m\u001b[0;34m)\u001b[0m\u001b[0;34m\u001b[0m\u001b[0;34m\u001b[0m\u001b[0m\n\u001b[0m\u001b[1;32m      7\u001b[0m           \u001b[0mplt\u001b[0m\u001b[0;34m.\u001b[0m\u001b[0mplot\u001b[0m\u001b[0;34m(\u001b[0m\u001b[0mx1\u001b[0m\u001b[0;34m[\u001b[0m\u001b[0;34m:\u001b[0m\u001b[0;34m,\u001b[0m\u001b[0;36m0\u001b[0m\u001b[0;34m]\u001b[0m\u001b[0;34m,\u001b[0m \u001b[0mx1\u001b[0m\u001b[0;34m[\u001b[0m\u001b[0;34m:\u001b[0m\u001b[0;34m,\u001b[0m \u001b[0;36m1\u001b[0m\u001b[0;34m]\u001b[0m\u001b[0;34m,\u001b[0m \u001b[0;34m'bo'\u001b[0m\u001b[0;34m)\u001b[0m\u001b[0;34m\u001b[0m\u001b[0;34m\u001b[0m\u001b[0m\n\u001b[1;32m      8\u001b[0m         \u001b[0mplt\u001b[0m\u001b[0;34m.\u001b[0m\u001b[0mshow\u001b[0m\u001b[0;34m(\u001b[0m\u001b[0;34m)\u001b[0m\u001b[0;34m\u001b[0m\u001b[0;34m\u001b[0m\u001b[0m\n",
            "\u001b[0;32m<ipython-input-12-396a64cda411>\u001b[0m in \u001b[0;36msample\u001b[0;34m(self, mu, gamma)\u001b[0m\n\u001b[1;32m     30\u001b[0m         \u001b[0;31m#std_z = Variable(torch.from_numpy(np.random.normal(0, 1, size=sigma.size())).float())\u001b[0m\u001b[0;34m\u001b[0m\u001b[0;34m\u001b[0m\u001b[0;34m\u001b[0m\u001b[0m\n\u001b[1;32m     31\u001b[0m         \u001b[0mstd_z\u001b[0m \u001b[0;34m=\u001b[0m \u001b[0mself\u001b[0m\u001b[0;34m.\u001b[0m\u001b[0mnormal\u001b[0m\u001b[0;34m.\u001b[0m\u001b[0msample\u001b[0m\u001b[0;34m(\u001b[0m\u001b[0mmu\u001b[0m\u001b[0;34m.\u001b[0m\u001b[0mshape\u001b[0m\u001b[0;34m)\u001b[0m\u001b[0;34m.\u001b[0m\u001b[0mto\u001b[0m\u001b[0;34m(\u001b[0m\u001b[0mdevice\u001b[0m\u001b[0;34m)\u001b[0m\u001b[0;34m.\u001b[0m\u001b[0mreshape\u001b[0m\u001b[0;34m(\u001b[0m\u001b[0;34m-\u001b[0m\u001b[0;36m1\u001b[0m\u001b[0;34m,\u001b[0m \u001b[0;36m1\u001b[0m\u001b[0;34m,\u001b[0m \u001b[0;36m2\u001b[0m\u001b[0;34m)\u001b[0m\u001b[0;34m\u001b[0m\u001b[0;34m\u001b[0m\u001b[0m\n\u001b[0;32m---> 32\u001b[0;31m         \u001b[0mencoding\u001b[0m \u001b[0;34m=\u001b[0m \u001b[0;34m(\u001b[0m\u001b[0mstd_z\u001b[0m \u001b[0;34m@\u001b[0m \u001b[0mgamma\u001b[0m\u001b[0;34m)\u001b[0m\u001b[0;34m.\u001b[0m\u001b[0mreshape\u001b[0m\u001b[0;34m(\u001b[0m\u001b[0;34m-\u001b[0m\u001b[0;36m1\u001b[0m\u001b[0;34m,\u001b[0m \u001b[0;36m2\u001b[0m\u001b[0;34m)\u001b[0m \u001b[0;34m+\u001b[0m \u001b[0mmu\u001b[0m\u001b[0;34m\u001b[0m\u001b[0;34m\u001b[0m\u001b[0m\n\u001b[0m\u001b[1;32m     33\u001b[0m         \u001b[0;32mreturn\u001b[0m \u001b[0mencoding\u001b[0m\u001b[0;34m\u001b[0m\u001b[0;34m\u001b[0m\u001b[0m\n\u001b[1;32m     34\u001b[0m     \u001b[0;32melse\u001b[0m\u001b[0;34m:\u001b[0m\u001b[0;34m\u001b[0m\u001b[0;34m\u001b[0m\u001b[0m\n",
            "\u001b[0;31mRuntimeError\u001b[0m: size mismatch, m1: [100 x 2], m2: [100 x 1] at /pytorch/aten/src/THC/generic/THCTensorMathBlas.cu:290"
          ]
        }
      ]
    },
    {
      "cell_type": "code",
      "metadata": {
        "id": "GAYLkU5M1oVO",
        "colab_type": "code",
        "outputId": "2b17fe49-b26c-4d15-9cf3-6a81462a3767",
        "colab": {
          "base_uri": "https://localhost:8080/",
          "height": 100,
          "referenced_widgets": [
            "a9dceab8f1da4c5189fdb6c1f7ef6b26",
            "d41dc9428d554c26a30142041018af7e",
            "34ab13507f164e66b41c9082ca5aec6b",
            "be6b12bf267f441eb9abaf0b07f9d6c3",
            "b3cda5b3e7ab4f409b8e940ed04a1793",
            "0222cefa231d43a7a3681c555850c8b9",
            "8dd1b11c89544005b446b81b7ced5f2d",
            "2a154d75051747508a6797fddfaebe47"
          ]
        }
      },
      "source": [
        "model_21 = VAE1().to(device)\n",
        "train(model_21, VAELoss(), data2, n_epochs=40, wandb_name='Method # 1 Data # 2')"
      ],
      "execution_count": 0,
      "outputs": [
        {
          "output_type": "display_data",
          "data": {
            "text/html": [
              "\n",
              "                Logging results to <a href=\"https://wandb.com\" target=\"_blank\">Weights & Biases</a> <a href=\"https://docs.wandb.com/integrations/jupyter.html\" target=\"_blank\">(Documentation)</a>.<br/>\n",
              "                Project page: <a href=\"https://app.wandb.ai/iisuslik43/dul-hw3-vae\" target=\"_blank\">https://app.wandb.ai/iisuslik43/dul-hw3-vae</a><br/>\n",
              "                Run page: <a href=\"https://app.wandb.ai/iisuslik43/dul-hw3-vae/runs/bvcnv6lh\" target=\"_blank\">https://app.wandb.ai/iisuslik43/dul-hw3-vae/runs/bvcnv6lh</a><br/>\n",
              "            "
            ],
            "text/plain": [
              "<IPython.core.display.HTML object>"
            ]
          },
          "metadata": {
            "tags": []
          }
        },
        {
          "output_type": "display_data",
          "data": {
            "application/vnd.jupyter.widget-view+json": {
              "model_id": "a9dceab8f1da4c5189fdb6c1f7ef6b26",
              "version_minor": 0,
              "version_major": 2
            },
            "text/plain": [
              "HBox(children=(IntProgress(value=0, max=40), HTML(value='')))"
            ]
          },
          "metadata": {
            "tags": []
          }
        }
      ]
    },
    {
      "cell_type": "code",
      "metadata": {
        "id": "WWkdGjSS1zN7",
        "colab_type": "code",
        "colab": {}
      },
      "source": [
        "model_22 = VAE2().to(device)\n",
        "train(model_22, VAELoss(), data2, n_epochs=40, wandb_name='Method # 1 Data # 2')"
      ],
      "execution_count": 0,
      "outputs": []
    },
    {
      "cell_type": "code",
      "metadata": {
        "id": "FaBCEXQMqPzN",
        "colab_type": "code",
        "outputId": "ebbcd66c-8de3-4b47-8d57-8e245c8b18c1",
        "colab": {
          "base_uri": "https://localhost:8080/",
          "height": 265
        }
      },
      "source": [
        "plt.plot(data2[:,0], data2[:,1], 'bo')\n",
        "plt.show()"
      ],
      "execution_count": 0,
      "outputs": [
        {
          "output_type": "display_data",
          "data": {
            "image/png": "[encoded data removed]",
            "text/plain": [
              "<Figure size 432x288 with 1 Axes>"
            ]
          },
          "metadata": {
            "tags": []
          }
        }
      ]
    },
    {
      "cell_type": "code",
      "metadata": {
        "id": "yzq17iss13rQ",
        "colab_type": "code",
        "outputId": "02f0a5ff-5295-47eb-fd1a-1120dacc5e1c",
        "colab": {
          "base_uri": "https://localhost:8080/",
          "height": 265
        }
      },
      "source": [
        "model_21.eval()\n",
        "sample(model_21)"
      ],
      "execution_count": 0,
      "outputs": [
        {
          "output_type": "display_data",
          "data": {
            "image/png": "[encoded data removed]",
            "text/plain": [
              "<Figure size 432x288 with 1 Axes>"
            ]
          },
          "metadata": {
            "tags": []
          }
        }
      ]
    },
    {
      "cell_type": "code",
      "metadata": {
        "id": "es3AOgHZ14GP",
        "colab_type": "code",
        "outputId": "41e2e143-facd-42d9-af75-b756a473fbf4",
        "colab": {
          "base_uri": "https://localhost:8080/",
          "height": 267
        }
      },
      "source": [
        "model_21.train()\n",
        "sample(model_21)"
      ],
      "execution_count": 0,
      "outputs": [
        {
          "output_type": "display_data",
          "data": {
            "image/png": "[encoded data removed]",
            "text/plain": [
              "<Figure size 432x288 with 1 Axes>"
            ]
          },
          "metadata": {
            "tags": []
          }
        }
      ]
    },
    {
      "cell_type": "code",
      "metadata": {
        "colab_type": "code",
        "id": "BS3KclY3rhfC",
        "outputId": "01f1e914-9b5e-441c-ad95-3e64328193ee",
        "colab": {
          "base_uri": "https://localhost:8080/",
          "height": 265
        }
      },
      "source": [
        ""
      ],
      "execution_count": 0,
      "outputs": [
        {
          "output_type": "display_data",
          "data": {
            "image/png": "[encoded data removed]",
            "text/plain": [
              "<Figure size 432x288 with 1 Axes>"
            ]
          },
          "metadata": {
            "tags": []
          }
        }
      ]
    },
    {
      "cell_type": "markdown",
      "metadata": {
        "id": "3qj3cJX_xXGt",
        "colab_type": "text"
      },
      "source": [
        "#1 b"
      ]
    },
    {
      "cell_type": "code",
      "metadata": {
        "id": "TEsmOv_8xYeW",
        "colab_type": "code",
        "colab": {}
      },
      "source": [
        "for (x1, x2), y in zip(data3[:2000], y3[:2000]):\n",
        "  colors = {0: 'r', 1: 'g', 2 : 'b'}\n",
        "  plt.plot(x1, x2, 'o', color=colors[y])\n",
        "plt.show()"
      ],
      "execution_count": 0,
      "outputs": []
    },
    {
      "cell_type": "code",
      "metadata": {
        "id": "Lq2viliryQUh",
        "colab_type": "code",
        "colab": {}
      },
      "source": [
        ""
      ],
      "execution_count": 0,
      "outputs": []
    },
    {
      "cell_type": "markdown",
      "metadata": {
        "id": "g-gWkkv6yRNM",
        "colab_type": "text"
      },
      "source": [
        "# 2 a\n"
      ]
    },
    {
      "cell_type": "code",
      "metadata": {
        "id": "WCjbpQRM-HRu",
        "colab_type": "code",
        "colab": {}
      },
      "source": [
        "with open('dul/hw3-q2.pkl', 'rb') as f:\n",
        "  svhn_dataset = pickle.load(f)"
      ],
      "execution_count": 0,
      "outputs": []
    },
    {
      "cell_type": "code",
      "metadata": {
        "id": "slQY0JeY-prl",
        "colab_type": "code",
        "outputId": "c905214f-a2d0-4127-ad60-c5efc67ccb97",
        "colab": {
          "base_uri": "https://localhost:8080/",
          "height": 34
        }
      },
      "source": [
        "svhn_dataset['test'][0].max(), svhn_dataset['test'][0].min()"
      ],
      "execution_count": 0,
      "outputs": [
        {
          "output_type": "execute_result",
          "data": {
            "text/plain": [
              "(125, 1)"
            ]
          },
          "metadata": {
            "tags": []
          },
          "execution_count": 17
        }
      ]
    },
    {
      "cell_type": "code",
      "metadata": {
        "id": "6vxG3N0AySc3",
        "colab_type": "code",
        "colab": {}
      },
      "source": [
        "class VAE_big(nn.Module):\n",
        "  def __init__(self, dim=50, latent_dim=50):\n",
        "    super().__init__()\n",
        "    self.dim = dim\n",
        "    self.latent_dim = latent_dim\n",
        "\n",
        "    self.normal = torch.distributions.Normal(torch.tensor([0.0]), torch.tensor([1.0]))\n",
        "\n",
        "    self.encoder = nn.Sequential(\n",
        "      nn.Linear(self.dim, 32),\n",
        "      nn.ReLU(True)\n",
        "    )\n",
        "\n",
        "    self.mu_z = nn.Linear(32, self.latent_dim)\n",
        "    self.gamma_z = nn.Linear(32, self.latent_dim ** 2)\n",
        "\n",
        "        \n",
        "\n",
        "    self.decoder = nn.Sequential(\n",
        "      nn.Linear(sel.latent_dim, 32),\n",
        "      nn.ReLU(True)\n",
        "    )\n",
        "\n",
        "    self.mu_x = nn.Linear(32, self.dim)\n",
        "    self.gamma_x = nn.Linear(32, self.dim ** 2)\n",
        "\n",
        "  def sample(self, mu, gamma):\n",
        "    if self.training:\n",
        "        gamma = torch.exp(0.5 * gamma)\n",
        "        #std_z = Variable(torch.from_numpy(np.random.normal(0, 1, size=sigma.size())).float())\n",
        "        std_z = self.normal.sample(mu.shape).to(device).reshape(-1, 1, 2)\n",
        "        encoding = (std_z @ gamma).reshape(-1, 2) + mu\n",
        "        return encoding\n",
        "    else:\n",
        "        return mu\n",
        "\n",
        "  def encode(self, x):\n",
        "    x = self.encoder(x)\n",
        "    mu = self.mu_z(x)\n",
        "    gamma = self.gamma_z(x)\n",
        "    gamma = gamma.reshape(-1, 2, 2)\n",
        "    return mu, gamma\n",
        "\n",
        "  def decode(self, z):\n",
        "    z = self.decoder(z)\n",
        "    mu = self.mu_x(z)\n",
        "    gamma = self.gamma_x(z)\n",
        "    gamma = gamma.reshape(-1, 2, 2)\n",
        "    return mu, gamma\n",
        "\n",
        "  def kl(self, mu, gamma):\n",
        "    dim = mu.shape[1]\n",
        "    return 0.5 * ((gamma * torch.eye(dim).to(device)).sum(dim=(1, 2)) + (mu**2).sum(dim=-1) - dim - torch.log(gamma.det())).sum() / mu.shape[0]\n",
        "\n",
        "  def forward(self, x):\n",
        "    mu_z, gamma_z = self.encode(x)\n",
        "    z = self.sample(mu_z, gamma_z)\n",
        "    mu_x, gamma_x = self.decode(z)\n",
        "    x1 = self.sample(mu_x, gamma_x)\n",
        "    return x1, self.kl(mu_z, gamma_z)\n",
        "    "
      ],
      "execution_count": 0,
      "outputs": []
    },
    {
      "cell_type": "code",
      "metadata": {
        "id": "G53PmkB0-HNN",
        "colab_type": "code",
        "colab": {}
      },
      "source": [
        ""
      ],
      "execution_count": 0,
      "outputs": []
    },
    {
      "cell_type": "code",
      "metadata": {
        "id": "1e3cAlkn-PFP",
        "colab_type": "code",
        "colab": {}
      },
      "source": [
        ""
      ],
      "execution_count": 0,
      "outputs": []
    }
  ]
}