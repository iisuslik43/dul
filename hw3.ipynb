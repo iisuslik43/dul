{
  "nbformat": 4,
  "nbformat_minor": 0,
  "metadata": {
    "colab": {
      "name": "hw3.ipynb",
      "provenance": [],
      "collapsed_sections": [],
      "include_colab_link": true
    },
    "kernelspec": {
      "name": "python3",
      "display_name": "Python 3"
    },
    "accelerator": "GPU",
    "widgets": {
      "application/vnd.jupyter.widget-state+json": {
        "72b2dd1ec8b847ff919c099f987ba052": {
          "model_module": "@jupyter-widgets/controls",
          "model_name": "HBoxModel",
          "state": {
            "_view_name": "HBoxView",
            "_dom_classes": [],
            "_model_name": "HBoxModel",
            "_view_module": "@jupyter-widgets/controls",
            "_model_module_version": "1.5.0",
            "_view_count": null,
            "_view_module_version": "1.5.0",
            "box_style": "",
            "layout": "IPY_MODEL_26b07a497ad745eb9e570ea05b808bf0",
            "_model_module": "@jupyter-widgets/controls",
            "children": [
              "IPY_MODEL_453f4037ff404d35935890f64d310c05",
              "IPY_MODEL_e311d317127e403884ea0e56e864bee0"
            ]
          }
        },
        "26b07a497ad745eb9e570ea05b808bf0": {
          "model_module": "@jupyter-widgets/base",
          "model_name": "LayoutModel",
          "state": {
            "_view_name": "LayoutView",
            "grid_template_rows": null,
            "right": null,
            "justify_content": null,
            "_view_module": "@jupyter-widgets/base",
            "overflow": null,
            "_model_module_version": "1.2.0",
            "_view_count": null,
            "flex_flow": null,
            "width": null,
            "min_width": null,
            "border": null,
            "align_items": null,
            "bottom": null,
            "_model_module": "@jupyter-widgets/base",
            "top": null,
            "grid_column": null,
            "overflow_y": null,
            "overflow_x": null,
            "grid_auto_flow": null,
            "grid_area": null,
            "grid_template_columns": null,
            "flex": null,
            "_model_name": "LayoutModel",
            "justify_items": null,
            "grid_row": null,
            "max_height": null,
            "align_content": null,
            "visibility": null,
            "align_self": null,
            "height": null,
            "min_height": null,
            "padding": null,
            "grid_auto_rows": null,
            "grid_gap": null,
            "max_width": null,
            "order": null,
            "_view_module_version": "1.2.0",
            "grid_template_areas": null,
            "object_position": null,
            "object_fit": null,
            "grid_auto_columns": null,
            "margin": null,
            "display": null,
            "left": null
          }
        },
        "453f4037ff404d35935890f64d310c05": {
          "model_module": "@jupyter-widgets/controls",
          "model_name": "IntProgressModel",
          "state": {
            "_view_name": "ProgressView",
            "style": "IPY_MODEL_60182889fc8848b989b126cf8aac7eef",
            "_dom_classes": [],
            "description": "",
            "_model_name": "IntProgressModel",
            "bar_style": "success",
            "max": 1,
            "_view_module": "@jupyter-widgets/controls",
            "_model_module_version": "1.5.0",
            "value": 1,
            "_view_count": null,
            "_view_module_version": "1.5.0",
            "orientation": "horizontal",
            "min": 0,
            "description_tooltip": null,
            "_model_module": "@jupyter-widgets/controls",
            "layout": "IPY_MODEL_217ab87279f841afacf78872e916c6ce"
          }
        },
        "e311d317127e403884ea0e56e864bee0": {
          "model_module": "@jupyter-widgets/controls",
          "model_name": "HTMLModel",
          "state": {
            "_view_name": "HTMLView",
            "style": "IPY_MODEL_8371bb40c462424b8d93ee794d1e6b7d",
            "_dom_classes": [],
            "description": "",
            "_model_name": "HTMLModel",
            "placeholder": "​",
            "_view_module": "@jupyter-widgets/controls",
            "_model_module_version": "1.5.0",
            "value": "100% 1/1 [06:58&lt;00:00, 418.61s/it]",
            "_view_count": null,
            "_view_module_version": "1.5.0",
            "description_tooltip": null,
            "_model_module": "@jupyter-widgets/controls",
            "layout": "IPY_MODEL_7d1aa6b285954cefba125993042ea376"
          }
        },
        "60182889fc8848b989b126cf8aac7eef": {
          "model_module": "@jupyter-widgets/controls",
          "model_name": "ProgressStyleModel",
          "state": {
            "_view_name": "StyleView",
            "_model_name": "ProgressStyleModel",
            "description_width": "",
            "_view_module": "@jupyter-widgets/base",
            "_model_module_version": "1.5.0",
            "_view_count": null,
            "_view_module_version": "1.2.0",
            "bar_color": null,
            "_model_module": "@jupyter-widgets/controls"
          }
        },
        "217ab87279f841afacf78872e916c6ce": {
          "model_module": "@jupyter-widgets/base",
          "model_name": "LayoutModel",
          "state": {
            "_view_name": "LayoutView",
            "grid_template_rows": null,
            "right": null,
            "justify_content": null,
            "_view_module": "@jupyter-widgets/base",
            "overflow": null,
            "_model_module_version": "1.2.0",
            "_view_count": null,
            "flex_flow": null,
            "width": null,
            "min_width": null,
            "border": null,
            "align_items": null,
            "bottom": null,
            "_model_module": "@jupyter-widgets/base",
            "top": null,
            "grid_column": null,
            "overflow_y": null,
            "overflow_x": null,
            "grid_auto_flow": null,
            "grid_area": null,
            "grid_template_columns": null,
            "flex": null,
            "_model_name": "LayoutModel",
            "justify_items": null,
            "grid_row": null,
            "max_height": null,
            "align_content": null,
            "visibility": null,
            "align_self": null,
            "height": null,
            "min_height": null,
            "padding": null,
            "grid_auto_rows": null,
            "grid_gap": null,
            "max_width": null,
            "order": null,
            "_view_module_version": "1.2.0",
            "grid_template_areas": null,
            "object_position": null,
            "object_fit": null,
            "grid_auto_columns": null,
            "margin": null,
            "display": null,
            "left": null
          }
        },
        "8371bb40c462424b8d93ee794d1e6b7d": {
          "model_module": "@jupyter-widgets/controls",
          "model_name": "DescriptionStyleModel",
          "state": {
            "_view_name": "StyleView",
            "_model_name": "DescriptionStyleModel",
            "description_width": "",
            "_view_module": "@jupyter-widgets/base",
            "_model_module_version": "1.5.0",
            "_view_count": null,
            "_view_module_version": "1.2.0",
            "_model_module": "@jupyter-widgets/controls"
          }
        },
        "7d1aa6b285954cefba125993042ea376": {
          "model_module": "@jupyter-widgets/base",
          "model_name": "LayoutModel",
          "state": {
            "_view_name": "LayoutView",
            "grid_template_rows": null,
            "right": null,
            "justify_content": null,
            "_view_module": "@jupyter-widgets/base",
            "overflow": null,
            "_model_module_version": "1.2.0",
            "_view_count": null,
            "flex_flow": null,
            "width": null,
            "min_width": null,
            "border": null,
            "align_items": null,
            "bottom": null,
            "_model_module": "@jupyter-widgets/base",
            "top": null,
            "grid_column": null,
            "overflow_y": null,
            "overflow_x": null,
            "grid_auto_flow": null,
            "grid_area": null,
            "grid_template_columns": null,
            "flex": null,
            "_model_name": "LayoutModel",
            "justify_items": null,
            "grid_row": null,
            "max_height": null,
            "align_content": null,
            "visibility": null,
            "align_self": null,
            "height": null,
            "min_height": null,
            "padding": null,
            "grid_auto_rows": null,
            "grid_gap": null,
            "max_width": null,
            "order": null,
            "_view_module_version": "1.2.0",
            "grid_template_areas": null,
            "object_position": null,
            "object_fit": null,
            "grid_auto_columns": null,
            "margin": null,
            "display": null,
            "left": null
          }
        },
        "ec05ce0ebd9a4f8480e8853085dccc8b": {
          "model_module": "@jupyter-widgets/controls",
          "model_name": "HBoxModel",
          "state": {
            "_view_name": "HBoxView",
            "_dom_classes": [],
            "_model_name": "HBoxModel",
            "_view_module": "@jupyter-widgets/controls",
            "_model_module_version": "1.5.0",
            "_view_count": null,
            "_view_module_version": "1.5.0",
            "box_style": "",
            "layout": "IPY_MODEL_b451e234a2b9450a9b522429ce3af18e",
            "_model_module": "@jupyter-widgets/controls",
            "children": [
              "IPY_MODEL_94653d8abf5d4320b9b49d4e2fa19b95",
              "IPY_MODEL_fb2874eaa0c040168c1d28f4a6285210"
            ]
          }
        },
        "b451e234a2b9450a9b522429ce3af18e": {
          "model_module": "@jupyter-widgets/base",
          "model_name": "LayoutModel",
          "state": {
            "_view_name": "LayoutView",
            "grid_template_rows": null,
            "right": null,
            "justify_content": null,
            "_view_module": "@jupyter-widgets/base",
            "overflow": null,
            "_model_module_version": "1.2.0",
            "_view_count": null,
            "flex_flow": null,
            "width": null,
            "min_width": null,
            "border": null,
            "align_items": null,
            "bottom": null,
            "_model_module": "@jupyter-widgets/base",
            "top": null,
            "grid_column": null,
            "overflow_y": null,
            "overflow_x": null,
            "grid_auto_flow": null,
            "grid_area": null,
            "grid_template_columns": null,
            "flex": null,
            "_model_name": "LayoutModel",
            "justify_items": null,
            "grid_row": null,
            "max_height": null,
            "align_content": null,
            "visibility": null,
            "align_self": null,
            "height": null,
            "min_height": null,
            "padding": null,
            "grid_auto_rows": null,
            "grid_gap": null,
            "max_width": null,
            "order": null,
            "_view_module_version": "1.2.0",
            "grid_template_areas": null,
            "object_position": null,
            "object_fit": null,
            "grid_auto_columns": null,
            "margin": null,
            "display": null,
            "left": null
          }
        },
        "94653d8abf5d4320b9b49d4e2fa19b95": {
          "model_module": "@jupyter-widgets/controls",
          "model_name": "IntProgressModel",
          "state": {
            "_view_name": "ProgressView",
            "style": "IPY_MODEL_26d629d9cf7d4b779f2dc6a92f066742",
            "_dom_classes": [],
            "description": "",
            "_model_name": "IntProgressModel",
            "bar_style": "success",
            "max": 26667,
            "_view_module": "@jupyter-widgets/controls",
            "_model_module_version": "1.5.0",
            "value": 26667,
            "_view_count": null,
            "_view_module_version": "1.5.0",
            "orientation": "horizontal",
            "min": 0,
            "description_tooltip": null,
            "_model_module": "@jupyter-widgets/controls",
            "layout": "IPY_MODEL_590eb75d4b3d4f11bc53a13e4c57adaf"
          }
        },
        "fb2874eaa0c040168c1d28f4a6285210": {
          "model_module": "@jupyter-widgets/controls",
          "model_name": "HTMLModel",
          "state": {
            "_view_name": "HTMLView",
            "style": "IPY_MODEL_404cfb5aaf1b4f1b86af022c8e8c3284",
            "_dom_classes": [],
            "description": "",
            "_model_name": "HTMLModel",
            "placeholder": "​",
            "_view_module": "@jupyter-widgets/controls",
            "_model_module_version": "1.5.0",
            "value": "100% 26667/26667 [06:58&lt;00:00, 63.71it/s]",
            "_view_count": null,
            "_view_module_version": "1.5.0",
            "description_tooltip": null,
            "_model_module": "@jupyter-widgets/controls",
            "layout": "IPY_MODEL_9f01c114605d4414adc355393f212609"
          }
        },
        "26d629d9cf7d4b779f2dc6a92f066742": {
          "model_module": "@jupyter-widgets/controls",
          "model_name": "ProgressStyleModel",
          "state": {
            "_view_name": "StyleView",
            "_model_name": "ProgressStyleModel",
            "description_width": "",
            "_view_module": "@jupyter-widgets/base",
            "_model_module_version": "1.5.0",
            "_view_count": null,
            "_view_module_version": "1.2.0",
            "bar_color": null,
            "_model_module": "@jupyter-widgets/controls"
          }
        },
        "590eb75d4b3d4f11bc53a13e4c57adaf": {
          "model_module": "@jupyter-widgets/base",
          "model_name": "LayoutModel",
          "state": {
            "_view_name": "LayoutView",
            "grid_template_rows": null,
            "right": null,
            "justify_content": null,
            "_view_module": "@jupyter-widgets/base",
            "overflow": null,
            "_model_module_version": "1.2.0",
            "_view_count": null,
            "flex_flow": null,
            "width": null,
            "min_width": null,
            "border": null,
            "align_items": null,
            "bottom": null,
            "_model_module": "@jupyter-widgets/base",
            "top": null,
            "grid_column": null,
            "overflow_y": null,
            "overflow_x": null,
            "grid_auto_flow": null,
            "grid_area": null,
            "grid_template_columns": null,
            "flex": null,
            "_model_name": "LayoutModel",
            "justify_items": null,
            "grid_row": null,
            "max_height": null,
            "align_content": null,
            "visibility": null,
            "align_self": null,
            "height": null,
            "min_height": null,
            "padding": null,
            "grid_auto_rows": null,
            "grid_gap": null,
            "max_width": null,
            "order": null,
            "_view_module_version": "1.2.0",
            "grid_template_areas": null,
            "object_position": null,
            "object_fit": null,
            "grid_auto_columns": null,
            "margin": null,
            "display": null,
            "left": null
          }
        },
        "404cfb5aaf1b4f1b86af022c8e8c3284": {
          "model_module": "@jupyter-widgets/controls",
          "model_name": "DescriptionStyleModel",
          "state": {
            "_view_name": "StyleView",
            "_model_name": "DescriptionStyleModel",
            "description_width": "",
            "_view_module": "@jupyter-widgets/base",
            "_model_module_version": "1.5.0",
            "_view_count": null,
            "_view_module_version": "1.2.0",
            "_model_module": "@jupyter-widgets/controls"
          }
        },
        "9f01c114605d4414adc355393f212609": {
          "model_module": "@jupyter-widgets/base",
          "model_name": "LayoutModel",
          "state": {
            "_view_name": "LayoutView",
            "grid_template_rows": null,
            "right": null,
            "justify_content": null,
            "_view_module": "@jupyter-widgets/base",
            "overflow": null,
            "_model_module_version": "1.2.0",
            "_view_count": null,
            "flex_flow": null,
            "width": null,
            "min_width": null,
            "border": null,
            "align_items": null,
            "bottom": null,
            "_model_module": "@jupyter-widgets/base",
            "top": null,
            "grid_column": null,
            "overflow_y": null,
            "overflow_x": null,
            "grid_auto_flow": null,
            "grid_area": null,
            "grid_template_columns": null,
            "flex": null,
            "_model_name": "LayoutModel",
            "justify_items": null,
            "grid_row": null,
            "max_height": null,
            "align_content": null,
            "visibility": null,
            "align_self": null,
            "height": null,
            "min_height": null,
            "padding": null,
            "grid_auto_rows": null,
            "grid_gap": null,
            "max_width": null,
            "order": null,
            "_view_module_version": "1.2.0",
            "grid_template_areas": null,
            "object_position": null,
            "object_fit": null,
            "grid_auto_columns": null,
            "margin": null,
            "display": null,
            "left": null
          }
        }
      }
    }
  },
  "cells": [
    {
      "cell_type": "markdown",
      "metadata": {
        "id": "view-in-github",
        "colab_type": "text"
      },
      "source": [
        "<a href=\"https://colab.research.google.com/github/iisuslik43/dul/blob/hw3/hw3.ipynb\" target=\"_parent\"><img src=\"https://colab.research.google.com/assets/colab-badge.svg\" alt=\"Open In Colab\"/></a>"
      ]
    },
    {
      "cell_type": "code",
      "metadata": {
        "id": "yIT3e6xykR9h",
        "colab_type": "code",
        "colab": {
          "base_uri": "https://localhost:8080/",
          "height": 51
        },
        "outputId": "b766987f-5f72-4d2d-c5f4-f2e74ba00f7a"
      },
      "source": [
        "! pip install pymorphy2 >> /dev/null\n",
        "! pip install transformers >> /dev/null\n",
        "! pip install wandb >> /dev/null\n",
        "! wandb login b569130067842c47dc059479b75930c8f598012a"
      ],
      "execution_count": 2,
      "outputs": [
        {
          "output_type": "stream",
          "text": [
            "\u001b[34m\u001b[1mwandb\u001b[0m: Appending key for api.wandb.ai to your netrc file: /root/.netrc\n",
            "\u001b[32mSuccessfully logged in to Weights & Biases!\u001b[0m\n"
          ],
          "name": "stdout"
        }
      ]
    },
    {
      "cell_type": "code",
      "metadata": {
        "id": "R-m-IjXpkjbD",
        "colab_type": "code",
        "colab": {}
      },
      "source": [
        "import numpy as np\n",
        "import torch\n",
        "import torch.utils.data\n",
        "import matplotlib.pyplot as plt\n",
        "import torch.nn as nn\n",
        "import torch.nn.functional as F\n",
        "from tqdm import tqdm_notebook as tqdm\n",
        "import pickle\n",
        "import torch.nn.functional as F\n",
        "import os\n",
        "import csv\n",
        "\n",
        "import wandb\n",
        "device = torch.device('cuda:0' if torch.cuda.is_available() else 'cpu')"
      ],
      "execution_count": 0,
      "outputs": []
    },
    {
      "cell_type": "code",
      "metadata": {
        "id": "V3cJ5MRukpbI",
        "colab_type": "code",
        "colab": {}
      },
      "source": [
        "def sample_data_1():\n",
        "  count = 100000\n",
        "  rand = np.random.RandomState(0)\n",
        "  return [[1.0, 2.0]] + rand.randn(count, 2) * [[5.0, 1.0]]\n",
        "def sample_data_2():\n",
        "  count = 100000\n",
        "  rand = np.random.RandomState(0)\n",
        "  return [[1.0, 2.0]] + (rand.randn(count, 2) * [[5.0, 1.0]]).dot(\n",
        "  [[np.sqrt(2) / 2, np.sqrt(2) / 2], [-np.sqrt(2) / 2, np.sqrt(2) / 2]])\n",
        "\n",
        "def sample_data_3():\n",
        "  count = 100000\n",
        "  rand = np.random.RandomState(0)\n",
        "  a = [[-1.5, 2.5]] + rand.randn(count // 3, 2) * 0.2\n",
        "  b = [[1.5, 2.5]] + rand.randn(count // 3, 2) * 0.2\n",
        "  c = np.c_[2 * np.cos(np.linspace(0, np.pi, count // 3)),\n",
        "  -np.sin(np.linspace(0, np.pi, count // 3))]\n",
        "\n",
        "  c += rand.randn(*c.shape) * 0.2\n",
        "  data_x = np.concatenate([a, b, c], axis=0)\n",
        "  data_y = np.array([0] * len(a) + [1] * len(b) + [2] * len(c))\n",
        "  perm = rand.permutation(len(data_x))\n",
        "  return data_x[perm], data_y[perm]"
      ],
      "execution_count": 0,
      "outputs": []
    },
    {
      "cell_type": "code",
      "metadata": {
        "id": "nw-tAJgjkpdg",
        "colab_type": "code",
        "colab": {}
      },
      "source": [
        "data1 = sample_data_1()\n",
        "data2 = sample_data_2()\n",
        "data3, y3 = sample_data_3()"
      ],
      "execution_count": 0,
      "outputs": []
    },
    {
      "cell_type": "code",
      "metadata": {
        "id": "6J5JgUxvkpgK",
        "colab_type": "code",
        "colab": {}
      },
      "source": [
        ""
      ],
      "execution_count": 0,
      "outputs": []
    },
    {
      "cell_type": "code",
      "metadata": {
        "id": "id8mHhZzzz85",
        "colab_type": "code",
        "colab": {}
      },
      "source": [
        "class VAE1(nn.Module):\n",
        "  def __init__(self, dim=2, latent_dim=2):\n",
        "    super().__init__()\n",
        "    self.dim = dim\n",
        "    self.latent_dim = latent_dim\n",
        "\n",
        "    self.normal = torch.distributions.Normal(torch.tensor([0.0]), torch.tensor([1.0]))\n",
        "\n",
        "    self.encoder = nn.Sequential(\n",
        "      nn.Linear(self.dim, 32),\n",
        "      nn.ReLU(True)\n",
        "    )\n",
        "\n",
        "    self.mu_z = nn.Linear(32, self.latent_dim)\n",
        "    self.gamma_z = nn.Linear(32, self.latent_dim ** 2)\n",
        "\n",
        "        \n",
        "\n",
        "    self.decoder = nn.Sequential(\n",
        "      nn.Linear(2, 32),\n",
        "      nn.ReLU(True)\n",
        "    )\n",
        "\n",
        "    self.mu_x = nn.Linear(32, self.dim)\n",
        "    self.gamma_x = nn.Linear(32, self.dim ** 2)\n",
        "\n",
        "  def sample(self, mu, gamma):\n",
        "    if self.training:\n",
        "        gamma = torch.exp(0.5 * gamma)\n",
        "        #std_z = Variable(torch.from_numpy(np.random.normal(0, 1, size=sigma.size())).float())\n",
        "        std_z = self.normal.sample(mu.shape).to(device).reshape(-1, 1, 2)\n",
        "        encoding = (std_z @ gamma).reshape(-1, 2) + mu\n",
        "        return encoding\n",
        "    else:\n",
        "        return mu\n",
        "\n",
        "  def encode(self, x):\n",
        "    x = self.encoder(x)\n",
        "    mu = self.mu_z(x)\n",
        "    gamma = self.gamma_z(x)\n",
        "    gamma = gamma.reshape(-1, 2, 2)\n",
        "    return mu, gamma\n",
        "\n",
        "  def decode(self, z):\n",
        "    z = self.decoder(z)\n",
        "    mu = self.mu_x(z)\n",
        "    gamma = self.gamma_x(z)\n",
        "    gamma = gamma.reshape(-1, 2, 2)\n",
        "    return mu, gamma\n",
        "\n",
        "  def kl(self, mu, gamma):\n",
        "    dim = mu.shape[1]\n",
        "    return 0.5 * ((gamma * torch.eye(dim).to(device)).sum(dim=(1, 2)) + (mu**2).sum(dim=-1) - dim - torch.log(gamma.det())).sum() / mu.shape[0]\n",
        "\n",
        "  def forward(self, x):\n",
        "    mu_z, gamma_z = self.encode(x)\n",
        "    z = self.sample(mu_z, gamma_z)\n",
        "    mu_x, gamma_x = self.decode(z)\n",
        "    x1 = self.sample(mu_x, gamma_x)\n",
        "    return x1, self.kl(mu_z, gamma_z)\n",
        "    "
      ],
      "execution_count": 0,
      "outputs": []
    },
    {
      "cell_type": "code",
      "metadata": {
        "id": "H6oDgVwaz0Bi",
        "colab_type": "code",
        "colab": {}
      },
      "source": [
        "class VAELoss(nn.Module):\n",
        "  def __init__(self):\n",
        "    super().__init__()\n",
        "    self.mse = nn.MSELoss()\n",
        "  \n",
        "  def forward(self, target, output, kl):\n",
        "    l2 = self.mse(output, target)\n",
        "    return l2 + kl"
      ],
      "execution_count": 0,
      "outputs": []
    },
    {
      "cell_type": "code",
      "metadata": {
        "id": "GCFxzOdMM1wU",
        "colab_type": "code",
        "colab": {}
      },
      "source": [
        ""
      ],
      "execution_count": 0,
      "outputs": []
    },
    {
      "cell_type": "code",
      "metadata": {
        "id": "YqYL3P8bkpie",
        "colab_type": "code",
        "colab": {}
      },
      "source": [
        "\n",
        "def train(model, criterion, data, n_epochs=3, use_wandb=False, batch_size=3):\n",
        "  split = int(len(data) * 0.8)\n",
        "  dataset_train = torch.utils.data.DataLoader(data[:split],\n",
        "                                              batch_size=batch_size,\n",
        "                                              shuffle=True)\n",
        "  dataset_test = torch.utils.data.DataLoader(data[split:],\n",
        "                                             batch_size=batch_size,\n",
        "                                             shuffle=True)\n",
        "  optimizer = torch.optim.Adam(params=model.parameters())\n",
        "  if use_wandb:\n",
        "    wandb.init(project=\"dul-hw3-vae\")\n",
        "    wandb.watch(model)\n",
        "  for epoch in tqdm(range(1, n_epochs + 1)):\n",
        "      for x_batch in tqdm(dataset_train):\n",
        "          optimizer.zero_grad()\n",
        "          x_batch = x_batch.float().to(device)\n",
        "          output, kl = model(x_batch)\n",
        "          loss = criterion(x_batch, output, kl)\n",
        "          loss.backward()\n",
        "          optimizer.step()\n",
        "\n",
        "          train_loss = loss.item()\n",
        "          kl_train = kl.item()\n",
        "\n",
        "          with torch.no_grad():\n",
        "              model.eval()\n",
        "              for x_test in dataset_test:\n",
        "                  x_test = x_test.float().to(device)\n",
        "                  output_test, kl_test = model(x_test)\n",
        "                  test_loss = criterion(x_test, output_test, kl_test).item()\n",
        "                  kl_test = kl_test.item()\n",
        "                  break\n",
        "              model.train()\n",
        "          if use_wandb:\n",
        "            wandb.log({\"Test Loss\": test_loss,\n",
        "                        \"Train Loss\": train_loss,\n",
        "                      \"KL test\": kl_test,\n",
        "                      \"KL train\": kl_train,\n",
        "                      \"L2 test\": test_loss - kl_test,\n",
        "                      \"L2 train\": train_loss - kl_train\n",
        "                        })"
      ],
      "execution_count": 0,
      "outputs": []
    },
    {
      "cell_type": "code",
      "metadata": {
        "id": "blN72qrQf0ko",
        "colab_type": "code",
        "colab": {}
      },
      "source": [
        "model1 = VAE1()\n",
        "model2 = VAE1()\n",
        "model3 = VAE1()"
      ],
      "execution_count": 0,
      "outputs": []
    },
    {
      "cell_type": "code",
      "metadata": {
        "id": "vWtufQHdVgeJ",
        "colab_type": "code",
        "colab": {
          "base_uri": "https://localhost:8080/",
          "height": 132,
          "referenced_widgets": [
            "72b2dd1ec8b847ff919c099f987ba052",
            "26b07a497ad745eb9e570ea05b808bf0",
            "453f4037ff404d35935890f64d310c05",
            "e311d317127e403884ea0e56e864bee0",
            "60182889fc8848b989b126cf8aac7eef",
            "217ab87279f841afacf78872e916c6ce",
            "8371bb40c462424b8d93ee794d1e6b7d",
            "7d1aa6b285954cefba125993042ea376",
            "ec05ce0ebd9a4f8480e8853085dccc8b",
            "b451e234a2b9450a9b522429ce3af18e",
            "94653d8abf5d4320b9b49d4e2fa19b95",
            "fb2874eaa0c040168c1d28f4a6285210",
            "26d629d9cf7d4b779f2dc6a92f066742",
            "590eb75d4b3d4f11bc53a13e4c57adaf",
            "404cfb5aaf1b4f1b86af022c8e8c3284",
            "9f01c114605d4414adc355393f212609"
          ]
        },
        "outputId": "d961fc28-aa69-42c3-cb00-4e4ac9f04bc1"
      },
      "source": [
        "train(model1.to(device), VAELoss(), data1, use_wandb=True)"
      ],
      "execution_count": 114,
      "outputs": [
        {
          "output_type": "display_data",
          "data": {
            "text/html": [
              "\n",
              "                Logging results to <a href=\"https://wandb.com\" target=\"_blank\">Weights & Biases</a> <a href=\"https://docs.wandb.com/integrations/jupyter.html\" target=\"_blank\">(Documentation)</a>.<br/>\n",
              "                Project page: <a href=\"https://app.wandb.ai/iisuslik43/dul-hw3-vae\" target=\"_blank\">https://app.wandb.ai/iisuslik43/dul-hw3-vae</a><br/>\n",
              "                Run page: <a href=\"https://app.wandb.ai/iisuslik43/dul-hw3-vae/runs/nefu2km8\" target=\"_blank\">https://app.wandb.ai/iisuslik43/dul-hw3-vae/runs/nefu2km8</a><br/>\n",
              "            "
            ],
            "text/plain": [
              "<IPython.core.display.HTML object>"
            ]
          },
          "metadata": {
            "tags": []
          }
        },
        {
          "output_type": "display_data",
          "data": {
            "application/vnd.jupyter.widget-view+json": {
              "model_id": "72b2dd1ec8b847ff919c099f987ba052",
              "version_minor": 0,
              "version_major": 2
            },
            "text/plain": [
              "HBox(children=(IntProgress(value=0, max=1), HTML(value='')))"
            ]
          },
          "metadata": {
            "tags": []
          }
        },
        {
          "output_type": "display_data",
          "data": {
            "application/vnd.jupyter.widget-view+json": {
              "model_id": "ec05ce0ebd9a4f8480e8853085dccc8b",
              "version_minor": 0,
              "version_major": 2
            },
            "text/plain": [
              "HBox(children=(IntProgress(value=0, max=26667), HTML(value='')))"
            ]
          },
          "metadata": {
            "tags": []
          }
        }
      ]
    },
    {
      "cell_type": "code",
      "metadata": {
        "id": "MeVIN_lAZGF8",
        "colab_type": "code",
        "colab": {}
      },
      "source": [
        "train(model2.to(device), VAELoss(), data2, use_wandb=True)"
      ],
      "execution_count": 0,
      "outputs": []
    },
    {
      "cell_type": "code",
      "metadata": {
        "id": "h559s1_GgK6v",
        "colab_type": "code",
        "colab": {}
      },
      "source": [
        "train(model3.to(device), VAELoss(), data3, use_wandb=True)"
      ],
      "execution_count": 0,
      "outputs": []
    }
  ]
}