{
  "nbformat": 4,
  "nbformat_minor": 0,
  "metadata": {
    "colab": {
      "name": "hw3.ipynb",
      "provenance": [],
      "collapsed_sections": [
        "KBTq6m76xn96"
      ],
      "toc_visible": true,
      "include_colab_link": true
    },
    "kernelspec": {
      "name": "python3",
      "display_name": "Python 3"
    },
    "accelerator": "GPU",
    "widgets": {
      "application/vnd.jupyter.widget-state+json": {
        "166d199c1ce644f1a9d96b8afa31bc25": {
          "model_module": "@jupyter-widgets/controls",
          "model_name": "HBoxModel",
          "state": {
            "_view_name": "HBoxView",
            "_dom_classes": [],
            "_model_name": "HBoxModel",
            "_view_module": "@jupyter-widgets/controls",
            "_model_module_version": "1.5.0",
            "_view_count": null,
            "_view_module_version": "1.5.0",
            "box_style": "",
            "layout": "IPY_MODEL_418c43d914dd44d1a5c90f49317dd31e",
            "_model_module": "@jupyter-widgets/controls",
            "children": [
              "IPY_MODEL_ed115d50c65249708f624f83b2e4ea65",
              "IPY_MODEL_49d4299c128d4d7ba19b1d9abad57f3d"
            ]
          }
        },
        "418c43d914dd44d1a5c90f49317dd31e": {
          "model_module": "@jupyter-widgets/base",
          "model_name": "LayoutModel",
          "state": {
            "_view_name": "LayoutView",
            "grid_template_rows": null,
            "right": null,
            "justify_content": null,
            "_view_module": "@jupyter-widgets/base",
            "overflow": null,
            "_model_module_version": "1.2.0",
            "_view_count": null,
            "flex_flow": null,
            "width": null,
            "min_width": null,
            "border": null,
            "align_items": null,
            "bottom": null,
            "_model_module": "@jupyter-widgets/base",
            "top": null,
            "grid_column": null,
            "overflow_y": null,
            "overflow_x": null,
            "grid_auto_flow": null,
            "grid_area": null,
            "grid_template_columns": null,
            "flex": null,
            "_model_name": "LayoutModel",
            "justify_items": null,
            "grid_row": null,
            "max_height": null,
            "align_content": null,
            "visibility": null,
            "align_self": null,
            "height": null,
            "min_height": null,
            "padding": null,
            "grid_auto_rows": null,
            "grid_gap": null,
            "max_width": null,
            "order": null,
            "_view_module_version": "1.2.0",
            "grid_template_areas": null,
            "object_position": null,
            "object_fit": null,
            "grid_auto_columns": null,
            "margin": null,
            "display": null,
            "left": null
          }
        },
        "ed115d50c65249708f624f83b2e4ea65": {
          "model_module": "@jupyter-widgets/controls",
          "model_name": "IntProgressModel",
          "state": {
            "_view_name": "ProgressView",
            "style": "IPY_MODEL_69ffcf3d2057440faf3bf8603099d2d3",
            "_dom_classes": [],
            "description": "",
            "_model_name": "IntProgressModel",
            "bar_style": "success",
            "max": 40,
            "_view_module": "@jupyter-widgets/controls",
            "_model_module_version": "1.5.0",
            "value": 40,
            "_view_count": null,
            "_view_module_version": "1.5.0",
            "orientation": "horizontal",
            "min": 0,
            "description_tooltip": null,
            "_model_module": "@jupyter-widgets/controls",
            "layout": "IPY_MODEL_a0a6f2e960dc46d2bee29782c85d7f76"
          }
        },
        "49d4299c128d4d7ba19b1d9abad57f3d": {
          "model_module": "@jupyter-widgets/controls",
          "model_name": "HTMLModel",
          "state": {
            "_view_name": "HTMLView",
            "style": "IPY_MODEL_eff895a7531641498fae3397448a90da",
            "_dom_classes": [],
            "description": "",
            "_model_name": "HTMLModel",
            "placeholder": "​",
            "_view_module": "@jupyter-widgets/controls",
            "_model_module_version": "1.5.0",
            "value": "100% 40/40 [02:18&lt;00:00,  3.54s/it]",
            "_view_count": null,
            "_view_module_version": "1.5.0",
            "description_tooltip": null,
            "_model_module": "@jupyter-widgets/controls",
            "layout": "IPY_MODEL_4a02d6ecbfda4c979281b48e54e7f23c"
          }
        },
        "69ffcf3d2057440faf3bf8603099d2d3": {
          "model_module": "@jupyter-widgets/controls",
          "model_name": "ProgressStyleModel",
          "state": {
            "_view_name": "StyleView",
            "_model_name": "ProgressStyleModel",
            "description_width": "",
            "_view_module": "@jupyter-widgets/base",
            "_model_module_version": "1.5.0",
            "_view_count": null,
            "_view_module_version": "1.2.0",
            "bar_color": null,
            "_model_module": "@jupyter-widgets/controls"
          }
        },
        "a0a6f2e960dc46d2bee29782c85d7f76": {
          "model_module": "@jupyter-widgets/base",
          "model_name": "LayoutModel",
          "state": {
            "_view_name": "LayoutView",
            "grid_template_rows": null,
            "right": null,
            "justify_content": null,
            "_view_module": "@jupyter-widgets/base",
            "overflow": null,
            "_model_module_version": "1.2.0",
            "_view_count": null,
            "flex_flow": null,
            "width": null,
            "min_width": null,
            "border": null,
            "align_items": null,
            "bottom": null,
            "_model_module": "@jupyter-widgets/base",
            "top": null,
            "grid_column": null,
            "overflow_y": null,
            "overflow_x": null,
            "grid_auto_flow": null,
            "grid_area": null,
            "grid_template_columns": null,
            "flex": null,
            "_model_name": "LayoutModel",
            "justify_items": null,
            "grid_row": null,
            "max_height": null,
            "align_content": null,
            "visibility": null,
            "align_self": null,
            "height": null,
            "min_height": null,
            "padding": null,
            "grid_auto_rows": null,
            "grid_gap": null,
            "max_width": null,
            "order": null,
            "_view_module_version": "1.2.0",
            "grid_template_areas": null,
            "object_position": null,
            "object_fit": null,
            "grid_auto_columns": null,
            "margin": null,
            "display": null,
            "left": null
          }
        },
        "eff895a7531641498fae3397448a90da": {
          "model_module": "@jupyter-widgets/controls",
          "model_name": "DescriptionStyleModel",
          "state": {
            "_view_name": "StyleView",
            "_model_name": "DescriptionStyleModel",
            "description_width": "",
            "_view_module": "@jupyter-widgets/base",
            "_model_module_version": "1.5.0",
            "_view_count": null,
            "_view_module_version": "1.2.0",
            "_model_module": "@jupyter-widgets/controls"
          }
        },
        "4a02d6ecbfda4c979281b48e54e7f23c": {
          "model_module": "@jupyter-widgets/base",
          "model_name": "LayoutModel",
          "state": {
            "_view_name": "LayoutView",
            "grid_template_rows": null,
            "right": null,
            "justify_content": null,
            "_view_module": "@jupyter-widgets/base",
            "overflow": null,
            "_model_module_version": "1.2.0",
            "_view_count": null,
            "flex_flow": null,
            "width": null,
            "min_width": null,
            "border": null,
            "align_items": null,
            "bottom": null,
            "_model_module": "@jupyter-widgets/base",
            "top": null,
            "grid_column": null,
            "overflow_y": null,
            "overflow_x": null,
            "grid_auto_flow": null,
            "grid_area": null,
            "grid_template_columns": null,
            "flex": null,
            "_model_name": "LayoutModel",
            "justify_items": null,
            "grid_row": null,
            "max_height": null,
            "align_content": null,
            "visibility": null,
            "align_self": null,
            "height": null,
            "min_height": null,
            "padding": null,
            "grid_auto_rows": null,
            "grid_gap": null,
            "max_width": null,
            "order": null,
            "_view_module_version": "1.2.0",
            "grid_template_areas": null,
            "object_position": null,
            "object_fit": null,
            "grid_auto_columns": null,
            "margin": null,
            "display": null,
            "left": null
          }
        },
        "1326232ea4844355a7f0eedd5d6fc674": {
          "model_module": "@jupyter-widgets/controls",
          "model_name": "HBoxModel",
          "state": {
            "_view_name": "HBoxView",
            "_dom_classes": [],
            "_model_name": "HBoxModel",
            "_view_module": "@jupyter-widgets/controls",
            "_model_module_version": "1.5.0",
            "_view_count": null,
            "_view_module_version": "1.5.0",
            "box_style": "",
            "layout": "IPY_MODEL_cb5ee8464b7c481f95d6b6e930159024",
            "_model_module": "@jupyter-widgets/controls",
            "children": [
              "IPY_MODEL_6dbc45f14e42430992c2afe39baf4fd0",
              "IPY_MODEL_fc276f98db8b476794974898ab843352"
            ]
          }
        },
        "cb5ee8464b7c481f95d6b6e930159024": {
          "model_module": "@jupyter-widgets/base",
          "model_name": "LayoutModel",
          "state": {
            "_view_name": "LayoutView",
            "grid_template_rows": null,
            "right": null,
            "justify_content": null,
            "_view_module": "@jupyter-widgets/base",
            "overflow": null,
            "_model_module_version": "1.2.0",
            "_view_count": null,
            "flex_flow": null,
            "width": null,
            "min_width": null,
            "border": null,
            "align_items": null,
            "bottom": null,
            "_model_module": "@jupyter-widgets/base",
            "top": null,
            "grid_column": null,
            "overflow_y": null,
            "overflow_x": null,
            "grid_auto_flow": null,
            "grid_area": null,
            "grid_template_columns": null,
            "flex": null,
            "_model_name": "LayoutModel",
            "justify_items": null,
            "grid_row": null,
            "max_height": null,
            "align_content": null,
            "visibility": null,
            "align_self": null,
            "height": null,
            "min_height": null,
            "padding": null,
            "grid_auto_rows": null,
            "grid_gap": null,
            "max_width": null,
            "order": null,
            "_view_module_version": "1.2.0",
            "grid_template_areas": null,
            "object_position": null,
            "object_fit": null,
            "grid_auto_columns": null,
            "margin": null,
            "display": null,
            "left": null
          }
        },
        "6dbc45f14e42430992c2afe39baf4fd0": {
          "model_module": "@jupyter-widgets/controls",
          "model_name": "IntProgressModel",
          "state": {
            "_view_name": "ProgressView",
            "style": "IPY_MODEL_570457f69d1946c1bb62f5fd5cb1062d",
            "_dom_classes": [],
            "description": "",
            "_model_name": "IntProgressModel",
            "bar_style": "success",
            "max": 40,
            "_view_module": "@jupyter-widgets/controls",
            "_model_module_version": "1.5.0",
            "value": 40,
            "_view_count": null,
            "_view_module_version": "1.5.0",
            "orientation": "horizontal",
            "min": 0,
            "description_tooltip": null,
            "_model_module": "@jupyter-widgets/controls",
            "layout": "IPY_MODEL_7d36199758e840a59dc2f836b7784761"
          }
        },
        "fc276f98db8b476794974898ab843352": {
          "model_module": "@jupyter-widgets/controls",
          "model_name": "HTMLModel",
          "state": {
            "_view_name": "HTMLView",
            "style": "IPY_MODEL_870505641b3b4ee8a1c1df68a2dd72d4",
            "_dom_classes": [],
            "description": "",
            "_model_name": "HTMLModel",
            "placeholder": "​",
            "_view_module": "@jupyter-widgets/controls",
            "_model_module_version": "1.5.0",
            "value": "100% 40/40 [02:23&lt;00:00,  3.55s/it]",
            "_view_count": null,
            "_view_module_version": "1.5.0",
            "description_tooltip": null,
            "_model_module": "@jupyter-widgets/controls",
            "layout": "IPY_MODEL_ee43750c673f4ee0b41877884874135b"
          }
        },
        "570457f69d1946c1bb62f5fd5cb1062d": {
          "model_module": "@jupyter-widgets/controls",
          "model_name": "ProgressStyleModel",
          "state": {
            "_view_name": "StyleView",
            "_model_name": "ProgressStyleModel",
            "description_width": "",
            "_view_module": "@jupyter-widgets/base",
            "_model_module_version": "1.5.0",
            "_view_count": null,
            "_view_module_version": "1.2.0",
            "bar_color": null,
            "_model_module": "@jupyter-widgets/controls"
          }
        },
        "7d36199758e840a59dc2f836b7784761": {
          "model_module": "@jupyter-widgets/base",
          "model_name": "LayoutModel",
          "state": {
            "_view_name": "LayoutView",
            "grid_template_rows": null,
            "right": null,
            "justify_content": null,
            "_view_module": "@jupyter-widgets/base",
            "overflow": null,
            "_model_module_version": "1.2.0",
            "_view_count": null,
            "flex_flow": null,
            "width": null,
            "min_width": null,
            "border": null,
            "align_items": null,
            "bottom": null,
            "_model_module": "@jupyter-widgets/base",
            "top": null,
            "grid_column": null,
            "overflow_y": null,
            "overflow_x": null,
            "grid_auto_flow": null,
            "grid_area": null,
            "grid_template_columns": null,
            "flex": null,
            "_model_name": "LayoutModel",
            "justify_items": null,
            "grid_row": null,
            "max_height": null,
            "align_content": null,
            "visibility": null,
            "align_self": null,
            "height": null,
            "min_height": null,
            "padding": null,
            "grid_auto_rows": null,
            "grid_gap": null,
            "max_width": null,
            "order": null,
            "_view_module_version": "1.2.0",
            "grid_template_areas": null,
            "object_position": null,
            "object_fit": null,
            "grid_auto_columns": null,
            "margin": null,
            "display": null,
            "left": null
          }
        },
        "870505641b3b4ee8a1c1df68a2dd72d4": {
          "model_module": "@jupyter-widgets/controls",
          "model_name": "DescriptionStyleModel",
          "state": {
            "_view_name": "StyleView",
            "_model_name": "DescriptionStyleModel",
            "description_width": "",
            "_view_module": "@jupyter-widgets/base",
            "_model_module_version": "1.5.0",
            "_view_count": null,
            "_view_module_version": "1.2.0",
            "_model_module": "@jupyter-widgets/controls"
          }
        },
        "ee43750c673f4ee0b41877884874135b": {
          "model_module": "@jupyter-widgets/base",
          "model_name": "LayoutModel",
          "state": {
            "_view_name": "LayoutView",
            "grid_template_rows": null,
            "right": null,
            "justify_content": null,
            "_view_module": "@jupyter-widgets/base",
            "overflow": null,
            "_model_module_version": "1.2.0",
            "_view_count": null,
            "flex_flow": null,
            "width": null,
            "min_width": null,
            "border": null,
            "align_items": null,
            "bottom": null,
            "_model_module": "@jupyter-widgets/base",
            "top": null,
            "grid_column": null,
            "overflow_y": null,
            "overflow_x": null,
            "grid_auto_flow": null,
            "grid_area": null,
            "grid_template_columns": null,
            "flex": null,
            "_model_name": "LayoutModel",
            "justify_items": null,
            "grid_row": null,
            "max_height": null,
            "align_content": null,
            "visibility": null,
            "align_self": null,
            "height": null,
            "min_height": null,
            "padding": null,
            "grid_auto_rows": null,
            "grid_gap": null,
            "max_width": null,
            "order": null,
            "_view_module_version": "1.2.0",
            "grid_template_areas": null,
            "object_position": null,
            "object_fit": null,
            "grid_auto_columns": null,
            "margin": null,
            "display": null,
            "left": null
          }
        },
        "dc25ca50ed8b4957b6ecfbb4de8a5bab": {
          "model_module": "@jupyter-widgets/controls",
          "model_name": "HBoxModel",
          "state": {
            "_view_name": "HBoxView",
            "_dom_classes": [],
            "_model_name": "HBoxModel",
            "_view_module": "@jupyter-widgets/controls",
            "_model_module_version": "1.5.0",
            "_view_count": null,
            "_view_module_version": "1.5.0",
            "box_style": "",
            "layout": "IPY_MODEL_a5ef4de681ba43e3a61b0ebc69ac73eb",
            "_model_module": "@jupyter-widgets/controls",
            "children": [
              "IPY_MODEL_8b7716895699413da3e1bc4ad1375a73",
              "IPY_MODEL_0e8f555fc5c54b62aec959e49cfd0cbd"
            ]
          }
        },
        "a5ef4de681ba43e3a61b0ebc69ac73eb": {
          "model_module": "@jupyter-widgets/base",
          "model_name": "LayoutModel",
          "state": {
            "_view_name": "LayoutView",
            "grid_template_rows": null,
            "right": null,
            "justify_content": null,
            "_view_module": "@jupyter-widgets/base",
            "overflow": null,
            "_model_module_version": "1.2.0",
            "_view_count": null,
            "flex_flow": null,
            "width": null,
            "min_width": null,
            "border": null,
            "align_items": null,
            "bottom": null,
            "_model_module": "@jupyter-widgets/base",
            "top": null,
            "grid_column": null,
            "overflow_y": null,
            "overflow_x": null,
            "grid_auto_flow": null,
            "grid_area": null,
            "grid_template_columns": null,
            "flex": null,
            "_model_name": "LayoutModel",
            "justify_items": null,
            "grid_row": null,
            "max_height": null,
            "align_content": null,
            "visibility": null,
            "align_self": null,
            "height": null,
            "min_height": null,
            "padding": null,
            "grid_auto_rows": null,
            "grid_gap": null,
            "max_width": null,
            "order": null,
            "_view_module_version": "1.2.0",
            "grid_template_areas": null,
            "object_position": null,
            "object_fit": null,
            "grid_auto_columns": null,
            "margin": null,
            "display": null,
            "left": null
          }
        },
        "8b7716895699413da3e1bc4ad1375a73": {
          "model_module": "@jupyter-widgets/controls",
          "model_name": "IntProgressModel",
          "state": {
            "_view_name": "ProgressView",
            "style": "IPY_MODEL_ee73ed1890e646dd98208d0cffe95790",
            "_dom_classes": [],
            "description": "",
            "_model_name": "IntProgressModel",
            "bar_style": "success",
            "max": 60,
            "_view_module": "@jupyter-widgets/controls",
            "_model_module_version": "1.5.0",
            "value": 60,
            "_view_count": null,
            "_view_module_version": "1.5.0",
            "orientation": "horizontal",
            "min": 0,
            "description_tooltip": null,
            "_model_module": "@jupyter-widgets/controls",
            "layout": "IPY_MODEL_633c0d8f4a834eda85e59a39ba76a892"
          }
        },
        "0e8f555fc5c54b62aec959e49cfd0cbd": {
          "model_module": "@jupyter-widgets/controls",
          "model_name": "HTMLModel",
          "state": {
            "_view_name": "HTMLView",
            "style": "IPY_MODEL_0919849578dd4717871f27b0e1007fa9",
            "_dom_classes": [],
            "description": "",
            "_model_name": "HTMLModel",
            "placeholder": "​",
            "_view_module": "@jupyter-widgets/controls",
            "_model_module_version": "1.5.0",
            "value": "100% 60/60 [03:25&lt;00:00,  3.54s/it]",
            "_view_count": null,
            "_view_module_version": "1.5.0",
            "description_tooltip": null,
            "_model_module": "@jupyter-widgets/controls",
            "layout": "IPY_MODEL_0cb1cb423c6a4a679c2fbe80ade582ae"
          }
        },
        "ee73ed1890e646dd98208d0cffe95790": {
          "model_module": "@jupyter-widgets/controls",
          "model_name": "ProgressStyleModel",
          "state": {
            "_view_name": "StyleView",
            "_model_name": "ProgressStyleModel",
            "description_width": "",
            "_view_module": "@jupyter-widgets/base",
            "_model_module_version": "1.5.0",
            "_view_count": null,
            "_view_module_version": "1.2.0",
            "bar_color": null,
            "_model_module": "@jupyter-widgets/controls"
          }
        },
        "633c0d8f4a834eda85e59a39ba76a892": {
          "model_module": "@jupyter-widgets/base",
          "model_name": "LayoutModel",
          "state": {
            "_view_name": "LayoutView",
            "grid_template_rows": null,
            "right": null,
            "justify_content": null,
            "_view_module": "@jupyter-widgets/base",
            "overflow": null,
            "_model_module_version": "1.2.0",
            "_view_count": null,
            "flex_flow": null,
            "width": null,
            "min_width": null,
            "border": null,
            "align_items": null,
            "bottom": null,
            "_model_module": "@jupyter-widgets/base",
            "top": null,
            "grid_column": null,
            "overflow_y": null,
            "overflow_x": null,
            "grid_auto_flow": null,
            "grid_area": null,
            "grid_template_columns": null,
            "flex": null,
            "_model_name": "LayoutModel",
            "justify_items": null,
            "grid_row": null,
            "max_height": null,
            "align_content": null,
            "visibility": null,
            "align_self": null,
            "height": null,
            "min_height": null,
            "padding": null,
            "grid_auto_rows": null,
            "grid_gap": null,
            "max_width": null,
            "order": null,
            "_view_module_version": "1.2.0",
            "grid_template_areas": null,
            "object_position": null,
            "object_fit": null,
            "grid_auto_columns": null,
            "margin": null,
            "display": null,
            "left": null
          }
        },
        "0919849578dd4717871f27b0e1007fa9": {
          "model_module": "@jupyter-widgets/controls",
          "model_name": "DescriptionStyleModel",
          "state": {
            "_view_name": "StyleView",
            "_model_name": "DescriptionStyleModel",
            "description_width": "",
            "_view_module": "@jupyter-widgets/base",
            "_model_module_version": "1.5.0",
            "_view_count": null,
            "_view_module_version": "1.2.0",
            "_model_module": "@jupyter-widgets/controls"
          }
        },
        "0cb1cb423c6a4a679c2fbe80ade582ae": {
          "model_module": "@jupyter-widgets/base",
          "model_name": "LayoutModel",
          "state": {
            "_view_name": "LayoutView",
            "grid_template_rows": null,
            "right": null,
            "justify_content": null,
            "_view_module": "@jupyter-widgets/base",
            "overflow": null,
            "_model_module_version": "1.2.0",
            "_view_count": null,
            "flex_flow": null,
            "width": null,
            "min_width": null,
            "border": null,
            "align_items": null,
            "bottom": null,
            "_model_module": "@jupyter-widgets/base",
            "top": null,
            "grid_column": null,
            "overflow_y": null,
            "overflow_x": null,
            "grid_auto_flow": null,
            "grid_area": null,
            "grid_template_columns": null,
            "flex": null,
            "_model_name": "LayoutModel",
            "justify_items": null,
            "grid_row": null,
            "max_height": null,
            "align_content": null,
            "visibility": null,
            "align_self": null,
            "height": null,
            "min_height": null,
            "padding": null,
            "grid_auto_rows": null,
            "grid_gap": null,
            "max_width": null,
            "order": null,
            "_view_module_version": "1.2.0",
            "grid_template_areas": null,
            "object_position": null,
            "object_fit": null,
            "grid_auto_columns": null,
            "margin": null,
            "display": null,
            "left": null
          }
        },
        "fcd7489ba4434acc876d6f76e16f9aa2": {
          "model_module": "@jupyter-widgets/controls",
          "model_name": "HBoxModel",
          "state": {
            "_view_name": "HBoxView",
            "_dom_classes": [],
            "_model_name": "HBoxModel",
            "_view_module": "@jupyter-widgets/controls",
            "_model_module_version": "1.5.0",
            "_view_count": null,
            "_view_module_version": "1.5.0",
            "box_style": "",
            "layout": "IPY_MODEL_f11fdf004f7b471696f0f91f3a234dc6",
            "_model_module": "@jupyter-widgets/controls",
            "children": [
              "IPY_MODEL_36b726b82c864da6940881d642e18116",
              "IPY_MODEL_3a4308b71fee49aeb7cac296b7bc5dd8"
            ]
          }
        },
        "f11fdf004f7b471696f0f91f3a234dc6": {
          "model_module": "@jupyter-widgets/base",
          "model_name": "LayoutModel",
          "state": {
            "_view_name": "LayoutView",
            "grid_template_rows": null,
            "right": null,
            "justify_content": null,
            "_view_module": "@jupyter-widgets/base",
            "overflow": null,
            "_model_module_version": "1.2.0",
            "_view_count": null,
            "flex_flow": null,
            "width": null,
            "min_width": null,
            "border": null,
            "align_items": null,
            "bottom": null,
            "_model_module": "@jupyter-widgets/base",
            "top": null,
            "grid_column": null,
            "overflow_y": null,
            "overflow_x": null,
            "grid_auto_flow": null,
            "grid_area": null,
            "grid_template_columns": null,
            "flex": null,
            "_model_name": "LayoutModel",
            "justify_items": null,
            "grid_row": null,
            "max_height": null,
            "align_content": null,
            "visibility": null,
            "align_self": null,
            "height": null,
            "min_height": null,
            "padding": null,
            "grid_auto_rows": null,
            "grid_gap": null,
            "max_width": null,
            "order": null,
            "_view_module_version": "1.2.0",
            "grid_template_areas": null,
            "object_position": null,
            "object_fit": null,
            "grid_auto_columns": null,
            "margin": null,
            "display": null,
            "left": null
          }
        },
        "36b726b82c864da6940881d642e18116": {
          "model_module": "@jupyter-widgets/controls",
          "model_name": "IntProgressModel",
          "state": {
            "_view_name": "ProgressView",
            "style": "IPY_MODEL_61e92e513bf6490d8bed00e6d95180d5",
            "_dom_classes": [],
            "description": "",
            "_model_name": "IntProgressModel",
            "bar_style": "success",
            "max": 60,
            "_view_module": "@jupyter-widgets/controls",
            "_model_module_version": "1.5.0",
            "value": 60,
            "_view_count": null,
            "_view_module_version": "1.5.0",
            "orientation": "horizontal",
            "min": 0,
            "description_tooltip": null,
            "_model_module": "@jupyter-widgets/controls",
            "layout": "IPY_MODEL_2b521b424875429fa7aef67e39e900bd"
          }
        },
        "3a4308b71fee49aeb7cac296b7bc5dd8": {
          "model_module": "@jupyter-widgets/controls",
          "model_name": "HTMLModel",
          "state": {
            "_view_name": "HTMLView",
            "style": "IPY_MODEL_dd563ada997d4dd8844aad9fe13c158e",
            "_dom_classes": [],
            "description": "",
            "_model_name": "HTMLModel",
            "placeholder": "​",
            "_view_module": "@jupyter-widgets/controls",
            "_model_module_version": "1.5.0",
            "value": "100% 60/60 [03:28&lt;00:00,  3.42s/it]",
            "_view_count": null,
            "_view_module_version": "1.5.0",
            "description_tooltip": null,
            "_model_module": "@jupyter-widgets/controls",
            "layout": "IPY_MODEL_df9d1bcb250f4444b5b89e1948c42b03"
          }
        },
        "61e92e513bf6490d8bed00e6d95180d5": {
          "model_module": "@jupyter-widgets/controls",
          "model_name": "ProgressStyleModel",
          "state": {
            "_view_name": "StyleView",
            "_model_name": "ProgressStyleModel",
            "description_width": "",
            "_view_module": "@jupyter-widgets/base",
            "_model_module_version": "1.5.0",
            "_view_count": null,
            "_view_module_version": "1.2.0",
            "bar_color": null,
            "_model_module": "@jupyter-widgets/controls"
          }
        },
        "2b521b424875429fa7aef67e39e900bd": {
          "model_module": "@jupyter-widgets/base",
          "model_name": "LayoutModel",
          "state": {
            "_view_name": "LayoutView",
            "grid_template_rows": null,
            "right": null,
            "justify_content": null,
            "_view_module": "@jupyter-widgets/base",
            "overflow": null,
            "_model_module_version": "1.2.0",
            "_view_count": null,
            "flex_flow": null,
            "width": null,
            "min_width": null,
            "border": null,
            "align_items": null,
            "bottom": null,
            "_model_module": "@jupyter-widgets/base",
            "top": null,
            "grid_column": null,
            "overflow_y": null,
            "overflow_x": null,
            "grid_auto_flow": null,
            "grid_area": null,
            "grid_template_columns": null,
            "flex": null,
            "_model_name": "LayoutModel",
            "justify_items": null,
            "grid_row": null,
            "max_height": null,
            "align_content": null,
            "visibility": null,
            "align_self": null,
            "height": null,
            "min_height": null,
            "padding": null,
            "grid_auto_rows": null,
            "grid_gap": null,
            "max_width": null,
            "order": null,
            "_view_module_version": "1.2.0",
            "grid_template_areas": null,
            "object_position": null,
            "object_fit": null,
            "grid_auto_columns": null,
            "margin": null,
            "display": null,
            "left": null
          }
        },
        "dd563ada997d4dd8844aad9fe13c158e": {
          "model_module": "@jupyter-widgets/controls",
          "model_name": "DescriptionStyleModel",
          "state": {
            "_view_name": "StyleView",
            "_model_name": "DescriptionStyleModel",
            "description_width": "",
            "_view_module": "@jupyter-widgets/base",
            "_model_module_version": "1.5.0",
            "_view_count": null,
            "_view_module_version": "1.2.0",
            "_model_module": "@jupyter-widgets/controls"
          }
        },
        "df9d1bcb250f4444b5b89e1948c42b03": {
          "model_module": "@jupyter-widgets/base",
          "model_name": "LayoutModel",
          "state": {
            "_view_name": "LayoutView",
            "grid_template_rows": null,
            "right": null,
            "justify_content": null,
            "_view_module": "@jupyter-widgets/base",
            "overflow": null,
            "_model_module_version": "1.2.0",
            "_view_count": null,
            "flex_flow": null,
            "width": null,
            "min_width": null,
            "border": null,
            "align_items": null,
            "bottom": null,
            "_model_module": "@jupyter-widgets/base",
            "top": null,
            "grid_column": null,
            "overflow_y": null,
            "overflow_x": null,
            "grid_auto_flow": null,
            "grid_area": null,
            "grid_template_columns": null,
            "flex": null,
            "_model_name": "LayoutModel",
            "justify_items": null,
            "grid_row": null,
            "max_height": null,
            "align_content": null,
            "visibility": null,
            "align_self": null,
            "height": null,
            "min_height": null,
            "padding": null,
            "grid_auto_rows": null,
            "grid_gap": null,
            "max_width": null,
            "order": null,
            "_view_module_version": "1.2.0",
            "grid_template_areas": null,
            "object_position": null,
            "object_fit": null,
            "grid_auto_columns": null,
            "margin": null,
            "display": null,
            "left": null
          }
        },
        "8091dd81ba2845c388944c6077dc523b": {
          "model_module": "@jupyter-widgets/controls",
          "model_name": "HBoxModel",
          "state": {
            "_view_name": "HBoxView",
            "_dom_classes": [],
            "_model_name": "HBoxModel",
            "_view_module": "@jupyter-widgets/controls",
            "_model_module_version": "1.5.0",
            "_view_count": null,
            "_view_module_version": "1.5.0",
            "box_style": "",
            "layout": "IPY_MODEL_401b24c00e6d42c79a7e0e4ee6ad57fd",
            "_model_module": "@jupyter-widgets/controls",
            "children": [
              "IPY_MODEL_5b1cb918a721409ab3c50da55bdc0770",
              "IPY_MODEL_2acd5720569b4f819954c9b35415c9aa"
            ]
          }
        },
        "401b24c00e6d42c79a7e0e4ee6ad57fd": {
          "model_module": "@jupyter-widgets/base",
          "model_name": "LayoutModel",
          "state": {
            "_view_name": "LayoutView",
            "grid_template_rows": null,
            "right": null,
            "justify_content": null,
            "_view_module": "@jupyter-widgets/base",
            "overflow": null,
            "_model_module_version": "1.2.0",
            "_view_count": null,
            "flex_flow": null,
            "width": null,
            "min_width": null,
            "border": null,
            "align_items": null,
            "bottom": null,
            "_model_module": "@jupyter-widgets/base",
            "top": null,
            "grid_column": null,
            "overflow_y": null,
            "overflow_x": null,
            "grid_auto_flow": null,
            "grid_area": null,
            "grid_template_columns": null,
            "flex": null,
            "_model_name": "LayoutModel",
            "justify_items": null,
            "grid_row": null,
            "max_height": null,
            "align_content": null,
            "visibility": null,
            "align_self": null,
            "height": null,
            "min_height": null,
            "padding": null,
            "grid_auto_rows": null,
            "grid_gap": null,
            "max_width": null,
            "order": null,
            "_view_module_version": "1.2.0",
            "grid_template_areas": null,
            "object_position": null,
            "object_fit": null,
            "grid_auto_columns": null,
            "margin": null,
            "display": null,
            "left": null
          }
        },
        "5b1cb918a721409ab3c50da55bdc0770": {
          "model_module": "@jupyter-widgets/controls",
          "model_name": "IntProgressModel",
          "state": {
            "_view_name": "ProgressView",
            "style": "IPY_MODEL_14cb80edaa8d4b9b826e670065cca073",
            "_dom_classes": [],
            "description": "",
            "_model_name": "IntProgressModel",
            "bar_style": "success",
            "max": 300,
            "_view_module": "@jupyter-widgets/controls",
            "_model_module_version": "1.5.0",
            "value": 300,
            "_view_count": null,
            "_view_module_version": "1.5.0",
            "orientation": "horizontal",
            "min": 0,
            "description_tooltip": null,
            "_model_module": "@jupyter-widgets/controls",
            "layout": "IPY_MODEL_90eb9638f9104abcb011f769a8f52ada"
          }
        },
        "2acd5720569b4f819954c9b35415c9aa": {
          "model_module": "@jupyter-widgets/controls",
          "model_name": "HTMLModel",
          "state": {
            "_view_name": "HTMLView",
            "style": "IPY_MODEL_ea3e570a877845c4afe17359d432da59",
            "_dom_classes": [],
            "description": "",
            "_model_name": "HTMLModel",
            "placeholder": "​",
            "_view_module": "@jupyter-widgets/controls",
            "_model_module_version": "1.5.0",
            "value": "100% 300/300 [17:14&lt;00:00,  3.39s/it]",
            "_view_count": null,
            "_view_module_version": "1.5.0",
            "description_tooltip": null,
            "_model_module": "@jupyter-widgets/controls",
            "layout": "IPY_MODEL_07d36c9159ef4a4e8015c29ae542ea3b"
          }
        },
        "14cb80edaa8d4b9b826e670065cca073": {
          "model_module": "@jupyter-widgets/controls",
          "model_name": "ProgressStyleModel",
          "state": {
            "_view_name": "StyleView",
            "_model_name": "ProgressStyleModel",
            "description_width": "",
            "_view_module": "@jupyter-widgets/base",
            "_model_module_version": "1.5.0",
            "_view_count": null,
            "_view_module_version": "1.2.0",
            "bar_color": null,
            "_model_module": "@jupyter-widgets/controls"
          }
        },
        "90eb9638f9104abcb011f769a8f52ada": {
          "model_module": "@jupyter-widgets/base",
          "model_name": "LayoutModel",
          "state": {
            "_view_name": "LayoutView",
            "grid_template_rows": null,
            "right": null,
            "justify_content": null,
            "_view_module": "@jupyter-widgets/base",
            "overflow": null,
            "_model_module_version": "1.2.0",
            "_view_count": null,
            "flex_flow": null,
            "width": null,
            "min_width": null,
            "border": null,
            "align_items": null,
            "bottom": null,
            "_model_module": "@jupyter-widgets/base",
            "top": null,
            "grid_column": null,
            "overflow_y": null,
            "overflow_x": null,
            "grid_auto_flow": null,
            "grid_area": null,
            "grid_template_columns": null,
            "flex": null,
            "_model_name": "LayoutModel",
            "justify_items": null,
            "grid_row": null,
            "max_height": null,
            "align_content": null,
            "visibility": null,
            "align_self": null,
            "height": null,
            "min_height": null,
            "padding": null,
            "grid_auto_rows": null,
            "grid_gap": null,
            "max_width": null,
            "order": null,
            "_view_module_version": "1.2.0",
            "grid_template_areas": null,
            "object_position": null,
            "object_fit": null,
            "grid_auto_columns": null,
            "margin": null,
            "display": null,
            "left": null
          }
        },
        "ea3e570a877845c4afe17359d432da59": {
          "model_module": "@jupyter-widgets/controls",
          "model_name": "DescriptionStyleModel",
          "state": {
            "_view_name": "StyleView",
            "_model_name": "DescriptionStyleModel",
            "description_width": "",
            "_view_module": "@jupyter-widgets/base",
            "_model_module_version": "1.5.0",
            "_view_count": null,
            "_view_module_version": "1.2.0",
            "_model_module": "@jupyter-widgets/controls"
          }
        },
        "07d36c9159ef4a4e8015c29ae542ea3b": {
          "model_module": "@jupyter-widgets/base",
          "model_name": "LayoutModel",
          "state": {
            "_view_name": "LayoutView",
            "grid_template_rows": null,
            "right": null,
            "justify_content": null,
            "_view_module": "@jupyter-widgets/base",
            "overflow": null,
            "_model_module_version": "1.2.0",
            "_view_count": null,
            "flex_flow": null,
            "width": null,
            "min_width": null,
            "border": null,
            "align_items": null,
            "bottom": null,
            "_model_module": "@jupyter-widgets/base",
            "top": null,
            "grid_column": null,
            "overflow_y": null,
            "overflow_x": null,
            "grid_auto_flow": null,
            "grid_area": null,
            "grid_template_columns": null,
            "flex": null,
            "_model_name": "LayoutModel",
            "justify_items": null,
            "grid_row": null,
            "max_height": null,
            "align_content": null,
            "visibility": null,
            "align_self": null,
            "height": null,
            "min_height": null,
            "padding": null,
            "grid_auto_rows": null,
            "grid_gap": null,
            "max_width": null,
            "order": null,
            "_view_module_version": "1.2.0",
            "grid_template_areas": null,
            "object_position": null,
            "object_fit": null,
            "grid_auto_columns": null,
            "margin": null,
            "display": null,
            "left": null
          }
        }
      }
    }
  },
  "cells": [
    {
      "cell_type": "markdown",
      "metadata": {
        "id": "view-in-github",
        "colab_type": "text"
      },
      "source": [
        "<a href=\"https://colab.research.google.com/github/iisuslik43/dul/blob/hw3/hw3.ipynb\" target=\"_parent\"><img src=\"https://colab.research.google.com/assets/colab-badge.svg\" alt=\"Open In Colab\"/></a>"
      ]
    },
    {
      "cell_type": "code",
      "metadata": {
        "id": "KcQ3Jsyv9o0h",
        "colab_type": "code",
        "outputId": "7581092e-60cd-425a-8049-c309259ce1d1",
        "colab": {
          "base_uri": "https://localhost:8080/",
          "height": 122
        }
      },
      "source": [
        "from google.colab import drive\n",
        "drive.mount('/content/drive')\n",
        "\n",
        "! cp -r \"drive/My Drive/dul/\" ."
      ],
      "execution_count": 1,
      "outputs": [
        {
          "output_type": "stream",
          "text": [
            "Go to this URL in a browser: https://accounts.google.com/o/oauth2/auth?client_id=947318989803-6bn6qk8qdgf4n4g3pfee6491hc0brc4i.apps.googleusercontent.com&redirect_uri=urn%3aietf%3awg%3aoauth%3a2.0%3aoob&response_type=code&scope=email%20https%3a%2f%2fwww.googleapis.com%2fauth%2fdocs.test%20https%3a%2f%2fwww.googleapis.com%2fauth%2fdrive%20https%3a%2f%2fwww.googleapis.com%2fauth%2fdrive.photos.readonly%20https%3a%2f%2fwww.googleapis.com%2fauth%2fpeopleapi.readonly\n",
            "\n",
            "Enter your authorization code:\n",
            "··········\n",
            "Mounted at /content/drive\n"
          ],
          "name": "stdout"
        }
      ]
    },
    {
      "cell_type": "code",
      "metadata": {
        "id": "yIT3e6xykR9h",
        "colab_type": "code",
        "outputId": "52d4871e-f598-4e4e-ce34-b6e1bc6033e9",
        "colab": {
          "base_uri": "https://localhost:8080/",
          "height": 51
        }
      },
      "source": [
        "! pip install pymorphy2 >> /dev/null\n",
        "! pip install transformers >> /dev/null\n",
        "! pip install wandb >> /dev/null\n",
        "! wandb login b569130067842c47dc059479b75930c8f598012a"
      ],
      "execution_count": 2,
      "outputs": [
        {
          "output_type": "stream",
          "text": [
            "\u001b[34m\u001b[1mwandb\u001b[0m: Appending key for api.wandb.ai to your netrc file: /root/.netrc\n",
            "\u001b[32mSuccessfully logged in to Weights & Biases!\u001b[0m\n"
          ],
          "name": "stdout"
        }
      ]
    },
    {
      "cell_type": "code",
      "metadata": {
        "id": "R-m-IjXpkjbD",
        "colab_type": "code",
        "colab": {}
      },
      "source": [
        "import numpy as np\n",
        "import torch\n",
        "import torch.utils.data\n",
        "import matplotlib.pyplot as plt\n",
        "import torch.nn as nn\n",
        "import torch.nn.functional as F\n",
        "from tqdm import tqdm_notebook as tqdm\n",
        "import pickle\n",
        "import torch.nn.functional as F\n",
        "import os\n",
        "import csv\n",
        "\n",
        "import wandb\n",
        "device = torch.device('cuda:0' if torch.cuda.is_available() else 'cpu')"
      ],
      "execution_count": 0,
      "outputs": []
    },
    {
      "cell_type": "markdown",
      "metadata": {
        "id": "KBTq6m76xn96",
        "colab_type": "text"
      },
      "source": [
        "# Sampling"
      ]
    },
    {
      "cell_type": "code",
      "metadata": {
        "id": "V3cJ5MRukpbI",
        "colab_type": "code",
        "colab": {}
      },
      "source": [
        "def sample_data_1():\n",
        "  count = 100000\n",
        "  rand = np.random.RandomState(0)\n",
        "  return [[1.0, 2.0]] + rand.randn(count, 2) * [[5.0, 1.0]]\n",
        "def sample_data_2():\n",
        "  count = 100000\n",
        "  rand = np.random.RandomState(0)\n",
        "  return [[1.0, 2.0]] + (rand.randn(count, 2) * [[5.0, 1.0]]).dot(\n",
        "  [[np.sqrt(2) / 2, np.sqrt(2) / 2], [-np.sqrt(2) / 2, np.sqrt(2) / 2]])\n",
        "\n",
        "def sample_data_3():\n",
        "  count = 100000\n",
        "  rand = np.random.RandomState(0)\n",
        "  a = [[-1.5, 2.5]] + rand.randn(count // 3, 2) * 0.2\n",
        "  b = [[1.5, 2.5]] + rand.randn(count // 3, 2) * 0.2\n",
        "  c = np.c_[2 * np.cos(np.linspace(0, np.pi, count // 3)),\n",
        "  -np.sin(np.linspace(0, np.pi, count // 3))]\n",
        "\n",
        "  c += rand.randn(*c.shape) * 0.2\n",
        "  data_x = np.concatenate([a, b, c], axis=0)\n",
        "  data_y = np.array([0] * len(a) + [1] * len(b) + [2] * len(c))\n",
        "  perm = rand.permutation(len(data_x))\n",
        "  return data_x[perm], data_y[perm]"
      ],
      "execution_count": 0,
      "outputs": []
    },
    {
      "cell_type": "code",
      "metadata": {
        "id": "nw-tAJgjkpdg",
        "colab_type": "code",
        "colab": {}
      },
      "source": [
        "data1 = sample_data_1()\n",
        "data2 = sample_data_2()\n",
        "data3, y3 = sample_data_3()"
      ],
      "execution_count": 0,
      "outputs": []
    },
    {
      "cell_type": "markdown",
      "metadata": {
        "id": "NuEmhBs5xfiQ",
        "colab_type": "text"
      },
      "source": [
        "#Models code\n"
      ]
    },
    {
      "cell_type": "code",
      "metadata": {
        "id": "id8mHhZzzz85",
        "colab_type": "code",
        "colab": {}
      },
      "source": [
        "class VAE1(nn.Module):\n",
        "  def __init__(self, dim=2, latent_dim=2):\n",
        "    super().__init__()\n",
        "    self.dim = dim\n",
        "    self.latent_dim = latent_dim\n",
        "\n",
        "    self.normal = torch.distributions.Normal(torch.tensor([0.0]), torch.tensor([1.0]))\n",
        "\n",
        "    self.encoder = nn.Sequential(\n",
        "      nn.Linear(self.dim, 32),\n",
        "      nn.ReLU(True)\n",
        "    )\n",
        "\n",
        "    self.mu_z = nn.Linear(32, self.latent_dim)\n",
        "    self.gamma_z = nn.Linear(32, self.latent_dim)\n",
        "\n",
        "        \n",
        "\n",
        "    self.decoder = nn.Sequential(\n",
        "      nn.Linear(self.latent_dim, 32),\n",
        "      nn.ReLU(True)\n",
        "    )\n",
        "\n",
        "    self.mu_x = nn.Linear(32, self.dim)\n",
        "    self.gamma_x = nn.Linear(32, self.dim)\n",
        "\n",
        "    self.gamma_x.weight.data.fill_(0.01)\n",
        "    self.gamma_z.weight.data.fill_(0.01)\n",
        "\n",
        "  def sample(self, mu, gamma):\n",
        "    if self.training:\n",
        "        #std_z = Variable(torch.from_numpy(np.random.normal(0, 1, size=sigma.size())).float())\n",
        "        std_z = self.normal.sample(mu.shape).to(device).reshape(mu.shape)\n",
        "        encoding = std_z * gamma + mu\n",
        "        return encoding\n",
        "    else:\n",
        "        return mu\n",
        "\n",
        "  def encode(self, x):\n",
        "    x = self.encoder(x)\n",
        "    mu = self.mu_z(x)\n",
        "    gamma = self.gamma_z(x)\n",
        "    gamma = torch.exp(0.5 * gamma)\n",
        "    return mu, gamma\n",
        "\n",
        "  def decode(self, z):\n",
        "    z = self.decoder(z)\n",
        "    mu = self.mu_x(z)\n",
        "    gamma = self.gamma_x(z)\n",
        "    gamma = torch.exp(0.5 * gamma)\n",
        "    return mu, gamma\n",
        "\n",
        "  def kl(self, mu, gamma):\n",
        "    dim = mu.shape[1]\n",
        "    return 0.5 * (gamma.sum(dim=-1) + (mu ** 2).sum(dim=-1) - dim - torch.log(gamma.prod(dim=-1)+ 1e-9)).mean()\n",
        "\n",
        "  def prob_loss(self, x, mu, gamma):\n",
        "    prob = -0.5 * (torch.log(2 * np.pi * gamma) + (x - mu) ** 2 / gamma)\n",
        "    loss = -prob.sum(dim=1)\n",
        "    loss = loss.mean()\n",
        "    return loss\n",
        "\n",
        "  def forward(self, x):\n",
        "    mu_z, gamma_z = self.encode(x)\n",
        "    z = self.sample(mu_z, gamma_z)\n",
        "    mu_x, gamma_x = self.decode(z)\n",
        "    x1 = self.sample(mu_x, gamma_x)\n",
        "    return x1, self.kl(mu_z, gamma_z), self.prob_loss(x, mu_x, gamma_x)\n",
        "    "
      ],
      "execution_count": 0,
      "outputs": []
    },
    {
      "cell_type": "code",
      "metadata": {
        "id": "Tqr0KRvZwbm-",
        "colab_type": "code",
        "colab": {}
      },
      "source": [
        "class VAE2(VAE1):\n",
        "  def __init__(self, **kwargs):\n",
        "    super().__init__(**kwargs)\n",
        "    self.gamma_x = nn.Linear(32, 1)\n",
        "    self.gamma_x.weight.data.fill_(0.01)\n",
        "\n",
        "  def forward(self, x):\n",
        "    mu_z, gamma_z = self.encode(x)\n",
        "    z = self.sample(mu_z, gamma_z)\n",
        "    mu_x, gamma_x = self.decode(z)\n",
        "    gamma_x = gamma_x.repeat((1, self.dim))\n",
        "    x1 = self.sample(mu_x, gamma_x)\n",
        "    return x1, self.kl(mu_z, gamma_z), self.prob_loss(x, mu_x, gamma_x)"
      ],
      "execution_count": 0,
      "outputs": []
    },
    {
      "cell_type": "code",
      "metadata": {
        "id": "YqYL3P8bkpie",
        "colab_type": "code",
        "colab": {}
      },
      "source": [
        "def train(model, data, n_epochs=10, wandb_name=None, batch_size=128):\n",
        "  split = int(len(data) * 0.8)\n",
        "  dataset_train = torch.utils.data.DataLoader(data[:split],\n",
        "                                              batch_size=batch_size,\n",
        "                                              shuffle=True)\n",
        "  dataset_test = torch.utils.data.DataLoader(data[split:],\n",
        "                                             batch_size=batch_size,\n",
        "                                             shuffle=True)\n",
        "  optimizer = torch.optim.Adam(params=model.parameters())\n",
        "  if wandb_name is not None:\n",
        "    wandb.init(name=wandb_name, project=\"dul-hw3-vae\")\n",
        "    wandb.watch(model)\n",
        "  for epoch in tqdm(range(1, n_epochs + 1)):\n",
        "      train_losses = {'ELBO': [], 'KL': [], 'PROB': []}\n",
        "      test_losses = {'ELBO': [], 'KL': [], 'PROB': []}\n",
        "      for x_batch in dataset_train:\n",
        "          optimizer.zero_grad()\n",
        "          x_batch = x_batch.float().to(device)\n",
        "          output, kl, prob_loss = model(x_batch)\n",
        "          loss = kl + prob_loss\n",
        "          loss.backward()\n",
        "          optimizer.step()\n",
        "\n",
        "          train_losses['ELBO'].append(loss.item())\n",
        "          train_losses['KL'].append(kl.item())\n",
        "          train_losses['PROB'].append(prob_loss.item())\n",
        "\n",
        "      with torch.no_grad():\n",
        "          model.eval()\n",
        "          for x_test in dataset_test:\n",
        "              x_test = x_test.float().to(device)\n",
        "              output_test, kl_test, prob_loss_test = model(x_test)\n",
        "              loss_test = kl_test + prob_loss_test\n",
        "              test_losses['ELBO'].append(loss_test.item())\n",
        "              test_losses['KL'].append(kl_test.item())\n",
        "              test_losses['PROB'].append(prob_loss_test.item())\n",
        "          model.train()\n",
        "      if wandb_name is not None:\n",
        "          loss_log = {}\n",
        "          for name, values in train_losses.items():\n",
        "            values = [v for v in values if v == v and v != float('inf')]\n",
        "            loss_log[name + ' train'] = np.mean(values)\n",
        "          for name, values in test_losses.items():\n",
        "            values = [v for v in values if v == v and v != float('inf')]\n",
        "            loss_log[name + ' test'] = np.mean(values)\n",
        "          wandb.log(loss_log)"
      ],
      "execution_count": 0,
      "outputs": []
    },
    {
      "cell_type": "markdown",
      "metadata": {
        "id": "HlrMPUf1xQVb",
        "colab_type": "text"
      },
      "source": [
        "# 1 a\n"
      ]
    },
    {
      "cell_type": "code",
      "metadata": {
        "id": "XrhxQF1tST20",
        "colab_type": "code",
        "colab": {}
      },
      "source": [
        "def sample(model, data):\n",
        "    fig, (ax1, ax2, ax3) = plt.subplots(1, 3)\n",
        "    ax1.plot(data[:,0], data[:,1], 'bo')\n",
        "    ax1.set_title('Original')\n",
        "    model.eval()\n",
        "    with torch.no_grad():\n",
        "        for i in range(20):\n",
        "          z = model.normal.sample((100, 2)).reshape(100, 2).to(device)\n",
        "          mu_x, gamma_x = model.decode(z)\n",
        "          x1 = model.sample(mu_x, gamma_x).cpu().numpy()\n",
        "          ax2.plot(x1[:,0], x1[:, 1], 'bo')\n",
        "    ax2.set_title('Eval generation')\n",
        "    model.train()\n",
        "    with torch.no_grad():\n",
        "        for i in range(20):\n",
        "          z = model.normal.sample((100, 2)).reshape(100, 2).to(device)\n",
        "          mu_x, gamma_x = model.decode(z)\n",
        "          x1 = model.sample(mu_x, gamma_x).cpu().numpy()\n",
        "          ax3.plot(x1[:,0], x1[:, 1], 'bo')\n",
        "    ax3.set_title('Train generation')\n",
        "    ax1.label_outer()\n",
        "    ax2.label_outer()\n",
        "    ax3.label_outer()\n",
        "    plt.show()"
      ],
      "execution_count": 0,
      "outputs": []
    },
    {
      "cell_type": "code",
      "metadata": {
        "id": "Txn6F8eh99UK",
        "colab_type": "code",
        "colab": {
          "base_uri": "https://localhost:8080/",
          "height": 381,
          "referenced_widgets": [
            "166d199c1ce644f1a9d96b8afa31bc25",
            "418c43d914dd44d1a5c90f49317dd31e",
            "ed115d50c65249708f624f83b2e4ea65",
            "49d4299c128d4d7ba19b1d9abad57f3d",
            "69ffcf3d2057440faf3bf8603099d2d3",
            "a0a6f2e960dc46d2bee29782c85d7f76",
            "eff895a7531641498fae3397448a90da",
            "4a02d6ecbfda4c979281b48e54e7f23c"
          ]
        },
        "outputId": "61b6d4f8-9b98-4803-94f1-35661704c7ca"
      },
      "source": [
        "model_11 = VAE1().to(device)\n",
        "train(model_11, data1, n_epochs=40, wandb_name='Method # 1 Data # 1')\n",
        "sample(model_11, data1)"
      ],
      "execution_count": 15,
      "outputs": [
        {
          "output_type": "display_data",
          "data": {
            "text/html": [
              "\n",
              "                Logging results to <a href=\"https://wandb.com\" target=\"_blank\">Weights & Biases</a> <a href=\"https://docs.wandb.com/integrations/jupyter.html\" target=\"_blank\">(Documentation)</a>.<br/>\n",
              "                Project page: <a href=\"https://app.wandb.ai/iisuslik43/dul-hw3-vae\" target=\"_blank\">https://app.wandb.ai/iisuslik43/dul-hw3-vae</a><br/>\n",
              "                Run page: <a href=\"https://app.wandb.ai/iisuslik43/dul-hw3-vae/runs/69379ryd\" target=\"_blank\">https://app.wandb.ai/iisuslik43/dul-hw3-vae/runs/69379ryd</a><br/>\n",
              "            "
            ],
            "text/plain": [
              "<IPython.core.display.HTML object>"
            ]
          },
          "metadata": {
            "tags": []
          }
        },
        {
          "output_type": "display_data",
          "data": {
            "application/vnd.jupyter.widget-view+json": {
              "model_id": "166d199c1ce644f1a9d96b8afa31bc25",
              "version_minor": 0,
              "version_major": 2
            },
            "text/plain": [
              "HBox(children=(IntProgress(value=0, max=40), HTML(value='')))"
            ]
          },
          "metadata": {
            "tags": []
          }
        },
        {
          "output_type": "stream",
          "text": [
            "\n"
          ],
          "name": "stdout"
        },
        {
          "output_type": "display_data",
          "data": {
            "image/png": "[encoded data removed]",
            "text/plain": [
              "<Figure size 432x288 with 3 Axes>"
            ]
          },
          "metadata": {
            "tags": []
          }
        }
      ]
    },
    {
      "cell_type": "code",
      "metadata": {
        "id": "O1fbORft99ye",
        "colab_type": "code",
        "colab": {
          "base_uri": "https://localhost:8080/",
          "height": 364,
          "referenced_widgets": [
            "1326232ea4844355a7f0eedd5d6fc674",
            "cb5ee8464b7c481f95d6b6e930159024",
            "6dbc45f14e42430992c2afe39baf4fd0",
            "fc276f98db8b476794974898ab843352",
            "570457f69d1946c1bb62f5fd5cb1062d",
            "7d36199758e840a59dc2f836b7784761",
            "870505641b3b4ee8a1c1df68a2dd72d4",
            "ee43750c673f4ee0b41877884874135b"
          ]
        },
        "outputId": "a8093db8-4105-49c1-bc70-c2374441eb76"
      },
      "source": [
        "model_12 = VAE2().to(device)\n",
        "train(model_12, data1, n_epochs=40, wandb_name='Method # 2 Data # 1')\n",
        "sample(model_12, data1)"
      ],
      "execution_count": 19,
      "outputs": [
        {
          "output_type": "display_data",
          "data": {
            "text/html": [
              "\n",
              "                Logging results to <a href=\"https://wandb.com\" target=\"_blank\">Weights & Biases</a> <a href=\"https://docs.wandb.com/integrations/jupyter.html\" target=\"_blank\">(Documentation)</a>.<br/>\n",
              "                Project page: <a href=\"https://app.wandb.ai/iisuslik43/dul-hw3-vae\" target=\"_blank\">https://app.wandb.ai/iisuslik43/dul-hw3-vae</a><br/>\n",
              "                Run page: <a href=\"https://app.wandb.ai/iisuslik43/dul-hw3-vae/runs/94v9m9ew\" target=\"_blank\">https://app.wandb.ai/iisuslik43/dul-hw3-vae/runs/94v9m9ew</a><br/>\n",
              "            "
            ],
            "text/plain": [
              "<IPython.core.display.HTML object>"
            ]
          },
          "metadata": {
            "tags": []
          }
        },
        {
          "output_type": "display_data",
          "data": {
            "application/vnd.jupyter.widget-view+json": {
              "model_id": "1326232ea4844355a7f0eedd5d6fc674",
              "version_minor": 0,
              "version_major": 2
            },
            "text/plain": [
              "HBox(children=(IntProgress(value=0, max=40), HTML(value='')))"
            ]
          },
          "metadata": {
            "tags": []
          }
        },
        {
          "output_type": "display_data",
          "data": {
            "image/png": "[encoded data removed]",
            "text/plain": [
              "<Figure size 432x288 with 3 Axes>"
            ]
          },
          "metadata": {
            "tags": []
          }
        }
      ]
    },
    {
      "cell_type": "code",
      "metadata": {
        "id": "oV468jtO9-LG",
        "colab_type": "code",
        "colab": {
          "base_uri": "https://localhost:8080/",
          "height": 364,
          "referenced_widgets": [
            "dc25ca50ed8b4957b6ecfbb4de8a5bab",
            "a5ef4de681ba43e3a61b0ebc69ac73eb",
            "8b7716895699413da3e1bc4ad1375a73",
            "0e8f555fc5c54b62aec959e49cfd0cbd",
            "ee73ed1890e646dd98208d0cffe95790",
            "633c0d8f4a834eda85e59a39ba76a892",
            "0919849578dd4717871f27b0e1007fa9",
            "0cb1cb423c6a4a679c2fbe80ade582ae"
          ]
        },
        "outputId": "29d9aa87-4551-4c53-9548-9a4dca24a76d"
      },
      "source": [
        "model_21 = VAE1().to(device)\n",
        "train(model_21, data2, n_epochs=60, wandb_name='Method # 1 Data # 2')\n",
        "sample(model_21, data2)"
      ],
      "execution_count": 20,
      "outputs": [
        {
          "output_type": "display_data",
          "data": {
            "text/html": [
              "\n",
              "                Logging results to <a href=\"https://wandb.com\" target=\"_blank\">Weights & Biases</a> <a href=\"https://docs.wandb.com/integrations/jupyter.html\" target=\"_blank\">(Documentation)</a>.<br/>\n",
              "                Project page: <a href=\"https://app.wandb.ai/iisuslik43/dul-hw3-vae\" target=\"_blank\">https://app.wandb.ai/iisuslik43/dul-hw3-vae</a><br/>\n",
              "                Run page: <a href=\"https://app.wandb.ai/iisuslik43/dul-hw3-vae/runs/dcu1hcg9\" target=\"_blank\">https://app.wandb.ai/iisuslik43/dul-hw3-vae/runs/dcu1hcg9</a><br/>\n",
              "            "
            ],
            "text/plain": [
              "<IPython.core.display.HTML object>"
            ]
          },
          "metadata": {
            "tags": []
          }
        },
        {
          "output_type": "display_data",
          "data": {
            "application/vnd.jupyter.widget-view+json": {
              "model_id": "dc25ca50ed8b4957b6ecfbb4de8a5bab",
              "version_minor": 0,
              "version_major": 2
            },
            "text/plain": [
              "HBox(children=(IntProgress(value=0, max=60), HTML(value='')))"
            ]
          },
          "metadata": {
            "tags": []
          }
        },
        {
          "output_type": "display_data",
          "data": {
            "image/png": "[encoded data removed]",
            "text/plain": [
              "<Figure size 432x288 with 3 Axes>"
            ]
          },
          "metadata": {
            "tags": []
          }
        }
      ]
    },
    {
      "cell_type": "code",
      "metadata": {
        "id": "FB7JpMmj9-hx",
        "colab_type": "code",
        "colab": {
          "base_uri": "https://localhost:8080/",
          "height": 364,
          "referenced_widgets": [
            "fcd7489ba4434acc876d6f76e16f9aa2",
            "f11fdf004f7b471696f0f91f3a234dc6",
            "36b726b82c864da6940881d642e18116",
            "3a4308b71fee49aeb7cac296b7bc5dd8",
            "61e92e513bf6490d8bed00e6d95180d5",
            "2b521b424875429fa7aef67e39e900bd",
            "dd563ada997d4dd8844aad9fe13c158e",
            "df9d1bcb250f4444b5b89e1948c42b03"
          ]
        },
        "outputId": "f49eec4d-a303-4e34-cab3-3be235d5b170"
      },
      "source": [
        "model_22 = VAE2().to(device)\n",
        "train(model_22, data2, n_epochs=60, wandb_name='Method # 2 Data # 2')\n",
        "sample(model_22, data2)"
      ],
      "execution_count": 21,
      "outputs": [
        {
          "output_type": "display_data",
          "data": {
            "text/html": [
              "\n",
              "                Logging results to <a href=\"https://wandb.com\" target=\"_blank\">Weights & Biases</a> <a href=\"https://docs.wandb.com/integrations/jupyter.html\" target=\"_blank\">(Documentation)</a>.<br/>\n",
              "                Project page: <a href=\"https://app.wandb.ai/iisuslik43/dul-hw3-vae\" target=\"_blank\">https://app.wandb.ai/iisuslik43/dul-hw3-vae</a><br/>\n",
              "                Run page: <a href=\"https://app.wandb.ai/iisuslik43/dul-hw3-vae/runs/ordi1dmq\" target=\"_blank\">https://app.wandb.ai/iisuslik43/dul-hw3-vae/runs/ordi1dmq</a><br/>\n",
              "            "
            ],
            "text/plain": [
              "<IPython.core.display.HTML object>"
            ]
          },
          "metadata": {
            "tags": []
          }
        },
        {
          "output_type": "display_data",
          "data": {
            "application/vnd.jupyter.widget-view+json": {
              "model_id": "fcd7489ba4434acc876d6f76e16f9aa2",
              "version_minor": 0,
              "version_major": 2
            },
            "text/plain": [
              "HBox(children=(IntProgress(value=0, max=60), HTML(value='')))"
            ]
          },
          "metadata": {
            "tags": []
          }
        },
        {
          "output_type": "display_data",
          "data": {
            "image/png": "[encoded data removed]",
            "text/plain": [
              "<Figure size 432x288 with 3 Axes>"
            ]
          },
          "metadata": {
            "tags": []
          }
        }
      ]
    },
    {
      "cell_type": "markdown",
      "metadata": {
        "id": "3qj3cJX_xXGt",
        "colab_type": "text"
      },
      "source": [
        "#1 b"
      ]
    },
    {
      "cell_type": "code",
      "metadata": {
        "id": "Lq2viliryQUh",
        "colab_type": "code",
        "colab": {
          "base_uri": "https://localhost:8080/",
          "height": 364,
          "referenced_widgets": [
            "8091dd81ba2845c388944c6077dc523b",
            "401b24c00e6d42c79a7e0e4ee6ad57fd",
            "5b1cb918a721409ab3c50da55bdc0770",
            "2acd5720569b4f819954c9b35415c9aa",
            "14cb80edaa8d4b9b826e670065cca073",
            "90eb9638f9104abcb011f769a8f52ada",
            "ea3e570a877845c4afe17359d432da59",
            "07d36c9159ef4a4e8015c29ae542ea3b"
          ]
        },
        "outputId": "1467ccb8-f128-4f73-b65f-6f500c0976ed"
      },
      "source": [
        "model_31 = VAE1().to(device)\n",
        "train(model_31, data3, n_epochs=300, wandb_name='Method # 1 Data # 3')\n",
        "sample(model_31, data3)"
      ],
      "execution_count": 22,
      "outputs": [
        {
          "output_type": "display_data",
          "data": {
            "text/html": [
              "\n",
              "                Logging results to <a href=\"https://wandb.com\" target=\"_blank\">Weights & Biases</a> <a href=\"https://docs.wandb.com/integrations/jupyter.html\" target=\"_blank\">(Documentation)</a>.<br/>\n",
              "                Project page: <a href=\"https://app.wandb.ai/iisuslik43/dul-hw3-vae\" target=\"_blank\">https://app.wandb.ai/iisuslik43/dul-hw3-vae</a><br/>\n",
              "                Run page: <a href=\"https://app.wandb.ai/iisuslik43/dul-hw3-vae/runs/jnu15e4v\" target=\"_blank\">https://app.wandb.ai/iisuslik43/dul-hw3-vae/runs/jnu15e4v</a><br/>\n",
              "            "
            ],
            "text/plain": [
              "<IPython.core.display.HTML object>"
            ]
          },
          "metadata": {
            "tags": []
          }
        },
        {
          "output_type": "display_data",
          "data": {
            "application/vnd.jupyter.widget-view+json": {
              "model_id": "8091dd81ba2845c388944c6077dc523b",
              "version_minor": 0,
              "version_major": 2
            },
            "text/plain": [
              "HBox(children=(IntProgress(value=0, max=300), HTML(value='')))"
            ]
          },
          "metadata": {
            "tags": []
          }
        },
        {
          "output_type": "display_data",
          "data": {
            "image/png": "[encoded data removed]",
            "text/plain": [
              "<Figure size 432x288 with 3 Axes>"
            ]
          },
          "metadata": {
            "tags": []
          }
        }
      ]
    },
    {
      "cell_type": "code",
      "metadata": {
        "id": "bZLnxKaQIZjt",
        "colab_type": "code",
        "colab": {}
      },
      "source": [
        "def sample_z(model, data, y):\n",
        "    data = data[len(data) - 2001:]\n",
        "    y = y[len(data) - 2001:]\n",
        "    colors = {0: 'r', 1: 'g', 2: 'b'}\n",
        "    with torch.no_grad():\n",
        "        model.eval()\n",
        "        for i in range(10):\n",
        "            x = data[i * 200: (i + 1) * 200]\n",
        "            x = torch.tensor(x).float().to(device)\n",
        "            mu, gamma = model.encode(x)\n",
        "            z = model.sample(mu, gamma).cpu().numpy()\n",
        "            y_sample = y[i * 200: (i + 1) * 200]\n",
        "            for x1, y1 in zip(z, y_sample):\n",
        "              plt.plot(x1[0], x1[1], colors[y1] + 'o')"
      ],
      "execution_count": 0,
      "outputs": []
    },
    {
      "cell_type": "code",
      "metadata": {
        "id": "qdfYYsv1KfCg",
        "colab_type": "code",
        "colab": {
          "base_uri": "https://localhost:8080/",
          "height": 265
        },
        "outputId": "6cb88e3d-6204-48bf-c3ea-f22ace5c409f"
      },
      "source": [
        "sample_z(model_31, data3, y3)"
      ],
      "execution_count": 24,
      "outputs": [
        {
          "output_type": "display_data",
          "data": {
            "image/png": "[encoded data removed]",
            "text/plain": [
              "<Figure size 432x288 with 1 Axes>"
            ]
          },
          "metadata": {
            "tags": []
          }
        }
      ]
    },
    {
      "cell_type": "code",
      "metadata": {
        "id": "ORXkxxn7Us7w",
        "colab_type": "code",
        "colab": {
          "base_uri": "https://localhost:8080/",
          "height": 265
        },
        "outputId": "692d586a-5b93-4b00-8fab-fc3cdf52dff9"
      },
      "source": [
        "\n",
        "colors = {0: 'r', 1: 'g', 2: 'b'}\n",
        "for x1, y1 in zip(data3[:2000], y3[:2000]):\n",
        "    plt.plot(x1[0], x1[1], colors[y1] + 'o')"
      ],
      "execution_count": 26,
      "outputs": [
        {
          "output_type": "display_data",
          "data": {
            "image/png": "[encoded data removed]",
            "text/plain": [
              "<Figure size 432x288 with 1 Axes>"
            ]
          },
          "metadata": {
            "tags": []
          }
        }
      ]
    },
    {
      "cell_type": "markdown",
      "metadata": {
        "id": "g-gWkkv6yRNM",
        "colab_type": "text"
      },
      "source": [
        "# 2 a\n"
      ]
    },
    {
      "cell_type": "code",
      "metadata": {
        "id": "WCjbpQRM-HRu",
        "colab_type": "code",
        "colab": {}
      },
      "source": [
        "with open('dul/hw3-q2.pkl', 'rb') as f:\n",
        "  svhn_dataset = pickle.load(f)"
      ],
      "execution_count": 0,
      "outputs": []
    },
    {
      "cell_type": "code",
      "metadata": {
        "id": "RyUgYPJHIThr",
        "colab_type": "code",
        "colab": {}
      },
      "source": [
        "class GatedShortcutConnection(nn.Module):\n",
        "  def __init__(self, c):\n",
        "    super().__init__()\n",
        "    self.conv1 = nn.Conv2d(c, c, kernel_size=1)\n",
        "    self.conv2 = nn.Conv2d(c, c, kernel_size=1)\n",
        "    self.conv1.weight.data.fill_(0.01)\n",
        "    self.conv2.weight.data.fill_(0.01)\n",
        "    self.sigmoid = nn.Sigmoid()\n",
        "                 \n",
        "  def forward(self, x):\n",
        "      return self.conv1(x) * self.sigmoid(self.conv2(x))\n",
        "\n",
        "class ResidualStack(nn.Module):\n",
        "  def __init__(self, c):\n",
        "    super().__init__()\n",
        "    layers = []\n",
        "    for _ in range(5):\n",
        "        layers += [nn.ReLU(),\n",
        "                   nn.Conv2d(2 * c, c, kernel_size=3, stride=1, padding=1),\n",
        "                   nn.ReLU(),\n",
        "                   nn.Conv2d(c, 2 * c, kernel_size=3, stride=1, padding=1),\n",
        "                   GatedShortcutConnection(2 * c)]\n",
        "    layers += [nn.ReLU()]\n",
        "    self.layers = nn.Sequential(*layers)\n",
        "\n",
        "  def forward(self, x):\n",
        "    return self.layers(x)"
      ],
      "execution_count": 0,
      "outputs": []
    },
    {
      "cell_type": "code",
      "metadata": {
        "id": "OEiGfshyIF_l",
        "colab_type": "code",
        "colab": {}
      },
      "source": [
        "class Encoder(nn.Module):\n",
        "  def __init__(self, c):\n",
        "    super().__init__()\n",
        "    self.c = c\n",
        "    layers = [nn.Conv2d(3, 2 * c, kernel_size=4, stride=2, padding=1),\n",
        "              nn.ReLU(),\n",
        "              nn.Conv2d(2 * c, 4 * c, kernel_size=4, stride=2, padding=1),\n",
        "              nn.ReLU(),\n",
        "              nn.Conv2d(4 * c, 2 * c, kernel_size=3, stride=1, padding=1),\n",
        "              ResidualStack(c)\n",
        "              ]\n",
        "    self.layers = nn.Sequential(*layers)\n",
        "\n",
        "  def forward(self, x):\n",
        "    x = self.layers(x)\n",
        "    x = x.reshape(-1, 2, self.c * 8 * 8)\n",
        "    mu, gamma = x[:, 0, :], x[:, 1, :]\n",
        "    gamma = torch.exp(gamma)\n",
        "    return mu, gamma\n",
        "\n",
        "\n",
        "class Decoder(nn.Module):\n",
        "  def __init__(self, c):\n",
        "    super().__init__()\n",
        "    self.c = c\n",
        "    layers = [nn.Conv2d(c, 4 * c, kernel_size=3, stride=1, padding=1),\n",
        "              ResidualStack(2 * c),\n",
        "              nn.ConvTranspose2d(4 * c, 2 * c, kernel_size=4, stride=2, padding=1),\n",
        "              nn.ReLU(),\n",
        "              nn.ConvTranspose2d(2 * c, 3, kernel_size=4, stride=2, padding=1)]\n",
        "    self.layers = nn.Sequential(*layers)\n",
        "\n",
        "  def forward(self, x):\n",
        "    x = x.reshape(-1, self.c, 8, 8)\n",
        "\n",
        "    return self.layers(x)"
      ],
      "execution_count": 0,
      "outputs": []
    },
    {
      "cell_type": "code",
      "metadata": {
        "id": "6vxG3N0AySc3",
        "colab_type": "code",
        "colab": {}
      },
      "source": [
        "class VAE_big(nn.Module):\n",
        "  def __init__(self, c):\n",
        "    super().__init__()\n",
        "\n",
        "    self.normal = torch.distributions.Normal(torch.tensor([0.0]), torch.tensor([1.0]))\n",
        "\n",
        "    self.encoder = Encoder(c)\n",
        "\n",
        "    self.decoder = Decoder(c)\n",
        "\n",
        "  def sample(self, mu, gamma):\n",
        "    if self.training:\n",
        "        #std_z = Variable(torch.from_numpy(np.random.normal(0, 1, size=sigma.size())).float())\n",
        "        std_z = self.normal.sample(mu.shape).to(device).reshape(mu.shape)\n",
        "        encoding = std_z * gamma + mu\n",
        "        return encoding\n",
        "    else:\n",
        "        return mu\n",
        "\n",
        "\n",
        "  def kl(self, mu, gamma):\n",
        "    dim = mu.shape[1]\n",
        "    return 0.5 * (gamma.sum(dim=-1) + (mu ** 2).sum(dim=-1) - dim - torch.log(gamma.prod(dim=-1)+ 1e-9)).mean()\n",
        "\n",
        "  def forward(self, x):\n",
        "    x = x.permute(0, 3, 1, 2)\n",
        "    mu_z, gamma_z = self.encoder(x)\n",
        "    z = self.sample(mu_z, gamma_z)\n",
        "    # mu_x, gamma_x = self.decoder(z)\n",
        "    # x1 = self.sample(mu_x, gamma_x)\n",
        "    x1 = self.decoder(z)\n",
        "    x1 = x1.permute(0, 2, 3, 1)\n",
        "    return x1, self.kl(mu_z, gamma_z)\n",
        "    "
      ],
      "execution_count": 0,
      "outputs": []
    },
    {
      "cell_type": "code",
      "metadata": {
        "id": "ZZLXWVmJwsFg",
        "colab_type": "code",
        "colab": {}
      },
      "source": [
        "class VAELossL2(nn.Module):\n",
        "  def __init__(self):\n",
        "    super().__init__()\n",
        "    self.mse = nn.MSELoss()\n",
        "  \n",
        "  def forward(self, target, output, kl):\n",
        "    l2 = self.mse(output, target)\n",
        "    return l2 + kl, l2"
      ],
      "execution_count": 0,
      "outputs": []
    },
    {
      "cell_type": "code",
      "metadata": {
        "id": "R4WbHch3ayNM",
        "colab_type": "code",
        "colab": {}
      },
      "source": [
        "def train_svhn(model, data_train, data_val, n_epochs=10, wandb_name=None, batch_size=32):\n",
        "  criterion = VAELossL2()\n",
        "  dataset_train = torch.utils.data.DataLoader(data_train,\n",
        "                                              batch_size=batch_size,\n",
        "                                              shuffle=True)\n",
        "  dataset_test = torch.utils.data.DataLoader(data_val,\n",
        "                                             batch_size=batch_size,\n",
        "                                             shuffle=True)\n",
        "  optimizer = torch.optim.Adam(params=model.parameters())\n",
        "  if wandb_name is not None:\n",
        "    wandb.init(name=wandb_name, project=\"dul-hw3-vae\")\n",
        "    wandb.watch(model)\n",
        "  for epoch in tqdm(range(1, n_epochs + 1)):\n",
        "      train_losses = {'ELBO': [], 'KL': [], 'L2': []}\n",
        "      test_losses = {'ELBO': [], 'KL': [], 'L2': []}\n",
        "      for x_batch in dataset_train:\n",
        "          optimizer.zero_grad()\n",
        "          x_batch = x_batch.float().to(device)\n",
        "          output, kl = model(x_batch)\n",
        "          loss, l2 = criterion(x_batch, output, kl)\n",
        "          loss.backward()\n",
        "          optimizer.step()\n",
        "\n",
        "          train_losses['ELBO'].append(loss.item())\n",
        "          train_losses['KL'].append(kl.item())\n",
        "          train_losses['L2'].append(l2.item())\n",
        "          if kl.item() != kl.item():\n",
        "            print('NAN')\n",
        "            raise ValueError('NAN HAPPENED')\n",
        "\n",
        "      with torch.no_grad():\n",
        "          model.eval()\n",
        "          for x_test in dataset_test:\n",
        "              x_test = x_test.float().to(device)\n",
        "              output_test, kl_test = model(x_test)\n",
        "              loss, l2 = criterion(x_test, output_test, kl_test)\n",
        "              if kl_test.item() != kl_test.item():\n",
        "                print('NAN')\n",
        "                raise ValueError('NAN HAPPENED')\n",
        "              test_losses['ELBO'].append(loss.item())\n",
        "              test_losses['KL'].append(kl_test.item())\n",
        "              test_losses['L2'].append(l2.item())\n",
        "          model.train()\n",
        "      if wandb_name is not None:\n",
        "          loss_log = {}\n",
        "          for name, values in train_losses.items():\n",
        "            values = [v for v in values if v == v and v != float('inf')]\n",
        "            loss_log[name + ' train'] = np.mean(values)\n",
        "          for name, values in test_losses.items():\n",
        "            values = [v for v in values if v == v and v != float('inf')]\n",
        "            loss_log[name + ' test'] = np.mean(values)\n",
        "          wandb.log(loss_log)"
      ],
      "execution_count": 0,
      "outputs": []
    },
    {
      "cell_type": "code",
      "metadata": {
        "id": "G53PmkB0-HNN",
        "colab_type": "code",
        "colab": {}
      },
      "source": [
        "model_svhn_1 = VAE_big(64).to(device)\n",
        "go = 'Method # 1 SVHN'\n",
        "train_svhn(model_svhn_1, VAELossL2(), svhn_dataset['train'], svhn_dataset['valid'], n_epochs=3, wandb_name=go)"
      ],
      "execution_count": 0,
      "outputs": []
    },
    {
      "cell_type": "code",
      "metadata": {
        "id": "QgHxMSuIa_r0",
        "colab_type": "code",
        "colab": {}
      },
      "source": [
        ""
      ],
      "execution_count": 0,
      "outputs": []
    }
  ]
}