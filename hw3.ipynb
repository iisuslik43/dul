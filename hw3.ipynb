{
  "nbformat": 4,
  "nbformat_minor": 0,
  "metadata": {
    "colab": {
      "name": "hw3.ipynb",
      "provenance": [],
      "collapsed_sections": [],
      "toc_visible": true,
      "include_colab_link": true
    },
    "kernelspec": {
      "name": "python3",
      "display_name": "Python 3"
    },
    "accelerator": "GPU",
    "widgets": {
      "application/vnd.jupyter.widget-state+json": {
        "84b3c14f2759465aac76436e3b7aee30": {
          "model_module": "@jupyter-widgets/controls",
          "model_name": "HBoxModel",
          "state": {
            "_view_name": "HBoxView",
            "_dom_classes": [],
            "_model_name": "HBoxModel",
            "_view_module": "@jupyter-widgets/controls",
            "_model_module_version": "1.5.0",
            "_view_count": null,
            "_view_module_version": "1.5.0",
            "box_style": "",
            "layout": "IPY_MODEL_f09cfc8568a24218a353f6e9a32c9f0b",
            "_model_module": "@jupyter-widgets/controls",
            "children": [
              "IPY_MODEL_4f05e20827de410389dec4fe62a230a1",
              "IPY_MODEL_cd12568f3119440cb78701da4c1028e1"
            ]
          }
        },
        "f09cfc8568a24218a353f6e9a32c9f0b": {
          "model_module": "@jupyter-widgets/base",
          "model_name": "LayoutModel",
          "state": {
            "_view_name": "LayoutView",
            "grid_template_rows": null,
            "right": null,
            "justify_content": null,
            "_view_module": "@jupyter-widgets/base",
            "overflow": null,
            "_model_module_version": "1.2.0",
            "_view_count": null,
            "flex_flow": null,
            "width": null,
            "min_width": null,
            "border": null,
            "align_items": null,
            "bottom": null,
            "_model_module": "@jupyter-widgets/base",
            "top": null,
            "grid_column": null,
            "overflow_y": null,
            "overflow_x": null,
            "grid_auto_flow": null,
            "grid_area": null,
            "grid_template_columns": null,
            "flex": null,
            "_model_name": "LayoutModel",
            "justify_items": null,
            "grid_row": null,
            "max_height": null,
            "align_content": null,
            "visibility": null,
            "align_self": null,
            "height": null,
            "min_height": null,
            "padding": null,
            "grid_auto_rows": null,
            "grid_gap": null,
            "max_width": null,
            "order": null,
            "_view_module_version": "1.2.0",
            "grid_template_areas": null,
            "object_position": null,
            "object_fit": null,
            "grid_auto_columns": null,
            "margin": null,
            "display": null,
            "left": null
          }
        },
        "4f05e20827de410389dec4fe62a230a1": {
          "model_module": "@jupyter-widgets/controls",
          "model_name": "IntProgressModel",
          "state": {
            "_view_name": "ProgressView",
            "style": "IPY_MODEL_d0ac8b32587f4cd5bc1ee08c88d0e062",
            "_dom_classes": [],
            "description": "",
            "_model_name": "IntProgressModel",
            "bar_style": "success",
            "max": 40,
            "_view_module": "@jupyter-widgets/controls",
            "_model_module_version": "1.5.0",
            "value": 40,
            "_view_count": null,
            "_view_module_version": "1.5.0",
            "orientation": "horizontal",
            "min": 0,
            "description_tooltip": null,
            "_model_module": "@jupyter-widgets/controls",
            "layout": "IPY_MODEL_648e209ab7914bee9ccfcc4957213519"
          }
        },
        "cd12568f3119440cb78701da4c1028e1": {
          "model_module": "@jupyter-widgets/controls",
          "model_name": "HTMLModel",
          "state": {
            "_view_name": "HTMLView",
            "style": "IPY_MODEL_dfe03c0c62ab4cfcb139ad2999fa41ff",
            "_dom_classes": [],
            "description": "",
            "_model_name": "HTMLModel",
            "placeholder": "​",
            "_view_module": "@jupyter-widgets/controls",
            "_model_module_version": "1.5.0",
            "value": "100% 40/40 [01:58&lt;00:00,  2.92s/it]",
            "_view_count": null,
            "_view_module_version": "1.5.0",
            "description_tooltip": null,
            "_model_module": "@jupyter-widgets/controls",
            "layout": "IPY_MODEL_71a599852e1f42cfa10b2b7863ff8a0a"
          }
        },
        "d0ac8b32587f4cd5bc1ee08c88d0e062": {
          "model_module": "@jupyter-widgets/controls",
          "model_name": "ProgressStyleModel",
          "state": {
            "_view_name": "StyleView",
            "_model_name": "ProgressStyleModel",
            "description_width": "",
            "_view_module": "@jupyter-widgets/base",
            "_model_module_version": "1.5.0",
            "_view_count": null,
            "_view_module_version": "1.2.0",
            "bar_color": null,
            "_model_module": "@jupyter-widgets/controls"
          }
        },
        "648e209ab7914bee9ccfcc4957213519": {
          "model_module": "@jupyter-widgets/base",
          "model_name": "LayoutModel",
          "state": {
            "_view_name": "LayoutView",
            "grid_template_rows": null,
            "right": null,
            "justify_content": null,
            "_view_module": "@jupyter-widgets/base",
            "overflow": null,
            "_model_module_version": "1.2.0",
            "_view_count": null,
            "flex_flow": null,
            "width": null,
            "min_width": null,
            "border": null,
            "align_items": null,
            "bottom": null,
            "_model_module": "@jupyter-widgets/base",
            "top": null,
            "grid_column": null,
            "overflow_y": null,
            "overflow_x": null,
            "grid_auto_flow": null,
            "grid_area": null,
            "grid_template_columns": null,
            "flex": null,
            "_model_name": "LayoutModel",
            "justify_items": null,
            "grid_row": null,
            "max_height": null,
            "align_content": null,
            "visibility": null,
            "align_self": null,
            "height": null,
            "min_height": null,
            "padding": null,
            "grid_auto_rows": null,
            "grid_gap": null,
            "max_width": null,
            "order": null,
            "_view_module_version": "1.2.0",
            "grid_template_areas": null,
            "object_position": null,
            "object_fit": null,
            "grid_auto_columns": null,
            "margin": null,
            "display": null,
            "left": null
          }
        },
        "dfe03c0c62ab4cfcb139ad2999fa41ff": {
          "model_module": "@jupyter-widgets/controls",
          "model_name": "DescriptionStyleModel",
          "state": {
            "_view_name": "StyleView",
            "_model_name": "DescriptionStyleModel",
            "description_width": "",
            "_view_module": "@jupyter-widgets/base",
            "_model_module_version": "1.5.0",
            "_view_count": null,
            "_view_module_version": "1.2.0",
            "_model_module": "@jupyter-widgets/controls"
          }
        },
        "71a599852e1f42cfa10b2b7863ff8a0a": {
          "model_module": "@jupyter-widgets/base",
          "model_name": "LayoutModel",
          "state": {
            "_view_name": "LayoutView",
            "grid_template_rows": null,
            "right": null,
            "justify_content": null,
            "_view_module": "@jupyter-widgets/base",
            "overflow": null,
            "_model_module_version": "1.2.0",
            "_view_count": null,
            "flex_flow": null,
            "width": null,
            "min_width": null,
            "border": null,
            "align_items": null,
            "bottom": null,
            "_model_module": "@jupyter-widgets/base",
            "top": null,
            "grid_column": null,
            "overflow_y": null,
            "overflow_x": null,
            "grid_auto_flow": null,
            "grid_area": null,
            "grid_template_columns": null,
            "flex": null,
            "_model_name": "LayoutModel",
            "justify_items": null,
            "grid_row": null,
            "max_height": null,
            "align_content": null,
            "visibility": null,
            "align_self": null,
            "height": null,
            "min_height": null,
            "padding": null,
            "grid_auto_rows": null,
            "grid_gap": null,
            "max_width": null,
            "order": null,
            "_view_module_version": "1.2.0",
            "grid_template_areas": null,
            "object_position": null,
            "object_fit": null,
            "grid_auto_columns": null,
            "margin": null,
            "display": null,
            "left": null
          }
        },
        "29cfc68ef3bc468487b62fc11c5f9420": {
          "model_module": "@jupyter-widgets/controls",
          "model_name": "HBoxModel",
          "state": {
            "_view_name": "HBoxView",
            "_dom_classes": [],
            "_model_name": "HBoxModel",
            "_view_module": "@jupyter-widgets/controls",
            "_model_module_version": "1.5.0",
            "_view_count": null,
            "_view_module_version": "1.5.0",
            "box_style": "",
            "layout": "IPY_MODEL_d94f168062d849daadce0e88fd903375",
            "_model_module": "@jupyter-widgets/controls",
            "children": [
              "IPY_MODEL_f2fed19cac734f3499e2634cc0a9c4dd",
              "IPY_MODEL_332065509c854c9b920fce75d33b0a01"
            ]
          }
        },
        "d94f168062d849daadce0e88fd903375": {
          "model_module": "@jupyter-widgets/base",
          "model_name": "LayoutModel",
          "state": {
            "_view_name": "LayoutView",
            "grid_template_rows": null,
            "right": null,
            "justify_content": null,
            "_view_module": "@jupyter-widgets/base",
            "overflow": null,
            "_model_module_version": "1.2.0",
            "_view_count": null,
            "flex_flow": null,
            "width": null,
            "min_width": null,
            "border": null,
            "align_items": null,
            "bottom": null,
            "_model_module": "@jupyter-widgets/base",
            "top": null,
            "grid_column": null,
            "overflow_y": null,
            "overflow_x": null,
            "grid_auto_flow": null,
            "grid_area": null,
            "grid_template_columns": null,
            "flex": null,
            "_model_name": "LayoutModel",
            "justify_items": null,
            "grid_row": null,
            "max_height": null,
            "align_content": null,
            "visibility": null,
            "align_self": null,
            "height": null,
            "min_height": null,
            "padding": null,
            "grid_auto_rows": null,
            "grid_gap": null,
            "max_width": null,
            "order": null,
            "_view_module_version": "1.2.0",
            "grid_template_areas": null,
            "object_position": null,
            "object_fit": null,
            "grid_auto_columns": null,
            "margin": null,
            "display": null,
            "left": null
          }
        },
        "f2fed19cac734f3499e2634cc0a9c4dd": {
          "model_module": "@jupyter-widgets/controls",
          "model_name": "IntProgressModel",
          "state": {
            "_view_name": "ProgressView",
            "style": "IPY_MODEL_982db173fa04441ba38fd8c8e30ae74f",
            "_dom_classes": [],
            "description": "",
            "_model_name": "IntProgressModel",
            "bar_style": "success",
            "max": 40,
            "_view_module": "@jupyter-widgets/controls",
            "_model_module_version": "1.5.0",
            "value": 40,
            "_view_count": null,
            "_view_module_version": "1.5.0",
            "orientation": "horizontal",
            "min": 0,
            "description_tooltip": null,
            "_model_module": "@jupyter-widgets/controls",
            "layout": "IPY_MODEL_b491d44b766a435f83f1cd3d822bf7de"
          }
        },
        "332065509c854c9b920fce75d33b0a01": {
          "model_module": "@jupyter-widgets/controls",
          "model_name": "HTMLModel",
          "state": {
            "_view_name": "HTMLView",
            "style": "IPY_MODEL_d38da2bd3edd4454b0062024aad5c974",
            "_dom_classes": [],
            "description": "",
            "_model_name": "HTMLModel",
            "placeholder": "​",
            "_view_module": "@jupyter-widgets/controls",
            "_model_module_version": "1.5.0",
            "value": "100% 40/40 [01:58&lt;00:00,  3.00s/it]",
            "_view_count": null,
            "_view_module_version": "1.5.0",
            "description_tooltip": null,
            "_model_module": "@jupyter-widgets/controls",
            "layout": "IPY_MODEL_d64d49f5e80048de8d3527c93a4d2509"
          }
        },
        "982db173fa04441ba38fd8c8e30ae74f": {
          "model_module": "@jupyter-widgets/controls",
          "model_name": "ProgressStyleModel",
          "state": {
            "_view_name": "StyleView",
            "_model_name": "ProgressStyleModel",
            "description_width": "",
            "_view_module": "@jupyter-widgets/base",
            "_model_module_version": "1.5.0",
            "_view_count": null,
            "_view_module_version": "1.2.0",
            "bar_color": null,
            "_model_module": "@jupyter-widgets/controls"
          }
        },
        "b491d44b766a435f83f1cd3d822bf7de": {
          "model_module": "@jupyter-widgets/base",
          "model_name": "LayoutModel",
          "state": {
            "_view_name": "LayoutView",
            "grid_template_rows": null,
            "right": null,
            "justify_content": null,
            "_view_module": "@jupyter-widgets/base",
            "overflow": null,
            "_model_module_version": "1.2.0",
            "_view_count": null,
            "flex_flow": null,
            "width": null,
            "min_width": null,
            "border": null,
            "align_items": null,
            "bottom": null,
            "_model_module": "@jupyter-widgets/base",
            "top": null,
            "grid_column": null,
            "overflow_y": null,
            "overflow_x": null,
            "grid_auto_flow": null,
            "grid_area": null,
            "grid_template_columns": null,
            "flex": null,
            "_model_name": "LayoutModel",
            "justify_items": null,
            "grid_row": null,
            "max_height": null,
            "align_content": null,
            "visibility": null,
            "align_self": null,
            "height": null,
            "min_height": null,
            "padding": null,
            "grid_auto_rows": null,
            "grid_gap": null,
            "max_width": null,
            "order": null,
            "_view_module_version": "1.2.0",
            "grid_template_areas": null,
            "object_position": null,
            "object_fit": null,
            "grid_auto_columns": null,
            "margin": null,
            "display": null,
            "left": null
          }
        },
        "d38da2bd3edd4454b0062024aad5c974": {
          "model_module": "@jupyter-widgets/controls",
          "model_name": "DescriptionStyleModel",
          "state": {
            "_view_name": "StyleView",
            "_model_name": "DescriptionStyleModel",
            "description_width": "",
            "_view_module": "@jupyter-widgets/base",
            "_model_module_version": "1.5.0",
            "_view_count": null,
            "_view_module_version": "1.2.0",
            "_model_module": "@jupyter-widgets/controls"
          }
        },
        "d64d49f5e80048de8d3527c93a4d2509": {
          "model_module": "@jupyter-widgets/base",
          "model_name": "LayoutModel",
          "state": {
            "_view_name": "LayoutView",
            "grid_template_rows": null,
            "right": null,
            "justify_content": null,
            "_view_module": "@jupyter-widgets/base",
            "overflow": null,
            "_model_module_version": "1.2.0",
            "_view_count": null,
            "flex_flow": null,
            "width": null,
            "min_width": null,
            "border": null,
            "align_items": null,
            "bottom": null,
            "_model_module": "@jupyter-widgets/base",
            "top": null,
            "grid_column": null,
            "overflow_y": null,
            "overflow_x": null,
            "grid_auto_flow": null,
            "grid_area": null,
            "grid_template_columns": null,
            "flex": null,
            "_model_name": "LayoutModel",
            "justify_items": null,
            "grid_row": null,
            "max_height": null,
            "align_content": null,
            "visibility": null,
            "align_self": null,
            "height": null,
            "min_height": null,
            "padding": null,
            "grid_auto_rows": null,
            "grid_gap": null,
            "max_width": null,
            "order": null,
            "_view_module_version": "1.2.0",
            "grid_template_areas": null,
            "object_position": null,
            "object_fit": null,
            "grid_auto_columns": null,
            "margin": null,
            "display": null,
            "left": null
          }
        },
        "2231f73435d741caa91136285686482e": {
          "model_module": "@jupyter-widgets/controls",
          "model_name": "HBoxModel",
          "state": {
            "_view_name": "HBoxView",
            "_dom_classes": [],
            "_model_name": "HBoxModel",
            "_view_module": "@jupyter-widgets/controls",
            "_model_module_version": "1.5.0",
            "_view_count": null,
            "_view_module_version": "1.5.0",
            "box_style": "",
            "layout": "IPY_MODEL_851c320c8f974d2990caa8c69377cfd5",
            "_model_module": "@jupyter-widgets/controls",
            "children": [
              "IPY_MODEL_f1ff4c60972c4bf6a38b424d7b7a1d7e",
              "IPY_MODEL_8958fbcf48e948eebd4fd36f197309e5"
            ]
          }
        },
        "851c320c8f974d2990caa8c69377cfd5": {
          "model_module": "@jupyter-widgets/base",
          "model_name": "LayoutModel",
          "state": {
            "_view_name": "LayoutView",
            "grid_template_rows": null,
            "right": null,
            "justify_content": null,
            "_view_module": "@jupyter-widgets/base",
            "overflow": null,
            "_model_module_version": "1.2.0",
            "_view_count": null,
            "flex_flow": null,
            "width": null,
            "min_width": null,
            "border": null,
            "align_items": null,
            "bottom": null,
            "_model_module": "@jupyter-widgets/base",
            "top": null,
            "grid_column": null,
            "overflow_y": null,
            "overflow_x": null,
            "grid_auto_flow": null,
            "grid_area": null,
            "grid_template_columns": null,
            "flex": null,
            "_model_name": "LayoutModel",
            "justify_items": null,
            "grid_row": null,
            "max_height": null,
            "align_content": null,
            "visibility": null,
            "align_self": null,
            "height": null,
            "min_height": null,
            "padding": null,
            "grid_auto_rows": null,
            "grid_gap": null,
            "max_width": null,
            "order": null,
            "_view_module_version": "1.2.0",
            "grid_template_areas": null,
            "object_position": null,
            "object_fit": null,
            "grid_auto_columns": null,
            "margin": null,
            "display": null,
            "left": null
          }
        },
        "f1ff4c60972c4bf6a38b424d7b7a1d7e": {
          "model_module": "@jupyter-widgets/controls",
          "model_name": "IntProgressModel",
          "state": {
            "_view_name": "ProgressView",
            "style": "IPY_MODEL_4d0aded5ba1d48d6988a63be7eab93ff",
            "_dom_classes": [],
            "description": "",
            "_model_name": "IntProgressModel",
            "bar_style": "success",
            "max": 60,
            "_view_module": "@jupyter-widgets/controls",
            "_model_module_version": "1.5.0",
            "value": 60,
            "_view_count": null,
            "_view_module_version": "1.5.0",
            "orientation": "horizontal",
            "min": 0,
            "description_tooltip": null,
            "_model_module": "@jupyter-widgets/controls",
            "layout": "IPY_MODEL_122e8c09b4f94845977b3b164cc2ebfc"
          }
        },
        "8958fbcf48e948eebd4fd36f197309e5": {
          "model_module": "@jupyter-widgets/controls",
          "model_name": "HTMLModel",
          "state": {
            "_view_name": "HTMLView",
            "style": "IPY_MODEL_1d33593faee740c498e0799b67cce714",
            "_dom_classes": [],
            "description": "",
            "_model_name": "HTMLModel",
            "placeholder": "​",
            "_view_module": "@jupyter-widgets/controls",
            "_model_module_version": "1.5.0",
            "value": "100% 60/60 [02:55&lt;00:00,  2.90s/it]",
            "_view_count": null,
            "_view_module_version": "1.5.0",
            "description_tooltip": null,
            "_model_module": "@jupyter-widgets/controls",
            "layout": "IPY_MODEL_d1e472dfbaa54c98b8d7971a6b1a75db"
          }
        },
        "4d0aded5ba1d48d6988a63be7eab93ff": {
          "model_module": "@jupyter-widgets/controls",
          "model_name": "ProgressStyleModel",
          "state": {
            "_view_name": "StyleView",
            "_model_name": "ProgressStyleModel",
            "description_width": "",
            "_view_module": "@jupyter-widgets/base",
            "_model_module_version": "1.5.0",
            "_view_count": null,
            "_view_module_version": "1.2.0",
            "bar_color": null,
            "_model_module": "@jupyter-widgets/controls"
          }
        },
        "122e8c09b4f94845977b3b164cc2ebfc": {
          "model_module": "@jupyter-widgets/base",
          "model_name": "LayoutModel",
          "state": {
            "_view_name": "LayoutView",
            "grid_template_rows": null,
            "right": null,
            "justify_content": null,
            "_view_module": "@jupyter-widgets/base",
            "overflow": null,
            "_model_module_version": "1.2.0",
            "_view_count": null,
            "flex_flow": null,
            "width": null,
            "min_width": null,
            "border": null,
            "align_items": null,
            "bottom": null,
            "_model_module": "@jupyter-widgets/base",
            "top": null,
            "grid_column": null,
            "overflow_y": null,
            "overflow_x": null,
            "grid_auto_flow": null,
            "grid_area": null,
            "grid_template_columns": null,
            "flex": null,
            "_model_name": "LayoutModel",
            "justify_items": null,
            "grid_row": null,
            "max_height": null,
            "align_content": null,
            "visibility": null,
            "align_self": null,
            "height": null,
            "min_height": null,
            "padding": null,
            "grid_auto_rows": null,
            "grid_gap": null,
            "max_width": null,
            "order": null,
            "_view_module_version": "1.2.0",
            "grid_template_areas": null,
            "object_position": null,
            "object_fit": null,
            "grid_auto_columns": null,
            "margin": null,
            "display": null,
            "left": null
          }
        },
        "1d33593faee740c498e0799b67cce714": {
          "model_module": "@jupyter-widgets/controls",
          "model_name": "DescriptionStyleModel",
          "state": {
            "_view_name": "StyleView",
            "_model_name": "DescriptionStyleModel",
            "description_width": "",
            "_view_module": "@jupyter-widgets/base",
            "_model_module_version": "1.5.0",
            "_view_count": null,
            "_view_module_version": "1.2.0",
            "_model_module": "@jupyter-widgets/controls"
          }
        },
        "d1e472dfbaa54c98b8d7971a6b1a75db": {
          "model_module": "@jupyter-widgets/base",
          "model_name": "LayoutModel",
          "state": {
            "_view_name": "LayoutView",
            "grid_template_rows": null,
            "right": null,
            "justify_content": null,
            "_view_module": "@jupyter-widgets/base",
            "overflow": null,
            "_model_module_version": "1.2.0",
            "_view_count": null,
            "flex_flow": null,
            "width": null,
            "min_width": null,
            "border": null,
            "align_items": null,
            "bottom": null,
            "_model_module": "@jupyter-widgets/base",
            "top": null,
            "grid_column": null,
            "overflow_y": null,
            "overflow_x": null,
            "grid_auto_flow": null,
            "grid_area": null,
            "grid_template_columns": null,
            "flex": null,
            "_model_name": "LayoutModel",
            "justify_items": null,
            "grid_row": null,
            "max_height": null,
            "align_content": null,
            "visibility": null,
            "align_self": null,
            "height": null,
            "min_height": null,
            "padding": null,
            "grid_auto_rows": null,
            "grid_gap": null,
            "max_width": null,
            "order": null,
            "_view_module_version": "1.2.0",
            "grid_template_areas": null,
            "object_position": null,
            "object_fit": null,
            "grid_auto_columns": null,
            "margin": null,
            "display": null,
            "left": null
          }
        },
        "c10c7294a6514d6292e6a4ba6ae9b609": {
          "model_module": "@jupyter-widgets/controls",
          "model_name": "HBoxModel",
          "state": {
            "_view_name": "HBoxView",
            "_dom_classes": [],
            "_model_name": "HBoxModel",
            "_view_module": "@jupyter-widgets/controls",
            "_model_module_version": "1.5.0",
            "_view_count": null,
            "_view_module_version": "1.5.0",
            "box_style": "",
            "layout": "IPY_MODEL_a81c2ce30b0a4171ad2eb7cdd002c90d",
            "_model_module": "@jupyter-widgets/controls",
            "children": [
              "IPY_MODEL_faafa33ddb8a474eb81b8b0b3412c917",
              "IPY_MODEL_e137de15679f4ae6b9238ee6895d094d"
            ]
          }
        },
        "a81c2ce30b0a4171ad2eb7cdd002c90d": {
          "model_module": "@jupyter-widgets/base",
          "model_name": "LayoutModel",
          "state": {
            "_view_name": "LayoutView",
            "grid_template_rows": null,
            "right": null,
            "justify_content": null,
            "_view_module": "@jupyter-widgets/base",
            "overflow": null,
            "_model_module_version": "1.2.0",
            "_view_count": null,
            "flex_flow": null,
            "width": null,
            "min_width": null,
            "border": null,
            "align_items": null,
            "bottom": null,
            "_model_module": "@jupyter-widgets/base",
            "top": null,
            "grid_column": null,
            "overflow_y": null,
            "overflow_x": null,
            "grid_auto_flow": null,
            "grid_area": null,
            "grid_template_columns": null,
            "flex": null,
            "_model_name": "LayoutModel",
            "justify_items": null,
            "grid_row": null,
            "max_height": null,
            "align_content": null,
            "visibility": null,
            "align_self": null,
            "height": null,
            "min_height": null,
            "padding": null,
            "grid_auto_rows": null,
            "grid_gap": null,
            "max_width": null,
            "order": null,
            "_view_module_version": "1.2.0",
            "grid_template_areas": null,
            "object_position": null,
            "object_fit": null,
            "grid_auto_columns": null,
            "margin": null,
            "display": null,
            "left": null
          }
        },
        "faafa33ddb8a474eb81b8b0b3412c917": {
          "model_module": "@jupyter-widgets/controls",
          "model_name": "IntProgressModel",
          "state": {
            "_view_name": "ProgressView",
            "style": "IPY_MODEL_091b6767100e477eb55c7169cee29777",
            "_dom_classes": [],
            "description": "",
            "_model_name": "IntProgressModel",
            "bar_style": "success",
            "max": 60,
            "_view_module": "@jupyter-widgets/controls",
            "_model_module_version": "1.5.0",
            "value": 60,
            "_view_count": null,
            "_view_module_version": "1.5.0",
            "orientation": "horizontal",
            "min": 0,
            "description_tooltip": null,
            "_model_module": "@jupyter-widgets/controls",
            "layout": "IPY_MODEL_eab4b4ff1fce48b9b975c8224a4a41fc"
          }
        },
        "e137de15679f4ae6b9238ee6895d094d": {
          "model_module": "@jupyter-widgets/controls",
          "model_name": "HTMLModel",
          "state": {
            "_view_name": "HTMLView",
            "style": "IPY_MODEL_25a180dd04c24cf8887d5e15d40b140d",
            "_dom_classes": [],
            "description": "",
            "_model_name": "HTMLModel",
            "placeholder": "​",
            "_view_module": "@jupyter-widgets/controls",
            "_model_module_version": "1.5.0",
            "value": "100% 60/60 [02:56&lt;00:00,  2.92s/it]",
            "_view_count": null,
            "_view_module_version": "1.5.0",
            "description_tooltip": null,
            "_model_module": "@jupyter-widgets/controls",
            "layout": "IPY_MODEL_8ecbadf2a10f443a982344862a4a1b67"
          }
        },
        "091b6767100e477eb55c7169cee29777": {
          "model_module": "@jupyter-widgets/controls",
          "model_name": "ProgressStyleModel",
          "state": {
            "_view_name": "StyleView",
            "_model_name": "ProgressStyleModel",
            "description_width": "",
            "_view_module": "@jupyter-widgets/base",
            "_model_module_version": "1.5.0",
            "_view_count": null,
            "_view_module_version": "1.2.0",
            "bar_color": null,
            "_model_module": "@jupyter-widgets/controls"
          }
        },
        "eab4b4ff1fce48b9b975c8224a4a41fc": {
          "model_module": "@jupyter-widgets/base",
          "model_name": "LayoutModel",
          "state": {
            "_view_name": "LayoutView",
            "grid_template_rows": null,
            "right": null,
            "justify_content": null,
            "_view_module": "@jupyter-widgets/base",
            "overflow": null,
            "_model_module_version": "1.2.0",
            "_view_count": null,
            "flex_flow": null,
            "width": null,
            "min_width": null,
            "border": null,
            "align_items": null,
            "bottom": null,
            "_model_module": "@jupyter-widgets/base",
            "top": null,
            "grid_column": null,
            "overflow_y": null,
            "overflow_x": null,
            "grid_auto_flow": null,
            "grid_area": null,
            "grid_template_columns": null,
            "flex": null,
            "_model_name": "LayoutModel",
            "justify_items": null,
            "grid_row": null,
            "max_height": null,
            "align_content": null,
            "visibility": null,
            "align_self": null,
            "height": null,
            "min_height": null,
            "padding": null,
            "grid_auto_rows": null,
            "grid_gap": null,
            "max_width": null,
            "order": null,
            "_view_module_version": "1.2.0",
            "grid_template_areas": null,
            "object_position": null,
            "object_fit": null,
            "grid_auto_columns": null,
            "margin": null,
            "display": null,
            "left": null
          }
        },
        "25a180dd04c24cf8887d5e15d40b140d": {
          "model_module": "@jupyter-widgets/controls",
          "model_name": "DescriptionStyleModel",
          "state": {
            "_view_name": "StyleView",
            "_model_name": "DescriptionStyleModel",
            "description_width": "",
            "_view_module": "@jupyter-widgets/base",
            "_model_module_version": "1.5.0",
            "_view_count": null,
            "_view_module_version": "1.2.0",
            "_model_module": "@jupyter-widgets/controls"
          }
        },
        "8ecbadf2a10f443a982344862a4a1b67": {
          "model_module": "@jupyter-widgets/base",
          "model_name": "LayoutModel",
          "state": {
            "_view_name": "LayoutView",
            "grid_template_rows": null,
            "right": null,
            "justify_content": null,
            "_view_module": "@jupyter-widgets/base",
            "overflow": null,
            "_model_module_version": "1.2.0",
            "_view_count": null,
            "flex_flow": null,
            "width": null,
            "min_width": null,
            "border": null,
            "align_items": null,
            "bottom": null,
            "_model_module": "@jupyter-widgets/base",
            "top": null,
            "grid_column": null,
            "overflow_y": null,
            "overflow_x": null,
            "grid_auto_flow": null,
            "grid_area": null,
            "grid_template_columns": null,
            "flex": null,
            "_model_name": "LayoutModel",
            "justify_items": null,
            "grid_row": null,
            "max_height": null,
            "align_content": null,
            "visibility": null,
            "align_self": null,
            "height": null,
            "min_height": null,
            "padding": null,
            "grid_auto_rows": null,
            "grid_gap": null,
            "max_width": null,
            "order": null,
            "_view_module_version": "1.2.0",
            "grid_template_areas": null,
            "object_position": null,
            "object_fit": null,
            "grid_auto_columns": null,
            "margin": null,
            "display": null,
            "left": null
          }
        },
        "e9cccf9cb7e243399d1a184942bbec57": {
          "model_module": "@jupyter-widgets/controls",
          "model_name": "HBoxModel",
          "state": {
            "_view_name": "HBoxView",
            "_dom_classes": [],
            "_model_name": "HBoxModel",
            "_view_module": "@jupyter-widgets/controls",
            "_model_module_version": "1.5.0",
            "_view_count": null,
            "_view_module_version": "1.5.0",
            "box_style": "",
            "layout": "IPY_MODEL_966d7c851fa24d1daf5e1de51e6921cd",
            "_model_module": "@jupyter-widgets/controls",
            "children": [
              "IPY_MODEL_8213370ebc744c628f57c2e11344e7c8",
              "IPY_MODEL_b9de43c8c801440b8e69e15231d4ab61"
            ]
          }
        },
        "966d7c851fa24d1daf5e1de51e6921cd": {
          "model_module": "@jupyter-widgets/base",
          "model_name": "LayoutModel",
          "state": {
            "_view_name": "LayoutView",
            "grid_template_rows": null,
            "right": null,
            "justify_content": null,
            "_view_module": "@jupyter-widgets/base",
            "overflow": null,
            "_model_module_version": "1.2.0",
            "_view_count": null,
            "flex_flow": null,
            "width": null,
            "min_width": null,
            "border": null,
            "align_items": null,
            "bottom": null,
            "_model_module": "@jupyter-widgets/base",
            "top": null,
            "grid_column": null,
            "overflow_y": null,
            "overflow_x": null,
            "grid_auto_flow": null,
            "grid_area": null,
            "grid_template_columns": null,
            "flex": null,
            "_model_name": "LayoutModel",
            "justify_items": null,
            "grid_row": null,
            "max_height": null,
            "align_content": null,
            "visibility": null,
            "align_self": null,
            "height": null,
            "min_height": null,
            "padding": null,
            "grid_auto_rows": null,
            "grid_gap": null,
            "max_width": null,
            "order": null,
            "_view_module_version": "1.2.0",
            "grid_template_areas": null,
            "object_position": null,
            "object_fit": null,
            "grid_auto_columns": null,
            "margin": null,
            "display": null,
            "left": null
          }
        },
        "8213370ebc744c628f57c2e11344e7c8": {
          "model_module": "@jupyter-widgets/controls",
          "model_name": "IntProgressModel",
          "state": {
            "_view_name": "ProgressView",
            "style": "IPY_MODEL_14f02c352a3a4673b7baa2bfc246b4eb",
            "_dom_classes": [],
            "description": "",
            "_model_name": "IntProgressModel",
            "bar_style": "success",
            "max": 300,
            "_view_module": "@jupyter-widgets/controls",
            "_model_module_version": "1.5.0",
            "value": 300,
            "_view_count": null,
            "_view_module_version": "1.5.0",
            "orientation": "horizontal",
            "min": 0,
            "description_tooltip": null,
            "_model_module": "@jupyter-widgets/controls",
            "layout": "IPY_MODEL_2327d0b65ecb471fa01bf718e8a7c7c0"
          }
        },
        "b9de43c8c801440b8e69e15231d4ab61": {
          "model_module": "@jupyter-widgets/controls",
          "model_name": "HTMLModel",
          "state": {
            "_view_name": "HTMLView",
            "style": "IPY_MODEL_35d1abbaf3c94f939d9374d86988d3e7",
            "_dom_classes": [],
            "description": "",
            "_model_name": "HTMLModel",
            "placeholder": "​",
            "_view_module": "@jupyter-widgets/controls",
            "_model_module_version": "1.5.0",
            "value": "100% 300/300 [14:34&lt;00:00,  2.87s/it]",
            "_view_count": null,
            "_view_module_version": "1.5.0",
            "description_tooltip": null,
            "_model_module": "@jupyter-widgets/controls",
            "layout": "IPY_MODEL_d6ab9fd715c74d00b9346c506832d8f7"
          }
        },
        "14f02c352a3a4673b7baa2bfc246b4eb": {
          "model_module": "@jupyter-widgets/controls",
          "model_name": "ProgressStyleModel",
          "state": {
            "_view_name": "StyleView",
            "_model_name": "ProgressStyleModel",
            "description_width": "",
            "_view_module": "@jupyter-widgets/base",
            "_model_module_version": "1.5.0",
            "_view_count": null,
            "_view_module_version": "1.2.0",
            "bar_color": null,
            "_model_module": "@jupyter-widgets/controls"
          }
        },
        "2327d0b65ecb471fa01bf718e8a7c7c0": {
          "model_module": "@jupyter-widgets/base",
          "model_name": "LayoutModel",
          "state": {
            "_view_name": "LayoutView",
            "grid_template_rows": null,
            "right": null,
            "justify_content": null,
            "_view_module": "@jupyter-widgets/base",
            "overflow": null,
            "_model_module_version": "1.2.0",
            "_view_count": null,
            "flex_flow": null,
            "width": null,
            "min_width": null,
            "border": null,
            "align_items": null,
            "bottom": null,
            "_model_module": "@jupyter-widgets/base",
            "top": null,
            "grid_column": null,
            "overflow_y": null,
            "overflow_x": null,
            "grid_auto_flow": null,
            "grid_area": null,
            "grid_template_columns": null,
            "flex": null,
            "_model_name": "LayoutModel",
            "justify_items": null,
            "grid_row": null,
            "max_height": null,
            "align_content": null,
            "visibility": null,
            "align_self": null,
            "height": null,
            "min_height": null,
            "padding": null,
            "grid_auto_rows": null,
            "grid_gap": null,
            "max_width": null,
            "order": null,
            "_view_module_version": "1.2.0",
            "grid_template_areas": null,
            "object_position": null,
            "object_fit": null,
            "grid_auto_columns": null,
            "margin": null,
            "display": null,
            "left": null
          }
        },
        "35d1abbaf3c94f939d9374d86988d3e7": {
          "model_module": "@jupyter-widgets/controls",
          "model_name": "DescriptionStyleModel",
          "state": {
            "_view_name": "StyleView",
            "_model_name": "DescriptionStyleModel",
            "description_width": "",
            "_view_module": "@jupyter-widgets/base",
            "_model_module_version": "1.5.0",
            "_view_count": null,
            "_view_module_version": "1.2.0",
            "_model_module": "@jupyter-widgets/controls"
          }
        },
        "d6ab9fd715c74d00b9346c506832d8f7": {
          "model_module": "@jupyter-widgets/base",
          "model_name": "LayoutModel",
          "state": {
            "_view_name": "LayoutView",
            "grid_template_rows": null,
            "right": null,
            "justify_content": null,
            "_view_module": "@jupyter-widgets/base",
            "overflow": null,
            "_model_module_version": "1.2.0",
            "_view_count": null,
            "flex_flow": null,
            "width": null,
            "min_width": null,
            "border": null,
            "align_items": null,
            "bottom": null,
            "_model_module": "@jupyter-widgets/base",
            "top": null,
            "grid_column": null,
            "overflow_y": null,
            "overflow_x": null,
            "grid_auto_flow": null,
            "grid_area": null,
            "grid_template_columns": null,
            "flex": null,
            "_model_name": "LayoutModel",
            "justify_items": null,
            "grid_row": null,
            "max_height": null,
            "align_content": null,
            "visibility": null,
            "align_self": null,
            "height": null,
            "min_height": null,
            "padding": null,
            "grid_auto_rows": null,
            "grid_gap": null,
            "max_width": null,
            "order": null,
            "_view_module_version": "1.2.0",
            "grid_template_areas": null,
            "object_position": null,
            "object_fit": null,
            "grid_auto_columns": null,
            "margin": null,
            "display": null,
            "left": null
          }
        },
        "44190c471cb54664a418e133e6334adc": {
          "model_module": "@jupyter-widgets/controls",
          "model_name": "HBoxModel",
          "state": {
            "_view_name": "HBoxView",
            "_dom_classes": [],
            "_model_name": "HBoxModel",
            "_view_module": "@jupyter-widgets/controls",
            "_model_module_version": "1.5.0",
            "_view_count": null,
            "_view_module_version": "1.5.0",
            "box_style": "",
            "layout": "IPY_MODEL_2bef47b0a1c5477286e290853cee029c",
            "_model_module": "@jupyter-widgets/controls",
            "children": [
              "IPY_MODEL_57b4cd504dbe4422acfa93b65d056536",
              "IPY_MODEL_2456911fab2a4ff8884dcedb837ba9db"
            ]
          }
        },
        "2bef47b0a1c5477286e290853cee029c": {
          "model_module": "@jupyter-widgets/base",
          "model_name": "LayoutModel",
          "state": {
            "_view_name": "LayoutView",
            "grid_template_rows": null,
            "right": null,
            "justify_content": null,
            "_view_module": "@jupyter-widgets/base",
            "overflow": null,
            "_model_module_version": "1.2.0",
            "_view_count": null,
            "flex_flow": null,
            "width": null,
            "min_width": null,
            "border": null,
            "align_items": null,
            "bottom": null,
            "_model_module": "@jupyter-widgets/base",
            "top": null,
            "grid_column": null,
            "overflow_y": null,
            "overflow_x": null,
            "grid_auto_flow": null,
            "grid_area": null,
            "grid_template_columns": null,
            "flex": null,
            "_model_name": "LayoutModel",
            "justify_items": null,
            "grid_row": null,
            "max_height": null,
            "align_content": null,
            "visibility": null,
            "align_self": null,
            "height": null,
            "min_height": null,
            "padding": null,
            "grid_auto_rows": null,
            "grid_gap": null,
            "max_width": null,
            "order": null,
            "_view_module_version": "1.2.0",
            "grid_template_areas": null,
            "object_position": null,
            "object_fit": null,
            "grid_auto_columns": null,
            "margin": null,
            "display": null,
            "left": null
          }
        },
        "57b4cd504dbe4422acfa93b65d056536": {
          "model_module": "@jupyter-widgets/controls",
          "model_name": "IntProgressModel",
          "state": {
            "_view_name": "ProgressView",
            "style": "IPY_MODEL_2868fc220453441c8973da3dc47aad74",
            "_dom_classes": [],
            "description": "",
            "_model_name": "IntProgressModel",
            "bar_style": "danger",
            "max": 1,
            "_view_module": "@jupyter-widgets/controls",
            "_model_module_version": "1.5.0",
            "value": 0,
            "_view_count": null,
            "_view_module_version": "1.5.0",
            "orientation": "horizontal",
            "min": 0,
            "description_tooltip": null,
            "_model_module": "@jupyter-widgets/controls",
            "layout": "IPY_MODEL_b3df91d7ac914fa19ba3b019630ca082"
          }
        },
        "2456911fab2a4ff8884dcedb837ba9db": {
          "model_module": "@jupyter-widgets/controls",
          "model_name": "HTMLModel",
          "state": {
            "_view_name": "HTMLView",
            "style": "IPY_MODEL_9a5fd0eba59f4d70bfe93a686a9148de",
            "_dom_classes": [],
            "description": "",
            "_model_name": "HTMLModel",
            "placeholder": "​",
            "_view_module": "@jupyter-widgets/controls",
            "_model_module_version": "1.5.0",
            "value": "  0% 0/1 [00:00&lt;?, ?it/s]",
            "_view_count": null,
            "_view_module_version": "1.5.0",
            "description_tooltip": null,
            "_model_module": "@jupyter-widgets/controls",
            "layout": "IPY_MODEL_69a4b13ff977496da81a7c08a8bb081d"
          }
        },
        "2868fc220453441c8973da3dc47aad74": {
          "model_module": "@jupyter-widgets/controls",
          "model_name": "ProgressStyleModel",
          "state": {
            "_view_name": "StyleView",
            "_model_name": "ProgressStyleModel",
            "description_width": "",
            "_view_module": "@jupyter-widgets/base",
            "_model_module_version": "1.5.0",
            "_view_count": null,
            "_view_module_version": "1.2.0",
            "bar_color": null,
            "_model_module": "@jupyter-widgets/controls"
          }
        },
        "b3df91d7ac914fa19ba3b019630ca082": {
          "model_module": "@jupyter-widgets/base",
          "model_name": "LayoutModel",
          "state": {
            "_view_name": "LayoutView",
            "grid_template_rows": null,
            "right": null,
            "justify_content": null,
            "_view_module": "@jupyter-widgets/base",
            "overflow": null,
            "_model_module_version": "1.2.0",
            "_view_count": null,
            "flex_flow": null,
            "width": null,
            "min_width": null,
            "border": null,
            "align_items": null,
            "bottom": null,
            "_model_module": "@jupyter-widgets/base",
            "top": null,
            "grid_column": null,
            "overflow_y": null,
            "overflow_x": null,
            "grid_auto_flow": null,
            "grid_area": null,
            "grid_template_columns": null,
            "flex": null,
            "_model_name": "LayoutModel",
            "justify_items": null,
            "grid_row": null,
            "max_height": null,
            "align_content": null,
            "visibility": null,
            "align_self": null,
            "height": null,
            "min_height": null,
            "padding": null,
            "grid_auto_rows": null,
            "grid_gap": null,
            "max_width": null,
            "order": null,
            "_view_module_version": "1.2.0",
            "grid_template_areas": null,
            "object_position": null,
            "object_fit": null,
            "grid_auto_columns": null,
            "margin": null,
            "display": null,
            "left": null
          }
        },
        "9a5fd0eba59f4d70bfe93a686a9148de": {
          "model_module": "@jupyter-widgets/controls",
          "model_name": "DescriptionStyleModel",
          "state": {
            "_view_name": "StyleView",
            "_model_name": "DescriptionStyleModel",
            "description_width": "",
            "_view_module": "@jupyter-widgets/base",
            "_model_module_version": "1.5.0",
            "_view_count": null,
            "_view_module_version": "1.2.0",
            "_model_module": "@jupyter-widgets/controls"
          }
        },
        "69a4b13ff977496da81a7c08a8bb081d": {
          "model_module": "@jupyter-widgets/base",
          "model_name": "LayoutModel",
          "state": {
            "_view_name": "LayoutView",
            "grid_template_rows": null,
            "right": null,
            "justify_content": null,
            "_view_module": "@jupyter-widgets/base",
            "overflow": null,
            "_model_module_version": "1.2.0",
            "_view_count": null,
            "flex_flow": null,
            "width": null,
            "min_width": null,
            "border": null,
            "align_items": null,
            "bottom": null,
            "_model_module": "@jupyter-widgets/base",
            "top": null,
            "grid_column": null,
            "overflow_y": null,
            "overflow_x": null,
            "grid_auto_flow": null,
            "grid_area": null,
            "grid_template_columns": null,
            "flex": null,
            "_model_name": "LayoutModel",
            "justify_items": null,
            "grid_row": null,
            "max_height": null,
            "align_content": null,
            "visibility": null,
            "align_self": null,
            "height": null,
            "min_height": null,
            "padding": null,
            "grid_auto_rows": null,
            "grid_gap": null,
            "max_width": null,
            "order": null,
            "_view_module_version": "1.2.0",
            "grid_template_areas": null,
            "object_position": null,
            "object_fit": null,
            "grid_auto_columns": null,
            "margin": null,
            "display": null,
            "left": null
          }
        },
        "91acdd5a68db40f4b7f615e3e91de9dd": {
          "model_module": "@jupyter-widgets/controls",
          "model_name": "HBoxModel",
          "state": {
            "_view_name": "HBoxView",
            "_dom_classes": [],
            "_model_name": "HBoxModel",
            "_view_module": "@jupyter-widgets/controls",
            "_model_module_version": "1.5.0",
            "_view_count": null,
            "_view_module_version": "1.5.0",
            "box_style": "",
            "layout": "IPY_MODEL_3c7bb82f7f65487c9b6ea8dd2d6db326",
            "_model_module": "@jupyter-widgets/controls",
            "children": [
              "IPY_MODEL_0192717d8cd946f39f705fa0979d4e64",
              "IPY_MODEL_3392da20ea974aabb4a3c0cb41d5d798"
            ]
          }
        },
        "3c7bb82f7f65487c9b6ea8dd2d6db326": {
          "model_module": "@jupyter-widgets/base",
          "model_name": "LayoutModel",
          "state": {
            "_view_name": "LayoutView",
            "grid_template_rows": null,
            "right": null,
            "justify_content": null,
            "_view_module": "@jupyter-widgets/base",
            "overflow": null,
            "_model_module_version": "1.2.0",
            "_view_count": null,
            "flex_flow": null,
            "width": null,
            "min_width": null,
            "border": null,
            "align_items": null,
            "bottom": null,
            "_model_module": "@jupyter-widgets/base",
            "top": null,
            "grid_column": null,
            "overflow_y": null,
            "overflow_x": null,
            "grid_auto_flow": null,
            "grid_area": null,
            "grid_template_columns": null,
            "flex": null,
            "_model_name": "LayoutModel",
            "justify_items": null,
            "grid_row": null,
            "max_height": null,
            "align_content": null,
            "visibility": null,
            "align_self": null,
            "height": null,
            "min_height": null,
            "padding": null,
            "grid_auto_rows": null,
            "grid_gap": null,
            "max_width": null,
            "order": null,
            "_view_module_version": "1.2.0",
            "grid_template_areas": null,
            "object_position": null,
            "object_fit": null,
            "grid_auto_columns": null,
            "margin": null,
            "display": null,
            "left": null
          }
        },
        "0192717d8cd946f39f705fa0979d4e64": {
          "model_module": "@jupyter-widgets/controls",
          "model_name": "IntProgressModel",
          "state": {
            "_view_name": "ProgressView",
            "style": "IPY_MODEL_efeb44a69e9741da923140e2e2caef95",
            "_dom_classes": [],
            "description": "",
            "_model_name": "IntProgressModel",
            "bar_style": "danger",
            "max": 2061,
            "_view_module": "@jupyter-widgets/controls",
            "_model_module_version": "1.5.0",
            "value": 2,
            "_view_count": null,
            "_view_module_version": "1.5.0",
            "orientation": "horizontal",
            "min": 0,
            "description_tooltip": null,
            "_model_module": "@jupyter-widgets/controls",
            "layout": "IPY_MODEL_bd1c3515755e474e8fa2b5d5cf607d16"
          }
        },
        "3392da20ea974aabb4a3c0cb41d5d798": {
          "model_module": "@jupyter-widgets/controls",
          "model_name": "HTMLModel",
          "state": {
            "_view_name": "HTMLView",
            "style": "IPY_MODEL_aa99c8bae136456a97907eb4e38b2df5",
            "_dom_classes": [],
            "description": "",
            "_model_name": "HTMLModel",
            "placeholder": "​",
            "_view_module": "@jupyter-widgets/controls",
            "_model_module_version": "1.5.0",
            "value": "  0% 2/2061 [00:00&lt;01:46, 19.39it/s]",
            "_view_count": null,
            "_view_module_version": "1.5.0",
            "description_tooltip": null,
            "_model_module": "@jupyter-widgets/controls",
            "layout": "IPY_MODEL_ddd4f8a8541f4a81b40c537f0510b321"
          }
        },
        "efeb44a69e9741da923140e2e2caef95": {
          "model_module": "@jupyter-widgets/controls",
          "model_name": "ProgressStyleModel",
          "state": {
            "_view_name": "StyleView",
            "_model_name": "ProgressStyleModel",
            "description_width": "",
            "_view_module": "@jupyter-widgets/base",
            "_model_module_version": "1.5.0",
            "_view_count": null,
            "_view_module_version": "1.2.0",
            "bar_color": null,
            "_model_module": "@jupyter-widgets/controls"
          }
        },
        "bd1c3515755e474e8fa2b5d5cf607d16": {
          "model_module": "@jupyter-widgets/base",
          "model_name": "LayoutModel",
          "state": {
            "_view_name": "LayoutView",
            "grid_template_rows": null,
            "right": null,
            "justify_content": null,
            "_view_module": "@jupyter-widgets/base",
            "overflow": null,
            "_model_module_version": "1.2.0",
            "_view_count": null,
            "flex_flow": null,
            "width": null,
            "min_width": null,
            "border": null,
            "align_items": null,
            "bottom": null,
            "_model_module": "@jupyter-widgets/base",
            "top": null,
            "grid_column": null,
            "overflow_y": null,
            "overflow_x": null,
            "grid_auto_flow": null,
            "grid_area": null,
            "grid_template_columns": null,
            "flex": null,
            "_model_name": "LayoutModel",
            "justify_items": null,
            "grid_row": null,
            "max_height": null,
            "align_content": null,
            "visibility": null,
            "align_self": null,
            "height": null,
            "min_height": null,
            "padding": null,
            "grid_auto_rows": null,
            "grid_gap": null,
            "max_width": null,
            "order": null,
            "_view_module_version": "1.2.0",
            "grid_template_areas": null,
            "object_position": null,
            "object_fit": null,
            "grid_auto_columns": null,
            "margin": null,
            "display": null,
            "left": null
          }
        },
        "aa99c8bae136456a97907eb4e38b2df5": {
          "model_module": "@jupyter-widgets/controls",
          "model_name": "DescriptionStyleModel",
          "state": {
            "_view_name": "StyleView",
            "_model_name": "DescriptionStyleModel",
            "description_width": "",
            "_view_module": "@jupyter-widgets/base",
            "_model_module_version": "1.5.0",
            "_view_count": null,
            "_view_module_version": "1.2.0",
            "_model_module": "@jupyter-widgets/controls"
          }
        },
        "ddd4f8a8541f4a81b40c537f0510b321": {
          "model_module": "@jupyter-widgets/base",
          "model_name": "LayoutModel",
          "state": {
            "_view_name": "LayoutView",
            "grid_template_rows": null,
            "right": null,
            "justify_content": null,
            "_view_module": "@jupyter-widgets/base",
            "overflow": null,
            "_model_module_version": "1.2.0",
            "_view_count": null,
            "flex_flow": null,
            "width": null,
            "min_width": null,
            "border": null,
            "align_items": null,
            "bottom": null,
            "_model_module": "@jupyter-widgets/base",
            "top": null,
            "grid_column": null,
            "overflow_y": null,
            "overflow_x": null,
            "grid_auto_flow": null,
            "grid_area": null,
            "grid_template_columns": null,
            "flex": null,
            "_model_name": "LayoutModel",
            "justify_items": null,
            "grid_row": null,
            "max_height": null,
            "align_content": null,
            "visibility": null,
            "align_self": null,
            "height": null,
            "min_height": null,
            "padding": null,
            "grid_auto_rows": null,
            "grid_gap": null,
            "max_width": null,
            "order": null,
            "_view_module_version": "1.2.0",
            "grid_template_areas": null,
            "object_position": null,
            "object_fit": null,
            "grid_auto_columns": null,
            "margin": null,
            "display": null,
            "left": null
          }
        }
      }
    }
  },
  "cells": [
    {
      "cell_type": "markdown",
      "metadata": {
        "id": "view-in-github",
        "colab_type": "text"
      },
      "source": [
        "<a href=\"https://colab.research.google.com/github/iisuslik43/dul/blob/hw3/hw3.ipynb\" target=\"_parent\"><img src=\"https://colab.research.google.com/assets/colab-badge.svg\" alt=\"Open In Colab\"/></a>"
      ]
    },
    {
      "cell_type": "code",
      "metadata": {
        "id": "KcQ3Jsyv9o0h",
        "colab_type": "code",
        "outputId": "3da0f614-5e50-4a5f-9190-c28e43dc2c83",
        "colab": {
          "base_uri": "https://localhost:8080/",
          "height": 122
        }
      },
      "source": [
        "from google.colab import drive\n",
        "drive.mount('/content/drive')\n",
        "\n",
        "! cp -r \"drive/My Drive/dul/\" ."
      ],
      "execution_count": 4,
      "outputs": [
        {
          "output_type": "stream",
          "text": [
            "Go to this URL in a browser: https://accounts.google.com/o/oauth2/auth?client_id=947318989803-6bn6qk8qdgf4n4g3pfee6491hc0brc4i.apps.googleusercontent.com&redirect_uri=urn%3aietf%3awg%3aoauth%3a2.0%3aoob&response_type=code&scope=email%20https%3a%2f%2fwww.googleapis.com%2fauth%2fdocs.test%20https%3a%2f%2fwww.googleapis.com%2fauth%2fdrive%20https%3a%2f%2fwww.googleapis.com%2fauth%2fdrive.photos.readonly%20https%3a%2f%2fwww.googleapis.com%2fauth%2fpeopleapi.readonly\n",
            "\n",
            "Enter your authorization code:\n",
            "··········\n",
            "Mounted at /content/drive\n"
          ],
          "name": "stdout"
        }
      ]
    },
    {
      "cell_type": "code",
      "metadata": {
        "id": "yIT3e6xykR9h",
        "colab_type": "code",
        "outputId": "1731e5d7-68d1-44b0-e7ee-6ccef70be077",
        "colab": {
          "base_uri": "https://localhost:8080/",
          "height": 51
        }
      },
      "source": [
        "! pip install pymorphy2 >> /dev/null\n",
        "! pip install transformers >> /dev/null\n",
        "! pip install wandb >> /dev/null\n",
        "! wandb login b569130067842c47dc059479b75930c8f598012a"
      ],
      "execution_count": 5,
      "outputs": [
        {
          "output_type": "stream",
          "text": [
            "\u001b[34m\u001b[1mwandb\u001b[0m: Appending key for api.wandb.ai to your netrc file: /root/.netrc\n",
            "\u001b[32mSuccessfully logged in to Weights & Biases!\u001b[0m\n"
          ],
          "name": "stdout"
        }
      ]
    },
    {
      "cell_type": "code",
      "metadata": {
        "id": "R-m-IjXpkjbD",
        "colab_type": "code",
        "colab": {}
      },
      "source": [
        "import numpy as np\n",
        "import torch\n",
        "import torch.utils.data\n",
        "import matplotlib.pyplot as plt\n",
        "import torch.nn as nn\n",
        "import torch.nn.functional as F\n",
        "from tqdm import tqdm_notebook as tqdm\n",
        "import pickle\n",
        "import torch.nn.functional as F\n",
        "import os\n",
        "import csv\n",
        "\n",
        "import wandb\n",
        "device = torch.device('cuda:0' if torch.cuda.is_available() else 'cpu')"
      ],
      "execution_count": 0,
      "outputs": []
    },
    {
      "cell_type": "markdown",
      "metadata": {
        "id": "KBTq6m76xn96",
        "colab_type": "text"
      },
      "source": [
        "# Sampling"
      ]
    },
    {
      "cell_type": "code",
      "metadata": {
        "id": "V3cJ5MRukpbI",
        "colab_type": "code",
        "colab": {}
      },
      "source": [
        "def sample_data_1():\n",
        "  count = 100000\n",
        "  rand = np.random.RandomState(0)\n",
        "  return [[1.0, 2.0]] + rand.randn(count, 2) * [[5.0, 1.0]]\n",
        "def sample_data_2():\n",
        "  count = 100000\n",
        "  rand = np.random.RandomState(0)\n",
        "  return [[1.0, 2.0]] + (rand.randn(count, 2) * [[5.0, 1.0]]).dot(\n",
        "  [[np.sqrt(2) / 2, np.sqrt(2) / 2], [-np.sqrt(2) / 2, np.sqrt(2) / 2]])\n",
        "\n",
        "def sample_data_3():\n",
        "  count = 100000\n",
        "  rand = np.random.RandomState(0)\n",
        "  a = [[-1.5, 2.5]] + rand.randn(count // 3, 2) * 0.2\n",
        "  b = [[1.5, 2.5]] + rand.randn(count // 3, 2) * 0.2\n",
        "  c = np.c_[2 * np.cos(np.linspace(0, np.pi, count // 3)),\n",
        "  -np.sin(np.linspace(0, np.pi, count // 3))]\n",
        "\n",
        "  c += rand.randn(*c.shape) * 0.2\n",
        "  data_x = np.concatenate([a, b, c], axis=0)\n",
        "  data_y = np.array([0] * len(a) + [1] * len(b) + [2] * len(c))\n",
        "  perm = rand.permutation(len(data_x))\n",
        "  return data_x[perm], data_y[perm]"
      ],
      "execution_count": 0,
      "outputs": []
    },
    {
      "cell_type": "code",
      "metadata": {
        "id": "nw-tAJgjkpdg",
        "colab_type": "code",
        "colab": {}
      },
      "source": [
        "data1 = sample_data_1()\n",
        "data2 = sample_data_2()\n",
        "data3, y3 = sample_data_3()"
      ],
      "execution_count": 0,
      "outputs": []
    },
    {
      "cell_type": "markdown",
      "metadata": {
        "id": "NuEmhBs5xfiQ",
        "colab_type": "text"
      },
      "source": [
        "#Models code\n"
      ]
    },
    {
      "cell_type": "code",
      "metadata": {
        "id": "id8mHhZzzz85",
        "colab_type": "code",
        "colab": {}
      },
      "source": [
        "class VAE1(nn.Module):\n",
        "  def __init__(self, dim=2, latent_dim=2):\n",
        "    super().__init__()\n",
        "    self.dim = dim\n",
        "    self.latent_dim = latent_dim\n",
        "\n",
        "    self.normal = torch.distributions.Normal(torch.tensor([0.0]), torch.tensor([1.0]))\n",
        "\n",
        "    self.encoder = nn.Sequential(\n",
        "      nn.Linear(self.dim, 32),\n",
        "      nn.ReLU(True)\n",
        "    )\n",
        "\n",
        "    self.mu_z = nn.Linear(32, self.latent_dim)\n",
        "    self.gamma_z = nn.Linear(32, self.latent_dim)\n",
        "\n",
        "        \n",
        "\n",
        "    self.decoder = nn.Sequential(\n",
        "      nn.Linear(self.latent_dim, 32),\n",
        "      nn.ReLU(True)\n",
        "    )\n",
        "\n",
        "    self.mu_x = nn.Linear(32, self.dim)\n",
        "    self.gamma_x = nn.Linear(32, self.dim)\n",
        "\n",
        "    self.gamma_x.weight.data.fill_(0.01)\n",
        "    self.gamma_z.weight.data.fill_(0.01)\n",
        "\n",
        "  def sample(self, mu, gamma):\n",
        "    if self.training:\n",
        "        #std_z = Variable(torch.from_numpy(np.random.normal(0, 1, size=sigma.size())).float())\n",
        "        std_z = self.normal.sample(mu.shape).to(device).reshape(mu.shape)\n",
        "        encoding = std_z * gamma + mu\n",
        "        return encoding\n",
        "    else:\n",
        "        return mu\n",
        "\n",
        "  def encode(self, x):\n",
        "    x = self.encoder(x)\n",
        "    mu = self.mu_z(x)\n",
        "    gamma = self.gamma_z(x)\n",
        "    gamma = torch.exp(0.5 * gamma)\n",
        "    return mu, gamma\n",
        "\n",
        "  def decode(self, z):\n",
        "    z = self.decoder(z)\n",
        "    mu = self.mu_x(z)\n",
        "    gamma = self.gamma_x(z)\n",
        "    gamma = torch.exp(0.5 * gamma)\n",
        "    return mu, gamma\n",
        "\n",
        "  def kl(self, mu, gamma):\n",
        "    dim = mu.shape[1]\n",
        "    return 0.5 * (gamma.sum(dim=-1) + (mu ** 2).sum(dim=-1) - dim - torch.log(gamma.prod(dim=-1)+ 1e-9)).mean()\n",
        "\n",
        "  def forward(self, x):\n",
        "    mu_z, gamma_z = self.encode(x)\n",
        "    z = self.sample(mu_z, gamma_z)\n",
        "    mu_x, gamma_x = self.decode(z)\n",
        "    x1 = self.sample(mu_x, gamma_x)\n",
        "    return x1, self.kl(mu_z, gamma_z)\n",
        "    "
      ],
      "execution_count": 0,
      "outputs": []
    },
    {
      "cell_type": "code",
      "metadata": {
        "id": "Tqr0KRvZwbm-",
        "colab_type": "code",
        "colab": {}
      },
      "source": [
        "class VAE2(VAE1):\n",
        "  def __init__(self, **kwargs):\n",
        "    super().__init__(**kwargs)\n",
        "    self.gamma_x = nn.Linear(32, 1)\n",
        "    self.gamma_x.weight.data.fill_(0.01)\n",
        "\n",
        "  def forward(self, x):\n",
        "    mu_z, gamma_z = self.encode(x)\n",
        "    z = self.sample(mu_z, gamma_z)\n",
        "    mu_x, gamma_x = self.decode(z)\n",
        "    gamma_x = gamma_x.repeat((1, self.dim))\n",
        "    x1 = self.sample(mu_x, gamma_x)\n",
        "    return x1, self.kl(mu_z, gamma_z)"
      ],
      "execution_count": 0,
      "outputs": []
    },
    {
      "cell_type": "code",
      "metadata": {
        "id": "H6oDgVwaz0Bi",
        "colab_type": "code",
        "colab": {}
      },
      "source": [
        "class VAELoss(nn.Module):\n",
        "  def __init__(self):\n",
        "    super().__init__()\n",
        "    self.mse = nn.MSELoss()\n",
        "  \n",
        "  def forward(self, target, output, kl):\n",
        "    l2 = self.mse(output, target)\n",
        "    return l2 + kl, l2"
      ],
      "execution_count": 0,
      "outputs": []
    },
    {
      "cell_type": "code",
      "metadata": {
        "id": "YqYL3P8bkpie",
        "colab_type": "code",
        "colab": {}
      },
      "source": [
        "def train(model, criterion, data, n_epochs=10, wandb_name=None, batch_size=128):\n",
        "  split = int(len(data) * 0.8)\n",
        "  dataset_train = torch.utils.data.DataLoader(data[:split],\n",
        "                                              batch_size=batch_size,\n",
        "                                              shuffle=True)\n",
        "  dataset_test = torch.utils.data.DataLoader(data[split:],\n",
        "                                             batch_size=batch_size,\n",
        "                                             shuffle=True)\n",
        "  optimizer = torch.optim.Adam(params=model.parameters())\n",
        "  if wandb_name is not None:\n",
        "    wandb.init(name=wandb_name, project=\"dul-hw3-vae\")\n",
        "    wandb.watch(model)\n",
        "  for epoch in tqdm(range(1, n_epochs + 1)):\n",
        "      train_losses = {'ELBO': [], 'KL': [], 'L2': []}\n",
        "      test_losses = {'ELBO': [], 'KL': [], 'L2': []}\n",
        "      for x_batch in dataset_train:\n",
        "          optimizer.zero_grad()\n",
        "          x_batch = x_batch.float().to(device)\n",
        "          output, kl = model(x_batch)\n",
        "          loss, l2 = criterion(x_batch, output, kl)\n",
        "          loss.backward()\n",
        "          optimizer.step()\n",
        "\n",
        "          train_losses['ELBO'].append(loss.item())\n",
        "          train_losses['KL'].append(kl.item())\n",
        "          train_losses['L2'].append(l2.item())\n",
        "\n",
        "      with torch.no_grad():\n",
        "          model.eval()\n",
        "          for x_test in dataset_test:\n",
        "              x_test = x_test.float().to(device)\n",
        "              output_test, kl_test = model(x_test)\n",
        "              loss, l2 = criterion(x_test, output_test, kl_test)\n",
        "\n",
        "              test_losses['ELBO'].append(loss.item())\n",
        "              test_losses['KL'].append(kl_test.item())\n",
        "              test_losses['L2'].append(l2.item())\n",
        "          model.train()\n",
        "      if wandb_name is not None:\n",
        "          loss_log = {}\n",
        "          for name, values in train_losses.items():\n",
        "            values = [v for v in values if v == v and v != float('inf')]\n",
        "            loss_log[name + ' train'] = np.mean(values)\n",
        "          for name, values in test_losses.items():\n",
        "            values = [v for v in values if v == v and v != float('inf')]\n",
        "            loss_log[name + ' test'] = np.mean(values)\n",
        "          wandb.log(loss_log)"
      ],
      "execution_count": 0,
      "outputs": []
    },
    {
      "cell_type": "markdown",
      "metadata": {
        "id": "HlrMPUf1xQVb",
        "colab_type": "text"
      },
      "source": [
        "# 1 a\n"
      ]
    },
    {
      "cell_type": "code",
      "metadata": {
        "id": "XrhxQF1tST20",
        "colab_type": "code",
        "colab": {}
      },
      "source": [
        "def sample(model, data):\n",
        "    fig, (ax1, ax2, ax3) = plt.subplots(1, 3)\n",
        "    ax1.plot(data[:,0], data[:,1], 'bo')\n",
        "    ax1.set_title('Original')\n",
        "    model.eval()\n",
        "    with torch.no_grad():\n",
        "        for i in range(20):\n",
        "          z = model.normal.sample((100, 2)).reshape(100, 2).to(device)\n",
        "          mu_x, gamma_x = model.decode(z)\n",
        "          x1 = model.sample(mu_x, gamma_x).cpu().numpy()\n",
        "          ax2.plot(x1[:,0], x1[:, 1], 'bo')\n",
        "    ax2.set_title('Eval generation')\n",
        "    model.train()\n",
        "    with torch.no_grad():\n",
        "        for i in range(20):\n",
        "          z = model.normal.sample((100, 2)).reshape(100, 2).to(device)\n",
        "          mu_x, gamma_x = model.decode(z)\n",
        "          x1 = model.sample(mu_x, gamma_x).cpu().numpy()\n",
        "          ax3.plot(x1[:,0], x1[:, 1], 'bo')\n",
        "    ax3.set_title('Train generation')\n",
        "    ax1.label_outer()\n",
        "    ax2.label_outer()\n",
        "    ax3.label_outer()\n",
        "    plt.show()"
      ],
      "execution_count": 0,
      "outputs": []
    },
    {
      "cell_type": "code",
      "metadata": {
        "id": "Txn6F8eh99UK",
        "colab_type": "code",
        "colab": {
          "base_uri": "https://localhost:8080/",
          "height": 364,
          "referenced_widgets": [
            "84b3c14f2759465aac76436e3b7aee30",
            "f09cfc8568a24218a353f6e9a32c9f0b",
            "4f05e20827de410389dec4fe62a230a1",
            "cd12568f3119440cb78701da4c1028e1",
            "d0ac8b32587f4cd5bc1ee08c88d0e062",
            "648e209ab7914bee9ccfcc4957213519",
            "dfe03c0c62ab4cfcb139ad2999fa41ff",
            "71a599852e1f42cfa10b2b7863ff8a0a"
          ]
        },
        "outputId": "45765d67-3dcf-4c0d-b168-8e890e717f31"
      },
      "source": [
        "model_11 = VAE1().to(device)\n",
        "train(model_11, VAELoss(), data1, n_epochs=40, wandb_name='Method # 1 Data # 1')\n",
        "sample(model_11, data1)"
      ],
      "execution_count": 35,
      "outputs": [
        {
          "output_type": "display_data",
          "data": {
            "text/html": [
              "\n",
              "                Logging results to <a href=\"https://wandb.com\" target=\"_blank\">Weights & Biases</a> <a href=\"https://docs.wandb.com/integrations/jupyter.html\" target=\"_blank\">(Documentation)</a>.<br/>\n",
              "                Project page: <a href=\"https://app.wandb.ai/iisuslik43/dul-hw3-vae\" target=\"_blank\">https://app.wandb.ai/iisuslik43/dul-hw3-vae</a><br/>\n",
              "                Run page: <a href=\"https://app.wandb.ai/iisuslik43/dul-hw3-vae/runs/98q30pu0\" target=\"_blank\">https://app.wandb.ai/iisuslik43/dul-hw3-vae/runs/98q30pu0</a><br/>\n",
              "            "
            ],
            "text/plain": [
              "<IPython.core.display.HTML object>"
            ]
          },
          "metadata": {
            "tags": []
          }
        },
        {
          "output_type": "display_data",
          "data": {
            "application/vnd.jupyter.widget-view+json": {
              "model_id": "84b3c14f2759465aac76436e3b7aee30",
              "version_minor": 0,
              "version_major": 2
            },
            "text/plain": [
              "HBox(children=(IntProgress(value=0, max=40), HTML(value='')))"
            ]
          },
          "metadata": {
            "tags": []
          }
        },
        {
          "output_type": "display_data",
          "data": {
            "image/png": "[encoded data removed]",
            "text/plain": [
              "<Figure size 432x288 with 3 Axes>"
            ]
          },
          "metadata": {
            "tags": []
          }
        }
      ]
    },
    {
      "cell_type": "code",
      "metadata": {
        "id": "O1fbORft99ye",
        "colab_type": "code",
        "colab": {
          "base_uri": "https://localhost:8080/",
          "height": 364,
          "referenced_widgets": [
            "29cfc68ef3bc468487b62fc11c5f9420",
            "d94f168062d849daadce0e88fd903375",
            "f2fed19cac734f3499e2634cc0a9c4dd",
            "332065509c854c9b920fce75d33b0a01",
            "982db173fa04441ba38fd8c8e30ae74f",
            "b491d44b766a435f83f1cd3d822bf7de",
            "d38da2bd3edd4454b0062024aad5c974",
            "d64d49f5e80048de8d3527c93a4d2509"
          ]
        },
        "outputId": "9d754e2c-50f9-405f-a035-3556a2fdc24b"
      },
      "source": [
        "model_12 = VAE2().to(device)\n",
        "train(model_12, VAELoss(), data1, n_epochs=40, wandb_name='Method # 2 Data # 1')\n",
        "sample(model_12, data1)"
      ],
      "execution_count": 36,
      "outputs": [
        {
          "output_type": "display_data",
          "data": {
            "text/html": [
              "\n",
              "                Logging results to <a href=\"https://wandb.com\" target=\"_blank\">Weights & Biases</a> <a href=\"https://docs.wandb.com/integrations/jupyter.html\" target=\"_blank\">(Documentation)</a>.<br/>\n",
              "                Project page: <a href=\"https://app.wandb.ai/iisuslik43/dul-hw3-vae\" target=\"_blank\">https://app.wandb.ai/iisuslik43/dul-hw3-vae</a><br/>\n",
              "                Run page: <a href=\"https://app.wandb.ai/iisuslik43/dul-hw3-vae/runs/kulc4uyw\" target=\"_blank\">https://app.wandb.ai/iisuslik43/dul-hw3-vae/runs/kulc4uyw</a><br/>\n",
              "            "
            ],
            "text/plain": [
              "<IPython.core.display.HTML object>"
            ]
          },
          "metadata": {
            "tags": []
          }
        },
        {
          "output_type": "display_data",
          "data": {
            "application/vnd.jupyter.widget-view+json": {
              "model_id": "29cfc68ef3bc468487b62fc11c5f9420",
              "version_minor": 0,
              "version_major": 2
            },
            "text/plain": [
              "HBox(children=(IntProgress(value=0, max=40), HTML(value='')))"
            ]
          },
          "metadata": {
            "tags": []
          }
        },
        {
          "output_type": "display_data",
          "data": {
            "image/png": "[encoded data removed]",
            "text/plain": [
              "<Figure size 432x288 with 3 Axes>"
            ]
          },
          "metadata": {
            "tags": []
          }
        }
      ]
    },
    {
      "cell_type": "code",
      "metadata": {
        "id": "oV468jtO9-LG",
        "colab_type": "code",
        "colab": {
          "base_uri": "https://localhost:8080/",
          "height": 364,
          "referenced_widgets": [
            "2231f73435d741caa91136285686482e",
            "851c320c8f974d2990caa8c69377cfd5",
            "f1ff4c60972c4bf6a38b424d7b7a1d7e",
            "8958fbcf48e948eebd4fd36f197309e5",
            "4d0aded5ba1d48d6988a63be7eab93ff",
            "122e8c09b4f94845977b3b164cc2ebfc",
            "1d33593faee740c498e0799b67cce714",
            "d1e472dfbaa54c98b8d7971a6b1a75db"
          ]
        },
        "outputId": "d64421af-d273-4dda-eafd-017a472672a1"
      },
      "source": [
        "model_21 = VAE1().to(device)\n",
        "train(model_21, VAELoss(), data2, n_epochs=60, wandb_name='Method # 1 Data # 2')\n",
        "sample(model_21, data2)"
      ],
      "execution_count": 42,
      "outputs": [
        {
          "output_type": "display_data",
          "data": {
            "text/html": [
              "\n",
              "                Logging results to <a href=\"https://wandb.com\" target=\"_blank\">Weights & Biases</a> <a href=\"https://docs.wandb.com/integrations/jupyter.html\" target=\"_blank\">(Documentation)</a>.<br/>\n",
              "                Project page: <a href=\"https://app.wandb.ai/iisuslik43/dul-hw3-vae\" target=\"_blank\">https://app.wandb.ai/iisuslik43/dul-hw3-vae</a><br/>\n",
              "                Run page: <a href=\"https://app.wandb.ai/iisuslik43/dul-hw3-vae/runs/wtq31725\" target=\"_blank\">https://app.wandb.ai/iisuslik43/dul-hw3-vae/runs/wtq31725</a><br/>\n",
              "            "
            ],
            "text/plain": [
              "<IPython.core.display.HTML object>"
            ]
          },
          "metadata": {
            "tags": []
          }
        },
        {
          "output_type": "display_data",
          "data": {
            "application/vnd.jupyter.widget-view+json": {
              "model_id": "2231f73435d741caa91136285686482e",
              "version_minor": 0,
              "version_major": 2
            },
            "text/plain": [
              "HBox(children=(IntProgress(value=0, max=60), HTML(value='')))"
            ]
          },
          "metadata": {
            "tags": []
          }
        },
        {
          "output_type": "display_data",
          "data": {
            "image/png": "[encoded data removed]",
            "text/plain": [
              "<Figure size 432x288 with 3 Axes>"
            ]
          },
          "metadata": {
            "tags": []
          }
        }
      ]
    },
    {
      "cell_type": "code",
      "metadata": {
        "id": "FB7JpMmj9-hx",
        "colab_type": "code",
        "colab": {
          "base_uri": "https://localhost:8080/",
          "height": 364,
          "referenced_widgets": [
            "c10c7294a6514d6292e6a4ba6ae9b609",
            "a81c2ce30b0a4171ad2eb7cdd002c90d",
            "faafa33ddb8a474eb81b8b0b3412c917",
            "e137de15679f4ae6b9238ee6895d094d",
            "091b6767100e477eb55c7169cee29777",
            "eab4b4ff1fce48b9b975c8224a4a41fc",
            "25a180dd04c24cf8887d5e15d40b140d",
            "8ecbadf2a10f443a982344862a4a1b67"
          ]
        },
        "outputId": "f72295cf-084a-4eb1-e7c9-bcf643bf49e5"
      },
      "source": [
        "model_22 = VAE2().to(device)\n",
        "train(model_22, VAELoss(), data2, n_epochs=60, wandb_name='Method # 2 Data # 2')\n",
        "sample(model_22, data2)"
      ],
      "execution_count": 43,
      "outputs": [
        {
          "output_type": "display_data",
          "data": {
            "text/html": [
              "\n",
              "                Logging results to <a href=\"https://wandb.com\" target=\"_blank\">Weights & Biases</a> <a href=\"https://docs.wandb.com/integrations/jupyter.html\" target=\"_blank\">(Documentation)</a>.<br/>\n",
              "                Project page: <a href=\"https://app.wandb.ai/iisuslik43/dul-hw3-vae\" target=\"_blank\">https://app.wandb.ai/iisuslik43/dul-hw3-vae</a><br/>\n",
              "                Run page: <a href=\"https://app.wandb.ai/iisuslik43/dul-hw3-vae/runs/ofnkziub\" target=\"_blank\">https://app.wandb.ai/iisuslik43/dul-hw3-vae/runs/ofnkziub</a><br/>\n",
              "            "
            ],
            "text/plain": [
              "<IPython.core.display.HTML object>"
            ]
          },
          "metadata": {
            "tags": []
          }
        },
        {
          "output_type": "display_data",
          "data": {
            "application/vnd.jupyter.widget-view+json": {
              "model_id": "c10c7294a6514d6292e6a4ba6ae9b609",
              "version_minor": 0,
              "version_major": 2
            },
            "text/plain": [
              "HBox(children=(IntProgress(value=0, max=60), HTML(value='')))"
            ]
          },
          "metadata": {
            "tags": []
          }
        },
        {
          "output_type": "display_data",
          "data": {
            "image/png": "[encoded data removed]",
            "text/plain": [
              "<Figure size 432x288 with 3 Axes>"
            ]
          },
          "metadata": {
            "tags": []
          }
        }
      ]
    },
    {
      "cell_type": "markdown",
      "metadata": {
        "id": "3qj3cJX_xXGt",
        "colab_type": "text"
      },
      "source": [
        "#1 b"
      ]
    },
    {
      "cell_type": "code",
      "metadata": {
        "id": "Lq2viliryQUh",
        "colab_type": "code",
        "colab": {
          "base_uri": "https://localhost:8080/",
          "height": 364,
          "referenced_widgets": [
            "e9cccf9cb7e243399d1a184942bbec57",
            "966d7c851fa24d1daf5e1de51e6921cd",
            "8213370ebc744c628f57c2e11344e7c8",
            "b9de43c8c801440b8e69e15231d4ab61",
            "14f02c352a3a4673b7baa2bfc246b4eb",
            "2327d0b65ecb471fa01bf718e8a7c7c0",
            "35d1abbaf3c94f939d9374d86988d3e7",
            "d6ab9fd715c74d00b9346c506832d8f7"
          ]
        },
        "outputId": "8a48795b-b8f2-4dea-d46c-465189854709"
      },
      "source": [
        "model_31 = VAE1().to(device)\n",
        "train(model_31, VAELoss(), data3, n_epochs=300, wandb_name='Method # 1 Data # 3')\n",
        "sample(model_31, data3)"
      ],
      "execution_count": 51,
      "outputs": [
        {
          "output_type": "display_data",
          "data": {
            "text/html": [
              "\n",
              "                Logging results to <a href=\"https://wandb.com\" target=\"_blank\">Weights & Biases</a> <a href=\"https://docs.wandb.com/integrations/jupyter.html\" target=\"_blank\">(Documentation)</a>.<br/>\n",
              "                Project page: <a href=\"https://app.wandb.ai/iisuslik43/dul-hw3-vae\" target=\"_blank\">https://app.wandb.ai/iisuslik43/dul-hw3-vae</a><br/>\n",
              "                Run page: <a href=\"https://app.wandb.ai/iisuslik43/dul-hw3-vae/runs/3k2kunk4\" target=\"_blank\">https://app.wandb.ai/iisuslik43/dul-hw3-vae/runs/3k2kunk4</a><br/>\n",
              "            "
            ],
            "text/plain": [
              "<IPython.core.display.HTML object>"
            ]
          },
          "metadata": {
            "tags": []
          }
        },
        {
          "output_type": "display_data",
          "data": {
            "application/vnd.jupyter.widget-view+json": {
              "model_id": "e9cccf9cb7e243399d1a184942bbec57",
              "version_minor": 0,
              "version_major": 2
            },
            "text/plain": [
              "HBox(children=(IntProgress(value=0, max=300), HTML(value='')))"
            ]
          },
          "metadata": {
            "tags": []
          }
        },
        {
          "output_type": "display_data",
          "data": {
            "image/png": "[encoded data removed]",
            "text/plain": [
              "<Figure size 432x288 with 3 Axes>"
            ]
          },
          "metadata": {
            "tags": []
          }
        }
      ]
    },
    {
      "cell_type": "code",
      "metadata": {
        "id": "bZLnxKaQIZjt",
        "colab_type": "code",
        "colab": {}
      },
      "source": [
        "def sample_z(model, data, y):\n",
        "    data = data[len(data) - 2001:]\n",
        "    y = y[len(data) - 2001:]\n",
        "    colors = {0: 'r', 1: 'g', 2: 'b'}\n",
        "    with torch.no_grad():\n",
        "        model.eval()\n",
        "        for i in range(10):\n",
        "            x = data[i * 200: (i + 1) * 200]\n",
        "            x = torch.tensor(x).float().to(device)\n",
        "            mu, gamma = model.encode(x)\n",
        "            z = model.sample(mu, gamma).cpu().numpy()\n",
        "            y_sample = y[i * 200: (i + 1) * 200]\n",
        "            for x1, y1 in zip(z, y_sample):\n",
        "              plt.plot(x1[0], x1[1], colors[y1] + 'o')"
      ],
      "execution_count": 0,
      "outputs": []
    },
    {
      "cell_type": "code",
      "metadata": {
        "id": "qdfYYsv1KfCg",
        "colab_type": "code",
        "colab": {
          "base_uri": "https://localhost:8080/",
          "height": 266
        },
        "outputId": "e12a3c21-c9b7-4629-fe9b-8b02a4e1e551"
      },
      "source": [
        "sample_z(model_31, data3, y3)"
      ],
      "execution_count": 60,
      "outputs": [
        {
          "output_type": "display_data",
          "data": {
            "image/png": "[encoded data removed]",
            "text/plain": [
              "<Figure size 432x288 with 1 Axes>"
            ]
          },
          "metadata": {
            "tags": []
          }
        }
      ]
    },
    {
      "cell_type": "code",
      "metadata": {
        "id": "ORXkxxn7Us7w",
        "colab_type": "code",
        "colab": {
          "base_uri": "https://localhost:8080/",
          "height": 265
        },
        "outputId": "73c1fa99-61a1-4a25-d756-8ada5f0a0601"
      },
      "source": [
        "for x1, y1 in zip(data3[:2000], y3[:2000]):\n",
        "    plt.plot(x1[0], x1[1], colors[y1] + 'o')"
      ],
      "execution_count": 58,
      "outputs": [
        {
          "output_type": "display_data",
          "data": {
            "image/png": "[encoded data removed]",
            "text/plain": [
              "<Figure size 432x288 with 1 Axes>"
            ]
          },
          "metadata": {
            "tags": []
          }
        }
      ]
    },
    {
      "cell_type": "markdown",
      "metadata": {
        "id": "g-gWkkv6yRNM",
        "colab_type": "text"
      },
      "source": [
        "# 2 a\n"
      ]
    },
    {
      "cell_type": "code",
      "metadata": {
        "id": "WCjbpQRM-HRu",
        "colab_type": "code",
        "colab": {}
      },
      "source": [
        "with open('dul/hw3-q2.pkl', 'rb') as f:\n",
        "  svhn_dataset = pickle.load(f)"
      ],
      "execution_count": 0,
      "outputs": []
    },
    {
      "cell_type": "code",
      "metadata": {
        "id": "RyUgYPJHIThr",
        "colab_type": "code",
        "colab": {}
      },
      "source": [
        "class GatedShortcutConnection(nn.Module):\n",
        "  def __init__(self, c):\n",
        "    super().__init__()\n",
        "    self.conv1 = nn.Conv2d(c, c, kernel_size=1)\n",
        "    self.conv2 = nn.Conv2d(c, c, kernel_size=1)\n",
        "    self.sigmoid = nn.Sigmoid()\n",
        "                 \n",
        "  def forward(self, x):\n",
        "      return self.conv1(x) * self.sigmoid(self.conv2(x))\n",
        "\n",
        "class ResidualStack(nn.Module):\n",
        "  def __init__(self, c):\n",
        "    super().__init__()\n",
        "    layers = []\n",
        "    for _ in range(5):\n",
        "        layers += [nn.ReLU(),\n",
        "                   nn.Conv2d(2 * c, c, kernel_size=3, stride=1, padding=1),\n",
        "                   nn.ReLU(),\n",
        "                   nn.Conv2d(c, 2 * c, kernel_size=3, stride=1, padding=1),\n",
        "                   GatedShortcutConnection(2 * c)]\n",
        "    layers += [nn.ReLU()]\n",
        "    self.layers = nn.Sequential(*layers)\n",
        "\n",
        "  def forward(self, x):\n",
        "    return self.layers(x)"
      ],
      "execution_count": 0,
      "outputs": []
    },
    {
      "cell_type": "code",
      "metadata": {
        "id": "OEiGfshyIF_l",
        "colab_type": "code",
        "colab": {}
      },
      "source": [
        "class Encoder(nn.Module):\n",
        "  def __init__(self, c):\n",
        "    super().__init__()\n",
        "    self.c = c\n",
        "    layers = [nn.Conv2d(3, 2 * c, kernel_size=4, stride=2, padding=1),\n",
        "              nn.ReLU(),\n",
        "              nn.Conv2d(2 * c, 4 * c, kernel_size=4, stride=2, padding=1),\n",
        "              nn.ReLU(),\n",
        "              nn.Conv2d(4 * c, 2 * c, kernel_size=3, stride=1, padding=1),\n",
        "              ResidualStack(c)\n",
        "              ]\n",
        "    self.layers = nn.Sequential(*layers)\n",
        "\n",
        "  def forward(self, x):\n",
        "    x = self.layers(x)\n",
        "    x = x.reshape(-1, 2, self.c * 8 * 8)\n",
        "    mu, gamma = x[:, 0, :], x[:, 1, :]\n",
        "    gamma = torch.exp(gamma)\n",
        "    return mu, gamma\n",
        "\n",
        "\n",
        "class Decoder(nn.Module):\n",
        "  def __init__(self, c):\n",
        "    super().__init__()\n",
        "    self.c = c\n",
        "    layers = [nn.Conv2d(c, 4 * c, kernel_size=3, stride=1, padding=1),\n",
        "              #ResidualStack(2 * c),\n",
        "              nn.ConvTranspose2d(4 * c, 2 * c, kernel_size=4, stride=2, padding=1),\n",
        "              nn.ReLU(),\n",
        "              nn.ConvTranspose2d(2 * c, 3, kernel_size=4, stride=2, padding=1)]\n",
        "    self.layers = nn.Sequential(*layers)\n",
        "\n",
        "  def forward(self, x):\n",
        "    x = x.reshape(-1, self.c, 8, 8)\n",
        "\n",
        "    return self.layers(x)"
      ],
      "execution_count": 0,
      "outputs": []
    },
    {
      "cell_type": "code",
      "metadata": {
        "id": "6vxG3N0AySc3",
        "colab_type": "code",
        "colab": {}
      },
      "source": [
        "class VAE_big(nn.Module):\n",
        "  def __init__(self, c):\n",
        "    super().__init__()\n",
        "\n",
        "    self.normal = torch.distributions.Normal(torch.tensor([0.0]), torch.tensor([1.0]))\n",
        "\n",
        "    self.encoder = Encoder(c)\n",
        "\n",
        "    self.decoder = Decoder(c)\n",
        "\n",
        "  def sample(self, mu, gamma):\n",
        "    if self.training:\n",
        "        #std_z = Variable(torch.from_numpy(np.random.normal(0, 1, size=sigma.size())).float())\n",
        "        std_z = self.normal.sample(mu.shape).to(device).reshape(mu.shape)\n",
        "        encoding = std_z * gamma + mu\n",
        "        return encoding\n",
        "    else:\n",
        "        return mu\n",
        "\n",
        "\n",
        "  def kl(self, mu, gamma):\n",
        "    dim = mu.shape[1]\n",
        "    print(torch.log(gamma.prod(dim=-1)+ 1e-9).mean())\n",
        "    return 0.5 * (gamma.sum(dim=-1) + (mu ** 2).sum(dim=-1) - dim - torch.log(gamma.prod(dim=-1)+ 1e-9)).mean()\n",
        "\n",
        "  def forward(self, x):\n",
        "    x = x.permute(0, 3, 1, 2)\n",
        "    mu_z, gamma_z = self.encoder(x)\n",
        "    z = self.sample(mu_z, gamma_z)\n",
        "    # mu_x, gamma_x = self.decoder(z)\n",
        "    # x1 = self.sample(mu_x, gamma_x)\n",
        "    x1 = self.decoder(z)\n",
        "    x1 = x1.permute(0, 2, 3, 1)\n",
        "    return x1, self.kl(mu_z, gamma_z)\n",
        "    "
      ],
      "execution_count": 0,
      "outputs": []
    },
    {
      "cell_type": "code",
      "metadata": {
        "id": "R4WbHch3ayNM",
        "colab_type": "code",
        "colab": {}
      },
      "source": [
        "def train_svhn(model, criterion, data_train, data_val, n_epochs=10, wandb_name=None, batch_size=32):\n",
        "  dataset_train = torch.utils.data.DataLoader(data_train,\n",
        "                                              batch_size=batch_size,\n",
        "                                              shuffle=True)\n",
        "  dataset_test = torch.utils.data.DataLoader(data_val,\n",
        "                                             batch_size=batch_size,\n",
        "                                             shuffle=True)\n",
        "  optimizer = torch.optim.Adam(params=model.parameters())\n",
        "  if wandb_name is not None:\n",
        "    wandb.init(name=wandb_name, project=\"dul-hw3-vae\")\n",
        "    wandb.watch(model)\n",
        "  for epoch in tqdm(range(1, n_epochs + 1)):\n",
        "      train_losses = {'ELBO': [], 'KL': [], 'L2': []}\n",
        "      test_losses = {'ELBO': [], 'KL': [], 'L2': []}\n",
        "      for x_batch in tqdm(dataset_train):\n",
        "          optimizer.zero_grad()\n",
        "          x_batch = x_batch.float().to(device)\n",
        "          output, kl = model(x_batch)\n",
        "          loss, l2 = criterion(x_batch, output, kl)\n",
        "          loss.backward()\n",
        "          optimizer.step()\n",
        "\n",
        "          train_losses['ELBO'].append(loss.item())\n",
        "          train_losses['KL'].append(kl.item())\n",
        "          train_losses['L2'].append(l2.item())\n",
        "          if kl.item() != kl.item():\n",
        "            print('NAN')\n",
        "            raise ValueError('NAN HAPPENED')\n",
        "\n",
        "      with torch.no_grad():\n",
        "          model.eval()\n",
        "          for x_test in dataset_test:\n",
        "              x_test = x_test.float().to(device)\n",
        "              output_test, kl_test = model(x_test)\n",
        "              loss, l2 = criterion(x_test, output_test, kl_test)\n",
        "              test_losses['ELBO'].append(loss.item())\n",
        "              test_losses['KL'].append(kl_test.item())\n",
        "              test_losses['L2'].append(l2.item())\n",
        "          model.train()\n",
        "      if wandb_name is not None:\n",
        "          loss_log = {}\n",
        "          for name, values in train_losses.items():\n",
        "            values = [v for v in values if v == v and v != float('inf')]\n",
        "            loss_log[name + ' train'] = np.mean(values)\n",
        "          for name, values in test_losses.items():\n",
        "            values = [v for v in values if v == v and v != float('inf')]\n",
        "            loss_log[name + ' test'] = np.mean(values)\n",
        "          wandb.log(loss_log)"
      ],
      "execution_count": 0,
      "outputs": []
    },
    {
      "cell_type": "code",
      "metadata": {
        "id": "G53PmkB0-HNN",
        "colab_type": "code",
        "colab": {
          "base_uri": "https://localhost:8080/",
          "height": 466,
          "referenced_widgets": [
            "44190c471cb54664a418e133e6334adc",
            "2bef47b0a1c5477286e290853cee029c",
            "57b4cd504dbe4422acfa93b65d056536",
            "2456911fab2a4ff8884dcedb837ba9db",
            "2868fc220453441c8973da3dc47aad74",
            "b3df91d7ac914fa19ba3b019630ca082",
            "9a5fd0eba59f4d70bfe93a686a9148de",
            "69a4b13ff977496da81a7c08a8bb081d",
            "91acdd5a68db40f4b7f615e3e91de9dd",
            "3c7bb82f7f65487c9b6ea8dd2d6db326",
            "0192717d8cd946f39f705fa0979d4e64",
            "3392da20ea974aabb4a3c0cb41d5d798",
            "efeb44a69e9741da923140e2e2caef95",
            "bd1c3515755e474e8fa2b5d5cf607d16",
            "aa99c8bae136456a97907eb4e38b2df5",
            "ddd4f8a8541f4a81b40c537f0510b321"
          ]
        },
        "outputId": "d2d7cfc0-84e2-4c6b-996e-32ee55c96eb1"
      },
      "source": [
        "model_svhn_1 = VAE_big(64).to(device)\n",
        "# wandb_value = 'Method # 1 SVHN'\n",
        "wandb_value = None\n",
        "train_svhn(model_svhn_1, VAELoss(), svhn_dataset['train'], svhn_dataset['valid'], n_epochs=1, wandb_name=wandb_value)"
      ],
      "execution_count": 157,
      "outputs": [
        {
          "output_type": "display_data",
          "data": {
            "application/vnd.jupyter.widget-view+json": {
              "model_id": "44190c471cb54664a418e133e6334adc",
              "version_minor": 0,
              "version_major": 2
            },
            "text/plain": [
              "HBox(children=(IntProgress(value=0, max=1), HTML(value='')))"
            ]
          },
          "metadata": {
            "tags": []
          }
        },
        {
          "output_type": "display_data",
          "data": {
            "application/vnd.jupyter.widget-view+json": {
              "model_id": "91acdd5a68db40f4b7f615e3e91de9dd",
              "version_minor": 0,
              "version_major": 2
            },
            "text/plain": [
              "HBox(children=(IntProgress(value=0, max=2061), HTML(value='')))"
            ]
          },
          "metadata": {
            "tags": []
          }
        },
        {
          "output_type": "stream",
          "text": [
            "tensor(48.9733, device='cuda:0', grad_fn=<MeanBackward0>)\n",
            "tensor(40.0233, device='cuda:0', grad_fn=<MeanBackward0>)\n",
            "tensor(inf, device='cuda:0', grad_fn=<MeanBackward0>)\n",
            "tensor(nan, device='cuda:0', grad_fn=<MeanBackward0>)\n",
            "NAN\n"
          ],
          "name": "stdout"
        },
        {
          "output_type": "error",
          "ename": "ValueError",
          "evalue": "ignored",
          "traceback": [
            "\u001b[0;31m---------------------------------------------------------------------------\u001b[0m",
            "\u001b[0;31mValueError\u001b[0m                                Traceback (most recent call last)",
            "\u001b[0;32m<ipython-input-157-ff0b6f02b048>\u001b[0m in \u001b[0;36m<module>\u001b[0;34m()\u001b[0m\n\u001b[1;32m      2\u001b[0m \u001b[0;31m# wandb_value = 'Method # 1 SVHN'\u001b[0m\u001b[0;34m\u001b[0m\u001b[0;34m\u001b[0m\u001b[0;34m\u001b[0m\u001b[0m\n\u001b[1;32m      3\u001b[0m \u001b[0mwandb_value\u001b[0m \u001b[0;34m=\u001b[0m \u001b[0;32mNone\u001b[0m\u001b[0;34m\u001b[0m\u001b[0;34m\u001b[0m\u001b[0m\n\u001b[0;32m----> 4\u001b[0;31m \u001b[0mtrain_svhn\u001b[0m\u001b[0;34m(\u001b[0m\u001b[0mmodel_svhn_1\u001b[0m\u001b[0;34m,\u001b[0m \u001b[0mVAELoss\u001b[0m\u001b[0;34m(\u001b[0m\u001b[0;34m)\u001b[0m\u001b[0;34m,\u001b[0m \u001b[0msvhn_dataset\u001b[0m\u001b[0;34m[\u001b[0m\u001b[0;34m'train'\u001b[0m\u001b[0;34m]\u001b[0m\u001b[0;34m,\u001b[0m \u001b[0msvhn_dataset\u001b[0m\u001b[0;34m[\u001b[0m\u001b[0;34m'valid'\u001b[0m\u001b[0;34m]\u001b[0m\u001b[0;34m,\u001b[0m \u001b[0mn_epochs\u001b[0m\u001b[0;34m=\u001b[0m\u001b[0;36m1\u001b[0m\u001b[0;34m,\u001b[0m \u001b[0mwandb_name\u001b[0m\u001b[0;34m=\u001b[0m\u001b[0mwandb_value\u001b[0m\u001b[0;34m)\u001b[0m\u001b[0;34m\u001b[0m\u001b[0;34m\u001b[0m\u001b[0m\n\u001b[0m",
            "\u001b[0;32m<ipython-input-156-b3fb3a893f48>\u001b[0m in \u001b[0;36mtrain_svhn\u001b[0;34m(model, criterion, data_train, data_val, n_epochs, wandb_name, batch_size)\u001b[0m\n\u001b[1;32m     26\u001b[0m           \u001b[0;32mif\u001b[0m \u001b[0mkl\u001b[0m\u001b[0;34m.\u001b[0m\u001b[0mitem\u001b[0m\u001b[0;34m(\u001b[0m\u001b[0;34m)\u001b[0m \u001b[0;34m!=\u001b[0m \u001b[0mkl\u001b[0m\u001b[0;34m.\u001b[0m\u001b[0mitem\u001b[0m\u001b[0;34m(\u001b[0m\u001b[0;34m)\u001b[0m\u001b[0;34m:\u001b[0m\u001b[0;34m\u001b[0m\u001b[0;34m\u001b[0m\u001b[0m\n\u001b[1;32m     27\u001b[0m             \u001b[0mprint\u001b[0m\u001b[0;34m(\u001b[0m\u001b[0;34m'NAN'\u001b[0m\u001b[0;34m)\u001b[0m\u001b[0;34m\u001b[0m\u001b[0;34m\u001b[0m\u001b[0m\n\u001b[0;32m---> 28\u001b[0;31m             \u001b[0;32mraise\u001b[0m \u001b[0mValueError\u001b[0m\u001b[0;34m(\u001b[0m\u001b[0;34m'NAN HAPPENED'\u001b[0m\u001b[0;34m)\u001b[0m\u001b[0;34m\u001b[0m\u001b[0;34m\u001b[0m\u001b[0m\n\u001b[0m\u001b[1;32m     29\u001b[0m \u001b[0;34m\u001b[0m\u001b[0m\n\u001b[1;32m     30\u001b[0m       \u001b[0;32mwith\u001b[0m \u001b[0mtorch\u001b[0m\u001b[0;34m.\u001b[0m\u001b[0mno_grad\u001b[0m\u001b[0;34m(\u001b[0m\u001b[0;34m)\u001b[0m\u001b[0;34m:\u001b[0m\u001b[0;34m\u001b[0m\u001b[0;34m\u001b[0m\u001b[0m\n",
            "\u001b[0;31mValueError\u001b[0m: NAN HAPPENED"
          ]
        }
      ]
    },
    {
      "cell_type": "code",
      "metadata": {
        "id": "QgHxMSuIa_r0",
        "colab_type": "code",
        "colab": {}
      },
      "source": [
        ""
      ],
      "execution_count": 0,
      "outputs": []
    }
  ]
}