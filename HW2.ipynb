{
  "nbformat": 4,
  "nbformat_minor": 0,
  "metadata": {
    "accelerator": "GPU",
    "colab": {
      "name": "HW2.ipynb",
      "provenance": [],
      "collapsed_sections": [],
      "include_colab_link": true
    },
    "kernelspec": {
      "display_name": "Python 3",
      "language": "python",
      "name": "python3"
    },
    "language_info": {
      "codemirror_mode": {
        "name": "ipython",
        "version": 3
      },
      "file_extension": ".py",
      "mimetype": "text/x-python",
      "name": "python",
      "nbconvert_exporter": "python",
      "pygments_lexer": "ipython3",
      "version": "3.7.4"
    },
    "widgets": {
      "application/vnd.jupyter.widget-state+json": {
        "4901555fa9204dd49bfbf2cfbb0413d6": {
          "model_module": "@jupyter-widgets/controls",
          "model_name": "HBoxModel",
          "state": {
            "_view_name": "HBoxView",
            "_dom_classes": [],
            "_model_name": "HBoxModel",
            "_view_module": "@jupyter-widgets/controls",
            "_model_module_version": "1.5.0",
            "_view_count": null,
            "_view_module_version": "1.5.0",
            "box_style": "",
            "layout": "IPY_MODEL_b46c41cbc6004586a2aa0500cbb8c5e3",
            "_model_module": "@jupyter-widgets/controls",
            "children": [
              "IPY_MODEL_929647fcf027497a82715c98e08c4d3a",
              "IPY_MODEL_c3035d7e24154e6997ac15e6c6c6c470"
            ]
          }
        },
        "b46c41cbc6004586a2aa0500cbb8c5e3": {
          "model_module": "@jupyter-widgets/base",
          "model_name": "LayoutModel",
          "state": {
            "_view_name": "LayoutView",
            "grid_template_rows": null,
            "right": null,
            "justify_content": null,
            "_view_module": "@jupyter-widgets/base",
            "overflow": null,
            "_model_module_version": "1.2.0",
            "_view_count": null,
            "flex_flow": null,
            "width": null,
            "min_width": null,
            "border": null,
            "align_items": null,
            "bottom": null,
            "_model_module": "@jupyter-widgets/base",
            "top": null,
            "grid_column": null,
            "overflow_y": null,
            "overflow_x": null,
            "grid_auto_flow": null,
            "grid_area": null,
            "grid_template_columns": null,
            "flex": null,
            "_model_name": "LayoutModel",
            "justify_items": null,
            "grid_row": null,
            "max_height": null,
            "align_content": null,
            "visibility": null,
            "align_self": null,
            "height": null,
            "min_height": null,
            "padding": null,
            "grid_auto_rows": null,
            "grid_gap": null,
            "max_width": null,
            "order": null,
            "_view_module_version": "1.2.0",
            "grid_template_areas": null,
            "object_position": null,
            "object_fit": null,
            "grid_auto_columns": null,
            "margin": null,
            "display": null,
            "left": null
          }
        },
        "929647fcf027497a82715c98e08c4d3a": {
          "model_module": "@jupyter-widgets/controls",
          "model_name": "IntProgressModel",
          "state": {
            "_view_name": "ProgressView",
            "style": "IPY_MODEL_18c51f56a11c49038df14d522430d240",
            "_dom_classes": [],
            "description": "",
            "_model_name": "IntProgressModel",
            "bar_style": "success",
            "max": 20,
            "_view_module": "@jupyter-widgets/controls",
            "_model_module_version": "1.5.0",
            "value": 20,
            "_view_count": null,
            "_view_module_version": "1.5.0",
            "orientation": "horizontal",
            "min": 0,
            "description_tooltip": null,
            "_model_module": "@jupyter-widgets/controls",
            "layout": "IPY_MODEL_e0cab5b7f72242b2b34f65b7e78f9800"
          }
        },
        "c3035d7e24154e6997ac15e6c6c6c470": {
          "model_module": "@jupyter-widgets/controls",
          "model_name": "HTMLModel",
          "state": {
            "_view_name": "HTMLView",
            "style": "IPY_MODEL_2c5270ff644b4ee18200ba8fd54265de",
            "_dom_classes": [],
            "description": "",
            "_model_name": "HTMLModel",
            "placeholder": "​",
            "_view_module": "@jupyter-widgets/controls",
            "_model_module_version": "1.5.0",
            "value": "100% 20/20 [01:54&lt;00:00,  5.72s/it]",
            "_view_count": null,
            "_view_module_version": "1.5.0",
            "description_tooltip": null,
            "_model_module": "@jupyter-widgets/controls",
            "layout": "IPY_MODEL_991900d9d0de4f6580c5b78e923288f0"
          }
        },
        "18c51f56a11c49038df14d522430d240": {
          "model_module": "@jupyter-widgets/controls",
          "model_name": "ProgressStyleModel",
          "state": {
            "_view_name": "StyleView",
            "_model_name": "ProgressStyleModel",
            "description_width": "",
            "_view_module": "@jupyter-widgets/base",
            "_model_module_version": "1.5.0",
            "_view_count": null,
            "_view_module_version": "1.2.0",
            "bar_color": null,
            "_model_module": "@jupyter-widgets/controls"
          }
        },
        "e0cab5b7f72242b2b34f65b7e78f9800": {
          "model_module": "@jupyter-widgets/base",
          "model_name": "LayoutModel",
          "state": {
            "_view_name": "LayoutView",
            "grid_template_rows": null,
            "right": null,
            "justify_content": null,
            "_view_module": "@jupyter-widgets/base",
            "overflow": null,
            "_model_module_version": "1.2.0",
            "_view_count": null,
            "flex_flow": null,
            "width": null,
            "min_width": null,
            "border": null,
            "align_items": null,
            "bottom": null,
            "_model_module": "@jupyter-widgets/base",
            "top": null,
            "grid_column": null,
            "overflow_y": null,
            "overflow_x": null,
            "grid_auto_flow": null,
            "grid_area": null,
            "grid_template_columns": null,
            "flex": null,
            "_model_name": "LayoutModel",
            "justify_items": null,
            "grid_row": null,
            "max_height": null,
            "align_content": null,
            "visibility": null,
            "align_self": null,
            "height": null,
            "min_height": null,
            "padding": null,
            "grid_auto_rows": null,
            "grid_gap": null,
            "max_width": null,
            "order": null,
            "_view_module_version": "1.2.0",
            "grid_template_areas": null,
            "object_position": null,
            "object_fit": null,
            "grid_auto_columns": null,
            "margin": null,
            "display": null,
            "left": null
          }
        },
        "2c5270ff644b4ee18200ba8fd54265de": {
          "model_module": "@jupyter-widgets/controls",
          "model_name": "DescriptionStyleModel",
          "state": {
            "_view_name": "StyleView",
            "_model_name": "DescriptionStyleModel",
            "description_width": "",
            "_view_module": "@jupyter-widgets/base",
            "_model_module_version": "1.5.0",
            "_view_count": null,
            "_view_module_version": "1.2.0",
            "_model_module": "@jupyter-widgets/controls"
          }
        },
        "991900d9d0de4f6580c5b78e923288f0": {
          "model_module": "@jupyter-widgets/base",
          "model_name": "LayoutModel",
          "state": {
            "_view_name": "LayoutView",
            "grid_template_rows": null,
            "right": null,
            "justify_content": null,
            "_view_module": "@jupyter-widgets/base",
            "overflow": null,
            "_model_module_version": "1.2.0",
            "_view_count": null,
            "flex_flow": null,
            "width": null,
            "min_width": null,
            "border": null,
            "align_items": null,
            "bottom": null,
            "_model_module": "@jupyter-widgets/base",
            "top": null,
            "grid_column": null,
            "overflow_y": null,
            "overflow_x": null,
            "grid_auto_flow": null,
            "grid_area": null,
            "grid_template_columns": null,
            "flex": null,
            "_model_name": "LayoutModel",
            "justify_items": null,
            "grid_row": null,
            "max_height": null,
            "align_content": null,
            "visibility": null,
            "align_self": null,
            "height": null,
            "min_height": null,
            "padding": null,
            "grid_auto_rows": null,
            "grid_gap": null,
            "max_width": null,
            "order": null,
            "_view_module_version": "1.2.0",
            "grid_template_areas": null,
            "object_position": null,
            "object_fit": null,
            "grid_auto_columns": null,
            "margin": null,
            "display": null,
            "left": null
          }
        },
        "550873870ec1414c927bf5a7a1604d38": {
          "model_module": "@jupyter-widgets/controls",
          "model_name": "HBoxModel",
          "state": {
            "_view_name": "HBoxView",
            "_dom_classes": [],
            "_model_name": "HBoxModel",
            "_view_module": "@jupyter-widgets/controls",
            "_model_module_version": "1.5.0",
            "_view_count": null,
            "_view_module_version": "1.5.0",
            "box_style": "",
            "layout": "IPY_MODEL_3012b9e00a5045bd9b9c66498f9970ef",
            "_model_module": "@jupyter-widgets/controls",
            "children": [
              "IPY_MODEL_22390d9479164e3985b1eeded1108edd",
              "IPY_MODEL_9ed47ed80ab947b5aab286b01a60a01a"
            ]
          }
        },
        "3012b9e00a5045bd9b9c66498f9970ef": {
          "model_module": "@jupyter-widgets/base",
          "model_name": "LayoutModel",
          "state": {
            "_view_name": "LayoutView",
            "grid_template_rows": null,
            "right": null,
            "justify_content": null,
            "_view_module": "@jupyter-widgets/base",
            "overflow": null,
            "_model_module_version": "1.2.0",
            "_view_count": null,
            "flex_flow": null,
            "width": null,
            "min_width": null,
            "border": null,
            "align_items": null,
            "bottom": null,
            "_model_module": "@jupyter-widgets/base",
            "top": null,
            "grid_column": null,
            "overflow_y": null,
            "overflow_x": null,
            "grid_auto_flow": null,
            "grid_area": null,
            "grid_template_columns": null,
            "flex": null,
            "_model_name": "LayoutModel",
            "justify_items": null,
            "grid_row": null,
            "max_height": null,
            "align_content": null,
            "visibility": null,
            "align_self": null,
            "height": null,
            "min_height": null,
            "padding": null,
            "grid_auto_rows": null,
            "grid_gap": null,
            "max_width": null,
            "order": null,
            "_view_module_version": "1.2.0",
            "grid_template_areas": null,
            "object_position": null,
            "object_fit": null,
            "grid_auto_columns": null,
            "margin": null,
            "display": null,
            "left": null
          }
        },
        "22390d9479164e3985b1eeded1108edd": {
          "model_module": "@jupyter-widgets/controls",
          "model_name": "IntProgressModel",
          "state": {
            "_view_name": "ProgressView",
            "style": "IPY_MODEL_76faadcb7a6d4be1800e9f6b69d03ff8",
            "_dom_classes": [],
            "description": "",
            "_model_name": "IntProgressModel",
            "bar_style": "success",
            "max": 800,
            "_view_module": "@jupyter-widgets/controls",
            "_model_module_version": "1.5.0",
            "value": 800,
            "_view_count": null,
            "_view_module_version": "1.5.0",
            "orientation": "horizontal",
            "min": 0,
            "description_tooltip": null,
            "_model_module": "@jupyter-widgets/controls",
            "layout": "IPY_MODEL_67f9959eb25b46ba992a192b5664dea3"
          }
        },
        "9ed47ed80ab947b5aab286b01a60a01a": {
          "model_module": "@jupyter-widgets/controls",
          "model_name": "HTMLModel",
          "state": {
            "_view_name": "HTMLView",
            "style": "IPY_MODEL_2d00f70085894da4b85b60203b05fe73",
            "_dom_classes": [],
            "description": "",
            "_model_name": "HTMLModel",
            "placeholder": "​",
            "_view_module": "@jupyter-widgets/controls",
            "_model_module_version": "1.5.0",
            "value": "100% 800/800 [01:10&lt;00:00, 11.42it/s]",
            "_view_count": null,
            "_view_module_version": "1.5.0",
            "description_tooltip": null,
            "_model_module": "@jupyter-widgets/controls",
            "layout": "IPY_MODEL_81777e9cb2fc46b5a0eb4e7981915e0a"
          }
        },
        "76faadcb7a6d4be1800e9f6b69d03ff8": {
          "model_module": "@jupyter-widgets/controls",
          "model_name": "ProgressStyleModel",
          "state": {
            "_view_name": "StyleView",
            "_model_name": "ProgressStyleModel",
            "description_width": "",
            "_view_module": "@jupyter-widgets/base",
            "_model_module_version": "1.5.0",
            "_view_count": null,
            "_view_module_version": "1.2.0",
            "bar_color": null,
            "_model_module": "@jupyter-widgets/controls"
          }
        },
        "67f9959eb25b46ba992a192b5664dea3": {
          "model_module": "@jupyter-widgets/base",
          "model_name": "LayoutModel",
          "state": {
            "_view_name": "LayoutView",
            "grid_template_rows": null,
            "right": null,
            "justify_content": null,
            "_view_module": "@jupyter-widgets/base",
            "overflow": null,
            "_model_module_version": "1.2.0",
            "_view_count": null,
            "flex_flow": null,
            "width": null,
            "min_width": null,
            "border": null,
            "align_items": null,
            "bottom": null,
            "_model_module": "@jupyter-widgets/base",
            "top": null,
            "grid_column": null,
            "overflow_y": null,
            "overflow_x": null,
            "grid_auto_flow": null,
            "grid_area": null,
            "grid_template_columns": null,
            "flex": null,
            "_model_name": "LayoutModel",
            "justify_items": null,
            "grid_row": null,
            "max_height": null,
            "align_content": null,
            "visibility": null,
            "align_self": null,
            "height": null,
            "min_height": null,
            "padding": null,
            "grid_auto_rows": null,
            "grid_gap": null,
            "max_width": null,
            "order": null,
            "_view_module_version": "1.2.0",
            "grid_template_areas": null,
            "object_position": null,
            "object_fit": null,
            "grid_auto_columns": null,
            "margin": null,
            "display": null,
            "left": null
          }
        },
        "2d00f70085894da4b85b60203b05fe73": {
          "model_module": "@jupyter-widgets/controls",
          "model_name": "DescriptionStyleModel",
          "state": {
            "_view_name": "StyleView",
            "_model_name": "DescriptionStyleModel",
            "description_width": "",
            "_view_module": "@jupyter-widgets/base",
            "_model_module_version": "1.5.0",
            "_view_count": null,
            "_view_module_version": "1.2.0",
            "_model_module": "@jupyter-widgets/controls"
          }
        },
        "81777e9cb2fc46b5a0eb4e7981915e0a": {
          "model_module": "@jupyter-widgets/base",
          "model_name": "LayoutModel",
          "state": {
            "_view_name": "LayoutView",
            "grid_template_rows": null,
            "right": null,
            "justify_content": null,
            "_view_module": "@jupyter-widgets/base",
            "overflow": null,
            "_model_module_version": "1.2.0",
            "_view_count": null,
            "flex_flow": null,
            "width": null,
            "min_width": null,
            "border": null,
            "align_items": null,
            "bottom": null,
            "_model_module": "@jupyter-widgets/base",
            "top": null,
            "grid_column": null,
            "overflow_y": null,
            "overflow_x": null,
            "grid_auto_flow": null,
            "grid_area": null,
            "grid_template_columns": null,
            "flex": null,
            "_model_name": "LayoutModel",
            "justify_items": null,
            "grid_row": null,
            "max_height": null,
            "align_content": null,
            "visibility": null,
            "align_self": null,
            "height": null,
            "min_height": null,
            "padding": null,
            "grid_auto_rows": null,
            "grid_gap": null,
            "max_width": null,
            "order": null,
            "_view_module_version": "1.2.0",
            "grid_template_areas": null,
            "object_position": null,
            "object_fit": null,
            "grid_auto_columns": null,
            "margin": null,
            "display": null,
            "left": null
          }
        },
        "f93d4a4ebcc84da78e16c4a05ce7e2bd": {
          "model_module": "@jupyter-widgets/controls",
          "model_name": "HBoxModel",
          "state": {
            "_view_name": "HBoxView",
            "_dom_classes": [],
            "_model_name": "HBoxModel",
            "_view_module": "@jupyter-widgets/controls",
            "_model_module_version": "1.5.0",
            "_view_count": null,
            "_view_module_version": "1.5.0",
            "box_style": "",
            "layout": "IPY_MODEL_c9a6870f317241669eef990de09bc394",
            "_model_module": "@jupyter-widgets/controls",
            "children": [
              "IPY_MODEL_222ea468342248abab6d70f1acb9be9e",
              "IPY_MODEL_628599eda4594d10a29f438927898486"
            ]
          }
        },
        "c9a6870f317241669eef990de09bc394": {
          "model_module": "@jupyter-widgets/base",
          "model_name": "LayoutModel",
          "state": {
            "_view_name": "LayoutView",
            "grid_template_rows": null,
            "right": null,
            "justify_content": null,
            "_view_module": "@jupyter-widgets/base",
            "overflow": null,
            "_model_module_version": "1.2.0",
            "_view_count": null,
            "flex_flow": null,
            "width": null,
            "min_width": null,
            "border": null,
            "align_items": null,
            "bottom": null,
            "_model_module": "@jupyter-widgets/base",
            "top": null,
            "grid_column": null,
            "overflow_y": null,
            "overflow_x": null,
            "grid_auto_flow": null,
            "grid_area": null,
            "grid_template_columns": null,
            "flex": null,
            "_model_name": "LayoutModel",
            "justify_items": null,
            "grid_row": null,
            "max_height": null,
            "align_content": null,
            "visibility": null,
            "align_self": null,
            "height": null,
            "min_height": null,
            "padding": null,
            "grid_auto_rows": null,
            "grid_gap": null,
            "max_width": null,
            "order": null,
            "_view_module_version": "1.2.0",
            "grid_template_areas": null,
            "object_position": null,
            "object_fit": null,
            "grid_auto_columns": null,
            "margin": null,
            "display": null,
            "left": null
          }
        },
        "222ea468342248abab6d70f1acb9be9e": {
          "model_module": "@jupyter-widgets/controls",
          "model_name": "IntProgressModel",
          "state": {
            "_view_name": "ProgressView",
            "style": "IPY_MODEL_f162243ec18a451093227474d001a31b",
            "_dom_classes": [],
            "description": "",
            "_model_name": "IntProgressModel",
            "bar_style": "success",
            "max": 20000,
            "_view_module": "@jupyter-widgets/controls",
            "_model_module_version": "1.5.0",
            "value": 20000,
            "_view_count": null,
            "_view_module_version": "1.5.0",
            "orientation": "horizontal",
            "min": 0,
            "description_tooltip": null,
            "_model_module": "@jupyter-widgets/controls",
            "layout": "IPY_MODEL_af8562bbf2aa4b5f9d3b672dc82ce4f5"
          }
        },
        "628599eda4594d10a29f438927898486": {
          "model_module": "@jupyter-widgets/controls",
          "model_name": "HTMLModel",
          "state": {
            "_view_name": "HTMLView",
            "style": "IPY_MODEL_80201c60803b4a3cafc51ea46c2ab344",
            "_dom_classes": [],
            "description": "",
            "_model_name": "HTMLModel",
            "placeholder": "​",
            "_view_module": "@jupyter-widgets/controls",
            "_model_module_version": "1.5.0",
            "value": "100% 20000/20000 [02:53&lt;00:00, 115.40it/s]",
            "_view_count": null,
            "_view_module_version": "1.5.0",
            "description_tooltip": null,
            "_model_module": "@jupyter-widgets/controls",
            "layout": "IPY_MODEL_1b08d6d69d124ad28bf9690f28f5265b"
          }
        },
        "f162243ec18a451093227474d001a31b": {
          "model_module": "@jupyter-widgets/controls",
          "model_name": "ProgressStyleModel",
          "state": {
            "_view_name": "StyleView",
            "_model_name": "ProgressStyleModel",
            "description_width": "",
            "_view_module": "@jupyter-widgets/base",
            "_model_module_version": "1.5.0",
            "_view_count": null,
            "_view_module_version": "1.2.0",
            "bar_color": null,
            "_model_module": "@jupyter-widgets/controls"
          }
        },
        "af8562bbf2aa4b5f9d3b672dc82ce4f5": {
          "model_module": "@jupyter-widgets/base",
          "model_name": "LayoutModel",
          "state": {
            "_view_name": "LayoutView",
            "grid_template_rows": null,
            "right": null,
            "justify_content": null,
            "_view_module": "@jupyter-widgets/base",
            "overflow": null,
            "_model_module_version": "1.2.0",
            "_view_count": null,
            "flex_flow": null,
            "width": null,
            "min_width": null,
            "border": null,
            "align_items": null,
            "bottom": null,
            "_model_module": "@jupyter-widgets/base",
            "top": null,
            "grid_column": null,
            "overflow_y": null,
            "overflow_x": null,
            "grid_auto_flow": null,
            "grid_area": null,
            "grid_template_columns": null,
            "flex": null,
            "_model_name": "LayoutModel",
            "justify_items": null,
            "grid_row": null,
            "max_height": null,
            "align_content": null,
            "visibility": null,
            "align_self": null,
            "height": null,
            "min_height": null,
            "padding": null,
            "grid_auto_rows": null,
            "grid_gap": null,
            "max_width": null,
            "order": null,
            "_view_module_version": "1.2.0",
            "grid_template_areas": null,
            "object_position": null,
            "object_fit": null,
            "grid_auto_columns": null,
            "margin": null,
            "display": null,
            "left": null
          }
        },
        "80201c60803b4a3cafc51ea46c2ab344": {
          "model_module": "@jupyter-widgets/controls",
          "model_name": "DescriptionStyleModel",
          "state": {
            "_view_name": "StyleView",
            "_model_name": "DescriptionStyleModel",
            "description_width": "",
            "_view_module": "@jupyter-widgets/base",
            "_model_module_version": "1.5.0",
            "_view_count": null,
            "_view_module_version": "1.2.0",
            "_model_module": "@jupyter-widgets/controls"
          }
        },
        "1b08d6d69d124ad28bf9690f28f5265b": {
          "model_module": "@jupyter-widgets/base",
          "model_name": "LayoutModel",
          "state": {
            "_view_name": "LayoutView",
            "grid_template_rows": null,
            "right": null,
            "justify_content": null,
            "_view_module": "@jupyter-widgets/base",
            "overflow": null,
            "_model_module_version": "1.2.0",
            "_view_count": null,
            "flex_flow": null,
            "width": null,
            "min_width": null,
            "border": null,
            "align_items": null,
            "bottom": null,
            "_model_module": "@jupyter-widgets/base",
            "top": null,
            "grid_column": null,
            "overflow_y": null,
            "overflow_x": null,
            "grid_auto_flow": null,
            "grid_area": null,
            "grid_template_columns": null,
            "flex": null,
            "_model_name": "LayoutModel",
            "justify_items": null,
            "grid_row": null,
            "max_height": null,
            "align_content": null,
            "visibility": null,
            "align_self": null,
            "height": null,
            "min_height": null,
            "padding": null,
            "grid_auto_rows": null,
            "grid_gap": null,
            "max_width": null,
            "order": null,
            "_view_module_version": "1.2.0",
            "grid_template_areas": null,
            "object_position": null,
            "object_fit": null,
            "grid_auto_columns": null,
            "margin": null,
            "display": null,
            "left": null
          }
        },
        "8581e99bed93466e929a1b554b217a41": {
          "model_module": "@jupyter-widgets/controls",
          "model_name": "HBoxModel",
          "state": {
            "_view_name": "HBoxView",
            "_dom_classes": [],
            "_model_name": "HBoxModel",
            "_view_module": "@jupyter-widgets/controls",
            "_model_module_version": "1.5.0",
            "_view_count": null,
            "_view_module_version": "1.5.0",
            "box_style": "",
            "layout": "IPY_MODEL_e515703925c9410e87df283900964863",
            "_model_module": "@jupyter-widgets/controls",
            "children": [
              "IPY_MODEL_aff200b1059c4396bd0702412c2db435",
              "IPY_MODEL_04ae633501454a04bae5c72411a5d982"
            ]
          }
        },
        "e515703925c9410e87df283900964863": {
          "model_module": "@jupyter-widgets/base",
          "model_name": "LayoutModel",
          "state": {
            "_view_name": "LayoutView",
            "grid_template_rows": null,
            "right": null,
            "justify_content": null,
            "_view_module": "@jupyter-widgets/base",
            "overflow": null,
            "_model_module_version": "1.2.0",
            "_view_count": null,
            "flex_flow": null,
            "width": null,
            "min_width": null,
            "border": null,
            "align_items": null,
            "bottom": null,
            "_model_module": "@jupyter-widgets/base",
            "top": null,
            "grid_column": null,
            "overflow_y": null,
            "overflow_x": null,
            "grid_auto_flow": null,
            "grid_area": null,
            "grid_template_columns": null,
            "flex": null,
            "_model_name": "LayoutModel",
            "justify_items": null,
            "grid_row": null,
            "max_height": null,
            "align_content": null,
            "visibility": null,
            "align_self": null,
            "height": null,
            "min_height": null,
            "padding": null,
            "grid_auto_rows": null,
            "grid_gap": null,
            "max_width": null,
            "order": null,
            "_view_module_version": "1.2.0",
            "grid_template_areas": null,
            "object_position": null,
            "object_fit": null,
            "grid_auto_columns": null,
            "margin": null,
            "display": null,
            "left": null
          }
        },
        "aff200b1059c4396bd0702412c2db435": {
          "model_module": "@jupyter-widgets/controls",
          "model_name": "IntProgressModel",
          "state": {
            "_view_name": "ProgressView",
            "style": "IPY_MODEL_79ee438828b44630868ceffcac312003",
            "_dom_classes": [],
            "description": "",
            "_model_name": "IntProgressModel",
            "bar_style": "success",
            "max": 10,
            "_view_module": "@jupyter-widgets/controls",
            "_model_module_version": "1.5.0",
            "value": 10,
            "_view_count": null,
            "_view_module_version": "1.5.0",
            "orientation": "horizontal",
            "min": 0,
            "description_tooltip": null,
            "_model_module": "@jupyter-widgets/controls",
            "layout": "IPY_MODEL_ce6d4e220e704ccb8b12016e960e05ac"
          }
        },
        "04ae633501454a04bae5c72411a5d982": {
          "model_module": "@jupyter-widgets/controls",
          "model_name": "HTMLModel",
          "state": {
            "_view_name": "HTMLView",
            "style": "IPY_MODEL_39a8a4109fd140cbb87f42fc71872c32",
            "_dom_classes": [],
            "description": "",
            "_model_name": "HTMLModel",
            "placeholder": "​",
            "_view_module": "@jupyter-widgets/controls",
            "_model_module_version": "1.5.0",
            "value": "100% 10/10 [02:05&lt;00:00, 12.58s/it]",
            "_view_count": null,
            "_view_module_version": "1.5.0",
            "description_tooltip": null,
            "_model_module": "@jupyter-widgets/controls",
            "layout": "IPY_MODEL_160ba4c67a1446dbbcb96d9069665868"
          }
        },
        "79ee438828b44630868ceffcac312003": {
          "model_module": "@jupyter-widgets/controls",
          "model_name": "ProgressStyleModel",
          "state": {
            "_view_name": "StyleView",
            "_model_name": "ProgressStyleModel",
            "description_width": "",
            "_view_module": "@jupyter-widgets/base",
            "_model_module_version": "1.5.0",
            "_view_count": null,
            "_view_module_version": "1.2.0",
            "bar_color": null,
            "_model_module": "@jupyter-widgets/controls"
          }
        },
        "ce6d4e220e704ccb8b12016e960e05ac": {
          "model_module": "@jupyter-widgets/base",
          "model_name": "LayoutModel",
          "state": {
            "_view_name": "LayoutView",
            "grid_template_rows": null,
            "right": null,
            "justify_content": null,
            "_view_module": "@jupyter-widgets/base",
            "overflow": null,
            "_model_module_version": "1.2.0",
            "_view_count": null,
            "flex_flow": null,
            "width": null,
            "min_width": null,
            "border": null,
            "align_items": null,
            "bottom": null,
            "_model_module": "@jupyter-widgets/base",
            "top": null,
            "grid_column": null,
            "overflow_y": null,
            "overflow_x": null,
            "grid_auto_flow": null,
            "grid_area": null,
            "grid_template_columns": null,
            "flex": null,
            "_model_name": "LayoutModel",
            "justify_items": null,
            "grid_row": null,
            "max_height": null,
            "align_content": null,
            "visibility": null,
            "align_self": null,
            "height": null,
            "min_height": null,
            "padding": null,
            "grid_auto_rows": null,
            "grid_gap": null,
            "max_width": null,
            "order": null,
            "_view_module_version": "1.2.0",
            "grid_template_areas": null,
            "object_position": null,
            "object_fit": null,
            "grid_auto_columns": null,
            "margin": null,
            "display": null,
            "left": null
          }
        },
        "39a8a4109fd140cbb87f42fc71872c32": {
          "model_module": "@jupyter-widgets/controls",
          "model_name": "DescriptionStyleModel",
          "state": {
            "_view_name": "StyleView",
            "_model_name": "DescriptionStyleModel",
            "description_width": "",
            "_view_module": "@jupyter-widgets/base",
            "_model_module_version": "1.5.0",
            "_view_count": null,
            "_view_module_version": "1.2.0",
            "_model_module": "@jupyter-widgets/controls"
          }
        },
        "160ba4c67a1446dbbcb96d9069665868": {
          "model_module": "@jupyter-widgets/base",
          "model_name": "LayoutModel",
          "state": {
            "_view_name": "LayoutView",
            "grid_template_rows": null,
            "right": null,
            "justify_content": null,
            "_view_module": "@jupyter-widgets/base",
            "overflow": null,
            "_model_module_version": "1.2.0",
            "_view_count": null,
            "flex_flow": null,
            "width": null,
            "min_width": null,
            "border": null,
            "align_items": null,
            "bottom": null,
            "_model_module": "@jupyter-widgets/base",
            "top": null,
            "grid_column": null,
            "overflow_y": null,
            "overflow_x": null,
            "grid_auto_flow": null,
            "grid_area": null,
            "grid_template_columns": null,
            "flex": null,
            "_model_name": "LayoutModel",
            "justify_items": null,
            "grid_row": null,
            "max_height": null,
            "align_content": null,
            "visibility": null,
            "align_self": null,
            "height": null,
            "min_height": null,
            "padding": null,
            "grid_auto_rows": null,
            "grid_gap": null,
            "max_width": null,
            "order": null,
            "_view_module_version": "1.2.0",
            "grid_template_areas": null,
            "object_position": null,
            "object_fit": null,
            "grid_auto_columns": null,
            "margin": null,
            "display": null,
            "left": null
          }
        },
        "c4042126c5b44e289aafd553cec3589f": {
          "model_module": "@jupyter-widgets/controls",
          "model_name": "HBoxModel",
          "state": {
            "_view_name": "HBoxView",
            "_dom_classes": [],
            "_model_name": "HBoxModel",
            "_view_module": "@jupyter-widgets/controls",
            "_model_module_version": "1.5.0",
            "_view_count": null,
            "_view_module_version": "1.5.0",
            "box_style": "",
            "layout": "IPY_MODEL_8a8e2b214f8c4ac29d9afb33852e36e6",
            "_model_module": "@jupyter-widgets/controls",
            "children": [
              "IPY_MODEL_f9998571e6524f7b87cc5947be320535",
              "IPY_MODEL_b94205fe87ce4091bbd02f6606208c9b"
            ]
          }
        },
        "8a8e2b214f8c4ac29d9afb33852e36e6": {
          "model_module": "@jupyter-widgets/base",
          "model_name": "LayoutModel",
          "state": {
            "_view_name": "LayoutView",
            "grid_template_rows": null,
            "right": null,
            "justify_content": null,
            "_view_module": "@jupyter-widgets/base",
            "overflow": null,
            "_model_module_version": "1.2.0",
            "_view_count": null,
            "flex_flow": null,
            "width": null,
            "min_width": null,
            "border": null,
            "align_items": null,
            "bottom": null,
            "_model_module": "@jupyter-widgets/base",
            "top": null,
            "grid_column": null,
            "overflow_y": null,
            "overflow_x": null,
            "grid_auto_flow": null,
            "grid_area": null,
            "grid_template_columns": null,
            "flex": null,
            "_model_name": "LayoutModel",
            "justify_items": null,
            "grid_row": null,
            "max_height": null,
            "align_content": null,
            "visibility": null,
            "align_self": null,
            "height": null,
            "min_height": null,
            "padding": null,
            "grid_auto_rows": null,
            "grid_gap": null,
            "max_width": null,
            "order": null,
            "_view_module_version": "1.2.0",
            "grid_template_areas": null,
            "object_position": null,
            "object_fit": null,
            "grid_auto_columns": null,
            "margin": null,
            "display": null,
            "left": null
          }
        },
        "f9998571e6524f7b87cc5947be320535": {
          "model_module": "@jupyter-widgets/controls",
          "model_name": "IntProgressModel",
          "state": {
            "_view_name": "ProgressView",
            "style": "IPY_MODEL_651f493aba23477f94c6621526e55a98",
            "_dom_classes": [],
            "description": "",
            "_model_name": "IntProgressModel",
            "bar_style": "success",
            "max": 800,
            "_view_module": "@jupyter-widgets/controls",
            "_model_module_version": "1.5.0",
            "value": 800,
            "_view_count": null,
            "_view_module_version": "1.5.0",
            "orientation": "horizontal",
            "min": 0,
            "description_tooltip": null,
            "_model_module": "@jupyter-widgets/controls",
            "layout": "IPY_MODEL_2f886727bd3c4c0faf272c16ba3e7522"
          }
        },
        "b94205fe87ce4091bbd02f6606208c9b": {
          "model_module": "@jupyter-widgets/controls",
          "model_name": "HTMLModel",
          "state": {
            "_view_name": "HTMLView",
            "style": "IPY_MODEL_89985e1c11044be8931b4dda4b24e0d2",
            "_dom_classes": [],
            "description": "",
            "_model_name": "HTMLModel",
            "placeholder": "​",
            "_view_module": "@jupyter-widgets/controls",
            "_model_module_version": "1.5.0",
            "value": "100% 800/800 [01:12&lt;00:00, 10.47it/s]",
            "_view_count": null,
            "_view_module_version": "1.5.0",
            "description_tooltip": null,
            "_model_module": "@jupyter-widgets/controls",
            "layout": "IPY_MODEL_7105d5ecb946477496695f261a30db48"
          }
        },
        "651f493aba23477f94c6621526e55a98": {
          "model_module": "@jupyter-widgets/controls",
          "model_name": "ProgressStyleModel",
          "state": {
            "_view_name": "StyleView",
            "_model_name": "ProgressStyleModel",
            "description_width": "",
            "_view_module": "@jupyter-widgets/base",
            "_model_module_version": "1.5.0",
            "_view_count": null,
            "_view_module_version": "1.2.0",
            "bar_color": null,
            "_model_module": "@jupyter-widgets/controls"
          }
        },
        "2f886727bd3c4c0faf272c16ba3e7522": {
          "model_module": "@jupyter-widgets/base",
          "model_name": "LayoutModel",
          "state": {
            "_view_name": "LayoutView",
            "grid_template_rows": null,
            "right": null,
            "justify_content": null,
            "_view_module": "@jupyter-widgets/base",
            "overflow": null,
            "_model_module_version": "1.2.0",
            "_view_count": null,
            "flex_flow": null,
            "width": null,
            "min_width": null,
            "border": null,
            "align_items": null,
            "bottom": null,
            "_model_module": "@jupyter-widgets/base",
            "top": null,
            "grid_column": null,
            "overflow_y": null,
            "overflow_x": null,
            "grid_auto_flow": null,
            "grid_area": null,
            "grid_template_columns": null,
            "flex": null,
            "_model_name": "LayoutModel",
            "justify_items": null,
            "grid_row": null,
            "max_height": null,
            "align_content": null,
            "visibility": null,
            "align_self": null,
            "height": null,
            "min_height": null,
            "padding": null,
            "grid_auto_rows": null,
            "grid_gap": null,
            "max_width": null,
            "order": null,
            "_view_module_version": "1.2.0",
            "grid_template_areas": null,
            "object_position": null,
            "object_fit": null,
            "grid_auto_columns": null,
            "margin": null,
            "display": null,
            "left": null
          }
        },
        "89985e1c11044be8931b4dda4b24e0d2": {
          "model_module": "@jupyter-widgets/controls",
          "model_name": "DescriptionStyleModel",
          "state": {
            "_view_name": "StyleView",
            "_model_name": "DescriptionStyleModel",
            "description_width": "",
            "_view_module": "@jupyter-widgets/base",
            "_model_module_version": "1.5.0",
            "_view_count": null,
            "_view_module_version": "1.2.0",
            "_model_module": "@jupyter-widgets/controls"
          }
        },
        "7105d5ecb946477496695f261a30db48": {
          "model_module": "@jupyter-widgets/base",
          "model_name": "LayoutModel",
          "state": {
            "_view_name": "LayoutView",
            "grid_template_rows": null,
            "right": null,
            "justify_content": null,
            "_view_module": "@jupyter-widgets/base",
            "overflow": null,
            "_model_module_version": "1.2.0",
            "_view_count": null,
            "flex_flow": null,
            "width": null,
            "min_width": null,
            "border": null,
            "align_items": null,
            "bottom": null,
            "_model_module": "@jupyter-widgets/base",
            "top": null,
            "grid_column": null,
            "overflow_y": null,
            "overflow_x": null,
            "grid_auto_flow": null,
            "grid_area": null,
            "grid_template_columns": null,
            "flex": null,
            "_model_name": "LayoutModel",
            "justify_items": null,
            "grid_row": null,
            "max_height": null,
            "align_content": null,
            "visibility": null,
            "align_self": null,
            "height": null,
            "min_height": null,
            "padding": null,
            "grid_auto_rows": null,
            "grid_gap": null,
            "max_width": null,
            "order": null,
            "_view_module_version": "1.2.0",
            "grid_template_areas": null,
            "object_position": null,
            "object_fit": null,
            "grid_auto_columns": null,
            "margin": null,
            "display": null,
            "left": null
          }
        },
        "e4a0dcc1cc8f4a97bc7c8c2bbaf2599c": {
          "model_module": "@jupyter-widgets/controls",
          "model_name": "HBoxModel",
          "state": {
            "_view_name": "HBoxView",
            "_dom_classes": [],
            "_model_name": "HBoxModel",
            "_view_module": "@jupyter-widgets/controls",
            "_model_module_version": "1.5.0",
            "_view_count": null,
            "_view_module_version": "1.5.0",
            "box_style": "",
            "layout": "IPY_MODEL_74ffe15134284af9b96108e61e941eeb",
            "_model_module": "@jupyter-widgets/controls",
            "children": [
              "IPY_MODEL_0cefdcf2818b48979ce1222ebc0aee26",
              "IPY_MODEL_a6c0d69369cf42eab85d3048124bb01e"
            ]
          }
        },
        "74ffe15134284af9b96108e61e941eeb": {
          "model_module": "@jupyter-widgets/base",
          "model_name": "LayoutModel",
          "state": {
            "_view_name": "LayoutView",
            "grid_template_rows": null,
            "right": null,
            "justify_content": null,
            "_view_module": "@jupyter-widgets/base",
            "overflow": null,
            "_model_module_version": "1.2.0",
            "_view_count": null,
            "flex_flow": null,
            "width": null,
            "min_width": null,
            "border": null,
            "align_items": null,
            "bottom": null,
            "_model_module": "@jupyter-widgets/base",
            "top": null,
            "grid_column": null,
            "overflow_y": null,
            "overflow_x": null,
            "grid_auto_flow": null,
            "grid_area": null,
            "grid_template_columns": null,
            "flex": null,
            "_model_name": "LayoutModel",
            "justify_items": null,
            "grid_row": null,
            "max_height": null,
            "align_content": null,
            "visibility": null,
            "align_self": null,
            "height": null,
            "min_height": null,
            "padding": null,
            "grid_auto_rows": null,
            "grid_gap": null,
            "max_width": null,
            "order": null,
            "_view_module_version": "1.2.0",
            "grid_template_areas": null,
            "object_position": null,
            "object_fit": null,
            "grid_auto_columns": null,
            "margin": null,
            "display": null,
            "left": null
          }
        },
        "0cefdcf2818b48979ce1222ebc0aee26": {
          "model_module": "@jupyter-widgets/controls",
          "model_name": "IntProgressModel",
          "state": {
            "_view_name": "ProgressView",
            "style": "IPY_MODEL_1dfcb32f4a574a4eb5b8e065c3a7458e",
            "_dom_classes": [],
            "description": "",
            "_model_name": "IntProgressModel",
            "bar_style": "success",
            "max": 20000,
            "_view_module": "@jupyter-widgets/controls",
            "_model_module_version": "1.5.0",
            "value": 20000,
            "_view_count": null,
            "_view_module_version": "1.5.0",
            "orientation": "horizontal",
            "min": 0,
            "description_tooltip": null,
            "_model_module": "@jupyter-widgets/controls",
            "layout": "IPY_MODEL_9f510773da4847be9c51050edeeb8fc3"
          }
        },
        "a6c0d69369cf42eab85d3048124bb01e": {
          "model_module": "@jupyter-widgets/controls",
          "model_name": "HTMLModel",
          "state": {
            "_view_name": "HTMLView",
            "style": "IPY_MODEL_bf2ac0003beb452faf74d2d1b6c47c47",
            "_dom_classes": [],
            "description": "",
            "_model_name": "HTMLModel",
            "placeholder": "​",
            "_view_module": "@jupyter-widgets/controls",
            "_model_module_version": "1.5.0",
            "value": "100% 20000/20000 [03:44&lt;00:00, 88.99it/s]",
            "_view_count": null,
            "_view_module_version": "1.5.0",
            "description_tooltip": null,
            "_model_module": "@jupyter-widgets/controls",
            "layout": "IPY_MODEL_b74f21a1f87c44d496e52694ab934d5e"
          }
        },
        "1dfcb32f4a574a4eb5b8e065c3a7458e": {
          "model_module": "@jupyter-widgets/controls",
          "model_name": "ProgressStyleModel",
          "state": {
            "_view_name": "StyleView",
            "_model_name": "ProgressStyleModel",
            "description_width": "",
            "_view_module": "@jupyter-widgets/base",
            "_model_module_version": "1.5.0",
            "_view_count": null,
            "_view_module_version": "1.2.0",
            "bar_color": null,
            "_model_module": "@jupyter-widgets/controls"
          }
        },
        "9f510773da4847be9c51050edeeb8fc3": {
          "model_module": "@jupyter-widgets/base",
          "model_name": "LayoutModel",
          "state": {
            "_view_name": "LayoutView",
            "grid_template_rows": null,
            "right": null,
            "justify_content": null,
            "_view_module": "@jupyter-widgets/base",
            "overflow": null,
            "_model_module_version": "1.2.0",
            "_view_count": null,
            "flex_flow": null,
            "width": null,
            "min_width": null,
            "border": null,
            "align_items": null,
            "bottom": null,
            "_model_module": "@jupyter-widgets/base",
            "top": null,
            "grid_column": null,
            "overflow_y": null,
            "overflow_x": null,
            "grid_auto_flow": null,
            "grid_area": null,
            "grid_template_columns": null,
            "flex": null,
            "_model_name": "LayoutModel",
            "justify_items": null,
            "grid_row": null,
            "max_height": null,
            "align_content": null,
            "visibility": null,
            "align_self": null,
            "height": null,
            "min_height": null,
            "padding": null,
            "grid_auto_rows": null,
            "grid_gap": null,
            "max_width": null,
            "order": null,
            "_view_module_version": "1.2.0",
            "grid_template_areas": null,
            "object_position": null,
            "object_fit": null,
            "grid_auto_columns": null,
            "margin": null,
            "display": null,
            "left": null
          }
        },
        "bf2ac0003beb452faf74d2d1b6c47c47": {
          "model_module": "@jupyter-widgets/controls",
          "model_name": "DescriptionStyleModel",
          "state": {
            "_view_name": "StyleView",
            "_model_name": "DescriptionStyleModel",
            "description_width": "",
            "_view_module": "@jupyter-widgets/base",
            "_model_module_version": "1.5.0",
            "_view_count": null,
            "_view_module_version": "1.2.0",
            "_model_module": "@jupyter-widgets/controls"
          }
        },
        "b74f21a1f87c44d496e52694ab934d5e": {
          "model_module": "@jupyter-widgets/base",
          "model_name": "LayoutModel",
          "state": {
            "_view_name": "LayoutView",
            "grid_template_rows": null,
            "right": null,
            "justify_content": null,
            "_view_module": "@jupyter-widgets/base",
            "overflow": null,
            "_model_module_version": "1.2.0",
            "_view_count": null,
            "flex_flow": null,
            "width": null,
            "min_width": null,
            "border": null,
            "align_items": null,
            "bottom": null,
            "_model_module": "@jupyter-widgets/base",
            "top": null,
            "grid_column": null,
            "overflow_y": null,
            "overflow_x": null,
            "grid_auto_flow": null,
            "grid_area": null,
            "grid_template_columns": null,
            "flex": null,
            "_model_name": "LayoutModel",
            "justify_items": null,
            "grid_row": null,
            "max_height": null,
            "align_content": null,
            "visibility": null,
            "align_self": null,
            "height": null,
            "min_height": null,
            "padding": null,
            "grid_auto_rows": null,
            "grid_gap": null,
            "max_width": null,
            "order": null,
            "_view_module_version": "1.2.0",
            "grid_template_areas": null,
            "object_position": null,
            "object_fit": null,
            "grid_auto_columns": null,
            "margin": null,
            "display": null,
            "left": null
          }
        }
      }
    }
  },
  "cells": [
    {
      "cell_type": "markdown",
      "metadata": {
        "id": "view-in-github",
        "colab_type": "text"
      },
      "source": [
        "<a href=\"https://colab.research.google.com/github/iisuslik43/dul/blob/hw2/HW2.ipynb\" target=\"_parent\"><img src=\"https://colab.research.google.com/assets/colab-badge.svg\" alt=\"Open In Colab\"/></a>"
      ]
    },
    {
      "cell_type": "code",
      "metadata": {
        "colab_type": "code",
        "id": "_J3Uhb_XoIlW",
        "colab": {}
      },
      "source": [
        "# import os\n",
        "# os.environ['KMP_DUPLICATE_LIB_OK'] = 'True'\n",
        "import numpy as np\n",
        "import torch\n",
        "import torch.utils.data\n",
        "import matplotlib.pyplot as plt\n",
        "import torch.nn as nn\n",
        "import torch.nn.functional as F\n",
        "from tqdm import tqdm_notebook as tqdm\n",
        "import pickle\n",
        "import torch.nn.functional as F\n",
        "from sklearn.model_selection import train_test_split\n",
        "device = torch.device('cuda:0' if torch.cuda.is_available() else 'cpu')"
      ],
      "execution_count": 0,
      "outputs": []
    },
    {
      "cell_type": "code",
      "metadata": {
        "colab_type": "code",
        "id": "PIcxtmMyoLQR",
        "colab": {}
      },
      "source": [
        "def draw_losses(train_losses, test_losses):\n",
        "    plt.plot(list(range(len(train_losses))), train_losses, color='r', label='train')\n",
        "    plt.plot(list(range(len(test_losses))), test_losses, color='b', label='test')\n",
        "    plt.legend()\n",
        "    plt.show()\n",
        "def sample_data():\n",
        "  count = 100000\n",
        "  rand = np.random.RandomState(0)\n",
        "  a = [[-1.5, 2.5]] + rand.randn(count // 3, 2) * 0.2\n",
        "  b = [[1.5, 2.5]] + rand.randn(count // 3, 2) * 0.2\n",
        "  c = np.c_[2 * np.cos(np.linspace(0, np.pi, count // 3)),\n",
        "  -np.sin(np.linspace(0, np.pi, count // 3))]\n",
        "\n",
        "  c += rand.randn(*c.shape) * 0.2\n",
        "  data_x = np.concatenate([a, b, c], axis=0)\n",
        "  data_y = np.array([0] * len(a) + [1] * len(b) + [2] * len(c))\n",
        "  perm = rand.permutation(len(data_x))\n",
        "  return data_x[perm], data_y[perm]"
      ],
      "execution_count": 0,
      "outputs": []
    },
    {
      "cell_type": "code",
      "metadata": {
        "colab_type": "code",
        "id": "UI20PoCCCXOS",
        "colab": {}
      },
      "source": [
        "K = 10\n",
        "X, y = sample_data()\n",
        "X_train, X_test, y_train, y_test = train_test_split(X, y, test_size=0.2, random_state=42)"
      ],
      "execution_count": 0,
      "outputs": []
    },
    {
      "cell_type": "code",
      "metadata": {
        "colab_type": "code",
        "id": "WLejoqiGRYbI",
        "outputId": "bbc7ea2d-7e70-46d0-edb8-e030a4c48b16",
        "colab": {
          "base_uri": "https://localhost:8080/",
          "height": 269
        }
      },
      "source": [
        "image = np.zeros((800, 800))\n",
        "for (x1, x2), y1 in zip(X, y):\n",
        "  image[int(-x2 * 100 + 400)][int(x1 * 100 + 400)] = y1 + 1\n",
        "plt.imshow(image)\n",
        "plt.show()"
      ],
      "execution_count": 66,
      "outputs": [
        {
          "output_type": "display_data",
          "data": {
            "image/png": "[encoded data removed]",
            "text/plain": [
              "<Figure size 432x288 with 1 Axes>"
            ]
          },
          "metadata": {
            "tags": []
          }
        }
      ]
    },
    {
      "cell_type": "markdown",
      "metadata": {
        "id": "rA158-J5GZSv",
        "colab_type": "text"
      },
      "source": [
        "# 1 (CDF)\n"
      ]
    },
    {
      "cell_type": "code",
      "metadata": {
        "colab_type": "code",
        "id": "33u4GcKNHuvT",
        "colab": {}
      },
      "source": [
        "class MaskedLinear(nn.Linear):\n",
        "    def __init__(self, in_features, out_features, ms, bias=True):\n",
        "        super().__init__(in_features, out_features, bias)\n",
        "        m1, m2 = ms\n",
        "        mask = m2.reshape(-1, 1) >= m1.reshape(1, -1)\n",
        "        \n",
        "        mask = mask.astype(np.float32)\n",
        "        self.register_buffer('mask', torch.tensor(mask, dtype=torch.float32))\n",
        "        \n",
        "    def forward(self, x):\n",
        "        return F.linear(x, self.mask * self.weight, self.bias)\n",
        "\n",
        "class MADE(nn.Module):\n",
        "    def __init__(self, d=2, n=200, hidden_sizes=[200, 200]):\n",
        "        super(MADE, self).__init__()\n",
        "        self.d = d\n",
        "        self.n = n\n",
        "        input_size = 2\n",
        "        m = [np.array([1, 2])]\n",
        "        last_m = np.repeat(np.arange(self.d), self.n)\n",
        "        for layer_size in hidden_sizes:\n",
        "            m += [np.random.randint(m[-1].min(), d, size=layer_size)]\n",
        "        layers = [\n",
        "            MaskedLinear(input_size, hidden_sizes[0], m[0:2]),\n",
        "            nn.ReLU()\n",
        "        ]\n",
        "        for i in np.arange(1, len(hidden_sizes)):\n",
        "            layers += [\n",
        "                MaskedLinear(hidden_sizes[i-1], hidden_sizes[i], m[i:i + 2]),\n",
        "                nn.ReLU()\n",
        "            ]\n",
        "        \n",
        "        layers += [\n",
        "            MaskedLinear(hidden_sizes[-1], d * n, (m[-1], last_m))\n",
        "        ]\n",
        "        self.layers = nn.Sequential(*layers)\n",
        "        self.softmax = nn.Softmax(dim=2)\n",
        "        \n",
        "    def forward(self, x):\n",
        "        #x = x.reshape(-1, self.d)\n",
        "        x = self.layers(x)\n",
        "        x = x.reshape(-1, self.d, self.n)\n",
        "        return x"
      ],
      "execution_count": 0,
      "outputs": []
    },
    {
      "cell_type": "code",
      "metadata": {
        "colab_type": "code",
        "id": "e6xHYQynqU8i",
        "colab": {}
      },
      "source": [
        "normal_distr = torch.distributions.normal.Normal(0, 1)\n",
        "def normal(x, mu, sigma, pi):\n",
        "  batch_size = x.shape[0]\n",
        "  k = mu.shape[1]\n",
        "  x = x.repeat(k).reshape(k, batch_size).transpose(0, 1)\n",
        "  x = (x - mu) / sigma\n",
        "  return (normal_distr.cdf(x) * pi).sum(dim=1)\n",
        "\n",
        "def prob(x, mu, sigma, pi):\n",
        "  batch_size = x.shape[0]\n",
        "  k = mu.shape[1]\n",
        "  x = x.repeat(k).reshape(k, batch_size).transpose(0, 1)\n",
        "  norm = torch.exp(-(x - mu) ** 2 / (2 * sigma)) / (2 * np.pi * sigma) ** 0.5\n",
        "  return -torch.log((norm * pi).sum(dim=-1) + 1e-9).sum()"
      ],
      "execution_count": 0,
      "outputs": []
    },
    {
      "cell_type": "code",
      "metadata": {
        "colab_type": "code",
        "id": "ss5B-mibgP1I",
        "colab": {}
      },
      "source": [
        "class Flow(nn.Module):\n",
        "    def __init__(self, k):\n",
        "      super(Flow, self).__init__()\n",
        "      self.pi = nn.Sequential(MADE(2, k, [k, k]), nn.Softmax(dim=-1))\n",
        "      self.sigma = MADE(2, k, [k, k])\n",
        "      self.mu = MADE(2, k, [k, k])\n",
        "\n",
        "    def forward(self, x):\n",
        "        x1 = x[:,0]\n",
        "        x2 = x[:,1]\n",
        "        # (batch_size, 2, k)\n",
        "        pi, sigma, mu = self.pi(x), self.sigma(x), self.mu(x)\n",
        "        sigma = sigma ** 2\n",
        "        pi1, pi2 = pi[:,0,:], pi[:,1,:]\n",
        "        mu1, mu2 = mu[:,0,:], mu[:,1,:]\n",
        "        sigma1, sigma2 = sigma[:,0,:], sigma[:,1,:]\n",
        "        z1 = normal(x1, mu1, sigma1, pi1)\n",
        "        z2 = normal(x2, mu2, sigma2, pi2)\n",
        "        z = torch.cat((z1, z2)).reshape(-1, 2)\n",
        "        return z, pi, sigma, mu"
      ],
      "execution_count": 0,
      "outputs": []
    },
    {
      "cell_type": "code",
      "metadata": {
        "colab_type": "code",
        "id": "aqYrAl5qxWha",
        "colab": {}
      },
      "source": [
        "class SuperLoss(nn.Module):\n",
        "        \n",
        "    def forward(self, x, pi, sigma, mu):\n",
        "        batch_size = x.shape[0]\n",
        "        pi1, pi2 = pi[:,0,:], pi[:,1,:]\n",
        "        mu1, mu2 = mu[:,0,:], mu[:,1,:]\n",
        "        sigma1, sigma2 = sigma[:,0,:], sigma[:,1,:]\n",
        "        x1 = x[:,0]\n",
        "        x2 = x[:,1]\n",
        "        p1 = prob(x1, mu1, sigma1, pi1)\n",
        "        p2 = prob(x2, mu2, sigma2, pi2)\n",
        "        return (p1 * p2) / batch_size"
      ],
      "execution_count": 0,
      "outputs": []
    },
    {
      "cell_type": "code",
      "metadata": {
        "colab_type": "code",
        "id": "tDKrad-QQBVH",
        "colab": {}
      },
      "source": [
        "model_flow = Flow(K).to(device)\n",
        "losser = SuperLoss()\n",
        "dataset_train = torch.utils.data.DataLoader(X_train, batch_size=128, shuffle=True)\n",
        "dataset_test = torch.utils.data.DataLoader(X_test, batch_size=128, shuffle=True)\n",
        "optimizer = torch.optim.Adam(params=model_flow.parameters())"
      ],
      "execution_count": 0,
      "outputs": []
    },
    {
      "cell_type": "code",
      "metadata": {
        "colab_type": "code",
        "id": "2PBOKHD7Nbdi",
        "outputId": "1d82e256-f47c-4288-c77f-cce9fbd1d195",
        "colab": {
          "base_uri": "https://localhost:8080/",
          "height": 120,
          "referenced_widgets": [
            "4901555fa9204dd49bfbf2cfbb0413d6",
            "b46c41cbc6004586a2aa0500cbb8c5e3",
            "929647fcf027497a82715c98e08c4d3a",
            "c3035d7e24154e6997ac15e6c6c6c470",
            "18c51f56a11c49038df14d522430d240",
            "e0cab5b7f72242b2b34f65b7e78f9800",
            "2c5270ff644b4ee18200ba8fd54265de",
            "991900d9d0de4f6580c5b78e923288f0"
          ]
        }
      },
      "source": [
        "train_losses = []\n",
        "test_losses = []\n",
        "n_epochs = 20\n",
        "for epoch in tqdm(range(n_epochs)):\n",
        "    epoch_train = []\n",
        "    epoch_test = []\n",
        "    for X_batch in dataset_train:\n",
        "        X_batch = torch.tensor(X_batch, dtype=torch.float32).to(device)\n",
        "        optimizer.zero_grad()\n",
        "        z, pi, sigma, mu = model_flow(X_batch)\n",
        "        loss = losser(X_batch, pi, sigma, mu)\n",
        "        train_loss = loss.item()\n",
        "        loss.backward()\n",
        "        optimizer.step()\n",
        "        \n",
        "        epoch_train.append(train_loss)\n",
        "    #     break\n",
        "    # break\n",
        "    with torch.no_grad():\n",
        "      for test_batch in dataset_test:\n",
        "        test_batch = torch.tensor(test_batch, dtype=torch.float32).to(device)\n",
        "        z, pi, sigma, mu = model_flow(test_batch)\n",
        "        test_loss = losser(test_batch, pi, sigma, mu).item()\n",
        "        epoch_test.append(test_loss)\n",
        "    train_losses.append(np.mean(epoch_train))\n",
        "    test_losses.append(np.mean(epoch_test))"
      ],
      "execution_count": 72,
      "outputs": [
        {
          "output_type": "display_data",
          "data": {
            "application/vnd.jupyter.widget-view+json": {
              "model_id": "4901555fa9204dd49bfbf2cfbb0413d6",
              "version_minor": 0,
              "version_major": 2
            },
            "text/plain": [
              "HBox(children=(IntProgress(value=0, max=20), HTML(value='')))"
            ]
          },
          "metadata": {
            "tags": []
          }
        },
        {
          "output_type": "stream",
          "text": [
            "/usr/local/lib/python3.6/dist-packages/ipykernel_launcher.py:8: UserWarning: To copy construct from a tensor, it is recommended to use sourceTensor.clone().detach() or sourceTensor.clone().detach().requires_grad_(True), rather than torch.tensor(sourceTensor).\n",
            "  \n",
            "/usr/local/lib/python3.6/dist-packages/ipykernel_launcher.py:21: UserWarning: To copy construct from a tensor, it is recommended to use sourceTensor.clone().detach() or sourceTensor.clone().detach().requires_grad_(True), rather than torch.tensor(sourceTensor).\n"
          ],
          "name": "stderr"
        }
      ]
    },
    {
      "cell_type": "code",
      "metadata": {
        "colab_type": "code",
        "id": "-ZAqxtaNNhaV",
        "outputId": "55b36890-fcb9-4431-dee0-4392570eaac5",
        "colab": {
          "base_uri": "https://localhost:8080/",
          "height": 265
        }
      },
      "source": [
        "draw_losses(train_losses, test_losses)"
      ],
      "execution_count": 73,
      "outputs": [
        {
          "output_type": "display_data",
          "data": {
            "image/png": "[encoded data removed]",
            "text/plain": [
              "<Figure size 432x288 with 1 Axes>"
            ]
          },
          "metadata": {
            "tags": []
          }
        }
      ]
    },
    {
      "cell_type": "code",
      "metadata": {
        "colab_type": "code",
        "id": "gV7H-xiJDZqR",
        "colab": {}
      },
      "source": [
        "def prob_vector(x, mu, sigma, pi):\n",
        "  batch_size = x.shape[0]\n",
        "  k = mu.shape[1]\n",
        "  x = x.repeat(k).reshape(k, batch_size).transpose(0, 1)\n",
        "  norm = torch.exp(-(x - mu) ** 2 / (2 * sigma)) / (2 * np.pi * sigma) ** 0.5\n",
        "  return (norm * pi).sum(dim=1)\n",
        "\n",
        "def get_probs(x, pi, sigma, mu):\n",
        "  batch_size = x.shape[0]\n",
        "  pi1, pi2 = pi[:,0,:], pi[:,1,:]\n",
        "  mu1, mu2 = mu[:,0,:], mu[:,1,:]\n",
        "  sigma1, sigma2 = sigma[:,0,:], sigma[:,1,:]\n",
        "  x1 = x[:,0]\n",
        "  x2 = x[:,1]\n",
        "  p1 = prob_vector(x1, mu1, sigma1, pi1)\n",
        "  p2 = prob_vector(x2, mu2, sigma2, pi2)\n",
        "  return p1 * p2"
      ],
      "execution_count": 0,
      "outputs": []
    },
    {
      "cell_type": "code",
      "metadata": {
        "colab_type": "code",
        "id": "JdZU0XgDO1Zp",
        "outputId": "fecaa26d-840c-44dd-f4b1-3a6451f0c4ff",
        "colab": {
          "base_uri": "https://localhost:8080/",
          "height": 301,
          "referenced_widgets": [
            "550873870ec1414c927bf5a7a1604d38",
            "3012b9e00a5045bd9b9c66498f9970ef",
            "22390d9479164e3985b1eeded1108edd",
            "9ed47ed80ab947b5aab286b01a60a01a",
            "76faadcb7a6d4be1800e9f6b69d03ff8",
            "67f9959eb25b46ba992a192b5664dea3",
            "2d00f70085894da4b85b60203b05fe73",
            "81777e9cb2fc46b5a0eb4e7981915e0a"
          ]
        }
      },
      "source": [
        "image = np.zeros((801, 800))\n",
        "for x in tqdm(np.arange(-4, 4, 0.01)):\n",
        "    xy = torch.tensor([[x, y] for y in np.arange(-4, 4, 0.01)], dtype=torch.float32).to(device)\n",
        "    with torch.no_grad():\n",
        "        z, pi, sigma, mu = model_flow(xy)\n",
        "        proba = get_probs(xy, pi, sigma, mu).cpu().numpy()\n",
        "        for (_, y), p in zip(xy, proba):\n",
        "          image[int(-y * 100 + 400)][int(x * 100 + 400)] += p\n",
        "        \n",
        "plt.imshow(image)\n",
        "plt.show()"
      ],
      "execution_count": 78,
      "outputs": [
        {
          "output_type": "display_data",
          "data": {
            "application/vnd.jupyter.widget-view+json": {
              "model_id": "550873870ec1414c927bf5a7a1604d38",
              "version_minor": 0,
              "version_major": 2
            },
            "text/plain": [
              "HBox(children=(IntProgress(value=0, max=800), HTML(value='')))"
            ]
          },
          "metadata": {
            "tags": []
          }
        },
        {
          "output_type": "display_data",
          "data": {
            "image/png": "[encoded data removed]",
            "text/plain": [
              "<Figure size 432x288 with 1 Axes>"
            ]
          },
          "metadata": {
            "tags": []
          }
        }
      ]
    },
    {
      "cell_type": "code",
      "metadata": {
        "colab_type": "code",
        "id": "A7CXec_JQHbF",
        "outputId": "b028121d-0eb8-45f1-b4aa-41052b0fbecd",
        "colab": {
          "base_uri": "https://localhost:8080/",
          "height": 314,
          "referenced_widgets": [
            "f93d4a4ebcc84da78e16c4a05ce7e2bd",
            "c9a6870f317241669eef990de09bc394",
            "222ea468342248abab6d70f1acb9be9e",
            "628599eda4594d10a29f438927898486",
            "f162243ec18a451093227474d001a31b",
            "af8562bbf2aa4b5f9d3b672dc82ce4f5",
            "80201c60803b4a3cafc51ea46c2ab344",
            "1b08d6d69d124ad28bf9690f28f5265b"
          ]
        }
      },
      "source": [
        "for x, y in tqdm(list(zip(X_test, y_test))):\n",
        "  with torch.no_grad():\n",
        "    xy = torch.tensor([x], dtype=torch.float32).to(device)\n",
        "    z, pi, sigma, mu = model_flow(xy)\n",
        "  z = z[0].cpu().numpy()\n",
        "  colors = {0 : 'r', 1: 'g', 2: 'b'}\n",
        "  plt.plot(z[0], z[1], colors[y] + 'o')"
      ],
      "execution_count": 38,
      "outputs": [
        {
          "output_type": "display_data",
          "data": {
            "application/vnd.jupyter.widget-view+json": {
              "model_id": "f93d4a4ebcc84da78e16c4a05ce7e2bd",
              "version_minor": 0,
              "version_major": 2
            },
            "text/plain": [
              "HBox(children=(IntProgress(value=0, max=20000), HTML(value='')))"
            ]
          },
          "metadata": {
            "tags": []
          }
        },
        {
          "output_type": "stream",
          "text": [
            "\n"
          ],
          "name": "stdout"
        },
        {
          "output_type": "display_data",
          "data": {
            "image/png": "[encoded data removed]",
            "text/plain": [
              "<Figure size 432x288 with 1 Axes>"
            ]
          },
          "metadata": {
            "tags": []
          }
        }
      ]
    },
    {
      "cell_type": "markdown",
      "metadata": {
        "id": "eXAgG-kiGTZR",
        "colab_type": "text"
      },
      "source": [
        "# 2 (RealNVP)"
      ]
    },
    {
      "cell_type": "code",
      "metadata": {
        "id": "0mBbkb7jDN0U",
        "colab_type": "code",
        "colab": {}
      },
      "source": [
        "class MLLELoss(nn.Module): \n",
        "    def forward(self, x):\n",
        "        return -torch.log(x + 1e-9).mean()"
      ],
      "execution_count": 0,
      "outputs": []
    },
    {
      "cell_type": "code",
      "metadata": {
        "colab_type": "code",
        "id": "7Pm9AsTWV_v-",
        "colab": {}
      },
      "source": [
        "class MLP(nn.Module):\n",
        "    def __init__(self, hidden_sizes=[64, 64]):\n",
        "        super(MLP, self).__init__()\n",
        "        layers = [nn.Linear(2, hidden_sizes[0]), nn.ReLU()]\n",
        "        for i in range(1, len(hidden_sizes)):\n",
        "            layers += [nn.Linear(hidden_sizes[i - 1], hidden_sizes[i]),nn.ReLU()]\n",
        "        layers += [nn.Linear(hidden_sizes[-1], 1)]\n",
        "        self.layers = nn.Sequential(*layers)\n",
        "        \n",
        "    def forward(self, x):\n",
        "        x = self.layers(x)\n",
        "        return x\n"
      ],
      "execution_count": 0,
      "outputs": []
    },
    {
      "cell_type": "code",
      "metadata": {
        "colab_type": "code",
        "id": "z-hGIAH0WbMW",
        "colab": {}
      },
      "source": [
        "class CouplingLayer(nn.Module):\n",
        "    def __init__(self, mask):\n",
        "        super(CouplingLayer, self).__init__()\n",
        "        self.mask = mask.clone()\n",
        "        self.s = MLP()\n",
        "        self.t = MLP()\n",
        "\n",
        "        \n",
        "    def forward(self, x):\n",
        "        x_second = self.mask * x\n",
        "        x_first = (1 - self.mask) * x\n",
        "        s = torch.tanh(self.s(x_second))\n",
        "        t = self.t(x_second)\n",
        "        y = x_second + x_first * torch.exp(s) + (1 - self.mask) * t\n",
        "        logdet = s.sum(dim=1)\n",
        "        return y, logdet"
      ],
      "execution_count": 0,
      "outputs": []
    },
    {
      "cell_type": "code",
      "metadata": {
        "colab_type": "code",
        "id": "FH63iD1Da8pV",
        "colab": {}
      },
      "source": [
        "class ActNorm(nn.Module):\n",
        "    def __init__(self):\n",
        "        super(ActNorm, self).__init__()\n",
        "        self.s = nn.Parameter(torch.ones(2))\n",
        "        self.t = nn.Parameter(torch.zeros(2))\n",
        "        \n",
        "    def forward(self, x):\n",
        "        y = self.s * x + self.t\n",
        "        logdet = torch.log(self.s.abs() + 1e-9).sum()\n",
        "        return y, logdet"
      ],
      "execution_count": 0,
      "outputs": []
    },
    {
      "cell_type": "code",
      "metadata": {
        "colab_type": "code",
        "id": "nYKzMH06ZXq3",
        "colab": {}
      },
      "source": [
        "class RealNVP(nn.Module):\n",
        "    def __init__(self, hidden_size=4):\n",
        "        super(RealNVP, self).__init__()\n",
        "        layers = []\n",
        "        mask = torch.tensor([0, 1]).to(device)\n",
        "        for i in range(hidden_size):\n",
        "            layers += [CouplingLayer(mask), ActNorm()]\n",
        "            mask = 1 - mask\n",
        "        layers += [CouplingLayer(mask)]\n",
        "        self.layers = nn.Sequential(*layers)\n",
        "\n",
        "    def forward(self, x):\n",
        "        logdet = torch.zeros((x.shape[0])).to(device)\n",
        "        for layer in self.layers:\n",
        "          x, logdet1 = layer(x)\n",
        "          logdet += logdet1\n",
        "        x = torch.sigmoid(x)\n",
        "        logdet += torch.log(x * (1 - x) + 1e-9).sum(dim=1)\n",
        "        return x, torch.exp(logdet)\n",
        "        \n"
      ],
      "execution_count": 0,
      "outputs": []
    },
    {
      "cell_type": "code",
      "metadata": {
        "colab_type": "code",
        "id": "UhKjQu1hxNYs",
        "outputId": "d30cf5d5-1d75-465b-aa62-3d17d3475b1d",
        "colab": {
          "base_uri": "https://localhost:8080/",
          "height": 120,
          "referenced_widgets": [
            "8581e99bed93466e929a1b554b217a41",
            "e515703925c9410e87df283900964863",
            "aff200b1059c4396bd0702412c2db435",
            "04ae633501454a04bae5c72411a5d982",
            "79ee438828b44630868ceffcac312003",
            "ce6d4e220e704ccb8b12016e960e05ac",
            "39a8a4109fd140cbb87f42fc71872c32",
            "160ba4c67a1446dbbcb96d9069665868"
          ]
        }
      },
      "source": [
        "model_real_nvp = RealNVP().to(device)\n",
        "dataset_train = torch.utils.data.DataLoader(X_train, batch_size=128, shuffle=True)\n",
        "dataset_test = torch.utils.data.DataLoader(X_test, batch_size=128, shuffle=True)\n",
        "optimizer = torch.optim.Adam(params=model_real_nvp.parameters())\n",
        "losser = MLLELoss()\n",
        "\n",
        "train_losses = []\n",
        "test_losses = []\n",
        "n_epochs = 10\n",
        "for epoch in tqdm(range(n_epochs)):\n",
        "    epoch_train = []\n",
        "    epoch_test = []\n",
        "    for X_batch in dataset_train:\n",
        "        X_batch = torch.tensor(X_batch, dtype=torch.float32).to(device)\n",
        "        optimizer.zero_grad()\n",
        "        output, logdet = model_real_nvp(X_batch)\n",
        "        loss = losser(logdet)\n",
        "        train_loss = loss.item()\n",
        "        #print(logdet.min().item(), train_loss)\n",
        "        loss.backward()\n",
        "        optimizer.step()\n",
        "        epoch_train.append(train_loss)\n",
        "    with torch.no_grad():\n",
        "      for test_batch in dataset_test:\n",
        "        test_batch = torch.tensor(test_batch, dtype=torch.float32).to(device)\n",
        "        output, logdet = model_real_nvp(X_batch)\n",
        "        test_loss = losser(logdet).item()\n",
        "        epoch_test.append(test_loss)\n",
        "    train_losses.append(np.mean(epoch_train))\n",
        "    test_losses.append(np.mean(epoch_test))"
      ],
      "execution_count": 58,
      "outputs": [
        {
          "output_type": "display_data",
          "data": {
            "application/vnd.jupyter.widget-view+json": {
              "model_id": "8581e99bed93466e929a1b554b217a41",
              "version_minor": 0,
              "version_major": 2
            },
            "text/plain": [
              "HBox(children=(IntProgress(value=0, max=10), HTML(value='')))"
            ]
          },
          "metadata": {
            "tags": []
          }
        },
        {
          "output_type": "stream",
          "text": [
            "/usr/local/lib/python3.6/dist-packages/ipykernel_launcher.py:14: UserWarning: To copy construct from a tensor, it is recommended to use sourceTensor.clone().detach() or sourceTensor.clone().detach().requires_grad_(True), rather than torch.tensor(sourceTensor).\n",
            "  \n",
            "/usr/local/lib/python3.6/dist-packages/ipykernel_launcher.py:25: UserWarning: To copy construct from a tensor, it is recommended to use sourceTensor.clone().detach() or sourceTensor.clone().detach().requires_grad_(True), rather than torch.tensor(sourceTensor).\n"
          ],
          "name": "stderr"
        }
      ]
    },
    {
      "cell_type": "code",
      "metadata": {
        "colab_type": "code",
        "id": "R4uYEZtBxNe7",
        "outputId": "e6bb4b5f-d89a-49cd-a94c-bd0b60c3fe02",
        "colab": {
          "base_uri": "https://localhost:8080/",
          "height": 265
        }
      },
      "source": [
        "draw_losses(train_losses, test_losses)"
      ],
      "execution_count": 59,
      "outputs": [
        {
          "output_type": "display_data",
          "data": {
            "image/png": "[encoded data removed]",
            "text/plain": [
              "<Figure size 432x288 with 1 Axes>"
            ]
          },
          "metadata": {
            "tags": []
          }
        }
      ]
    },
    {
      "cell_type": "code",
      "metadata": {
        "colab_type": "code",
        "id": "Eh4ILMMOFkBR",
        "outputId": "3c8aa2b9-93c6-4f94-f58a-c4ba67d48f77",
        "colab": {
          "base_uri": "https://localhost:8080/",
          "height": 301,
          "referenced_widgets": [
            "c4042126c5b44e289aafd553cec3589f",
            "8a8e2b214f8c4ac29d9afb33852e36e6",
            "f9998571e6524f7b87cc5947be320535",
            "b94205fe87ce4091bbd02f6606208c9b",
            "651f493aba23477f94c6621526e55a98",
            "2f886727bd3c4c0faf272c16ba3e7522",
            "89985e1c11044be8931b4dda4b24e0d2",
            "7105d5ecb946477496695f261a30db48"
          ]
        }
      },
      "source": [
        "image = np.zeros((801, 800))\n",
        "for x in tqdm(np.arange(-4, 4, 0.01)):\n",
        "    xy = torch.tensor([[x, y] for y in np.arange(-4, 4, 0.01)], dtype=torch.float32).to(device)\n",
        "    with torch.no_grad():\n",
        "        output, logdet = model_real_nvp(xy)\n",
        "        logdet = logdet.cpu().numpy()\n",
        "        for (_, y), p in zip(xy, logdet):\n",
        "          image[int(-y * 100 + 400)][int(x * 100 + 400)] += p\n",
        "        \n",
        "plt.imshow(image)\n",
        "plt.show()"
      ],
      "execution_count": 79,
      "outputs": [
        {
          "output_type": "display_data",
          "data": {
            "application/vnd.jupyter.widget-view+json": {
              "model_id": "c4042126c5b44e289aafd553cec3589f",
              "version_minor": 0,
              "version_major": 2
            },
            "text/plain": [
              "HBox(children=(IntProgress(value=0, max=800), HTML(value='')))"
            ]
          },
          "metadata": {
            "tags": []
          }
        },
        {
          "output_type": "display_data",
          "data": {
            "image/png": "[encoded data removed]",
            "text/plain": [
              "<Figure size 432x288 with 1 Axes>"
            ]
          },
          "metadata": {
            "tags": []
          }
        }
      ]
    },
    {
      "cell_type": "code",
      "metadata": {
        "id": "_zOlna0EGC7X",
        "colab_type": "code",
        "colab": {
          "base_uri": "https://localhost:8080/",
          "height": 297,
          "referenced_widgets": [
            "e4a0dcc1cc8f4a97bc7c8c2bbaf2599c",
            "74ffe15134284af9b96108e61e941eeb",
            "0cefdcf2818b48979ce1222ebc0aee26",
            "a6c0d69369cf42eab85d3048124bb01e",
            "1dfcb32f4a574a4eb5b8e065c3a7458e",
            "9f510773da4847be9c51050edeeb8fc3",
            "bf2ac0003beb452faf74d2d1b6c47c47",
            "b74f21a1f87c44d496e52694ab934d5e"
          ]
        },
        "outputId": "e9bfb08a-712a-467d-9d67-e998b8ffba61"
      },
      "source": [
        "for x, y in tqdm(list(zip(X_test, y_test))):\n",
        "  with torch.no_grad():\n",
        "    xy = torch.tensor([x], dtype=torch.float32).to(device)\n",
        "    z, logdet = model_real_nvp(xy)\n",
        "  z = z.cpu().numpy()[0]\n",
        "  colors = {0 : 'r', 1: 'g', 2: 'b'}\n",
        "  plt.plot(z[0], z[1], colors[y] + 'o')"
      ],
      "execution_count": 61,
      "outputs": [
        {
          "output_type": "display_data",
          "data": {
            "application/vnd.jupyter.widget-view+json": {
              "model_id": "e4a0dcc1cc8f4a97bc7c8c2bbaf2599c",
              "version_minor": 0,
              "version_major": 2
            },
            "text/plain": [
              "HBox(children=(IntProgress(value=0, max=20000), HTML(value='')))"
            ]
          },
          "metadata": {
            "tags": []
          }
        },
        {
          "output_type": "display_data",
          "data": {
            "image/png": "[encoded data removed]",
            "text/plain": [
              "<Figure size 432x288 with 1 Axes>"
            ]
          },
          "metadata": {
            "tags": []
          }
        }
      ]
    },
    {
      "cell_type": "code",
      "metadata": {
        "id": "Vnyko1MZpbCi",
        "colab_type": "code",
        "colab": {}
      },
      "source": [
        ""
      ],
      "execution_count": 0,
      "outputs": []
    }
  ]
}